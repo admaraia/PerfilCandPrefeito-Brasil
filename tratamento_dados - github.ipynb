{
  "nbformat": 4,
  "nbformat_minor": 0,
  "metadata": {
    "kernelspec": {
      "display_name": "Python 3",
      "language": "python",
      "name": "python3"
    },
    "language_info": {
      "codemirror_mode": {
        "name": "ipython",
        "version": 3
      },
      "file_extension": ".py",
      "mimetype": "text/x-python",
      "name": "python",
      "nbconvert_exporter": "python",
      "pygments_lexer": "ipython3",
      "version": "3.7.6"
    },
    "colab": {
      "name": "tratamento_dados.ipynb",
      "provenance": []
    }
  },
  "cells": [
    {
      "cell_type": "markdown",
      "metadata": {
        "id": "N2bGOZXRyQvO"
      },
      "source": [
        "# Tratamento do dataset \"base_20122020.xls\""
      ]
    },
    {
      "cell_type": "code",
      "metadata": {
        "id": "6Ae4UIzByQvT"
      },
      "source": [
        "import pandas as pd\n",
        "import plotly.express as px\n",
        "import plotly.graph_objects as go\n",
        "from plotly.subplots import make_subplots\n",
        "import os\n",
        "import sys\n",
        "import seaborn as sns\n",
        "import matplotlib.pyplot as plt\n",
        "%matplotlib inline"
      ],
      "execution_count": 3,
      "outputs": []
    },
    {
      "cell_type": "markdown",
      "metadata": {
        "id": "69kH8Doby249"
      },
      "source": [
        "### Verifica o diretório atual e faz upload do dataset"
      ]
    },
    {
      "cell_type": "code",
      "metadata": {
        "colab": {
          "resources": {
            "http://localhost:8080/nbextensions/google.colab/files.js": {
              "data": "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",
              "ok": true,
              "headers": [
                [
                  "content-type",
                  "application/javascript"
                ]
              ],
              "status": 200,
              "status_text": ""
            }
          },
          "base_uri": "https://localhost:8080/",
          "height": 90
        },
        "id": "sCnzlJVtyQvU",
        "outputId": "51cd9536-ed04-4673-f443-36d3d543457e"
      },
      "source": [
        "#Verifica o diretório de execução e busca os dados\n",
        "print(os.getcwd())\n",
        "\n",
        "from google.colab import files\n",
        "uploaded = files.upload()\n"
      ],
      "execution_count": 4,
      "outputs": [
        {
          "output_type": "stream",
          "text": [
            "/content\n"
          ],
          "name": "stdout"
        },
        {
          "output_type": "display_data",
          "data": {
            "text/html": [
              "\n",
              "     <input type=\"file\" id=\"files-f4a21481-87f9-4161-8aed-c4d45796c82e\" name=\"files[]\" multiple disabled\n",
              "        style=\"border:none\" />\n",
              "     <output id=\"result-f4a21481-87f9-4161-8aed-c4d45796c82e\">\n",
              "      Upload widget is only available when the cell has been executed in the\n",
              "      current browser session. Please rerun this cell to enable.\n",
              "      </output>\n",
              "      <script src=\"/nbextensions/google.colab/files.js\"></script> "
            ],
            "text/plain": [
              "<IPython.core.display.HTML object>"
            ]
          },
          "metadata": {
            "tags": []
          }
        },
        {
          "output_type": "stream",
          "text": [
            "Saving base_20122020.xlsx to base_20122020.xlsx\n"
          ],
          "name": "stdout"
        }
      ]
    },
    {
      "cell_type": "markdown",
      "metadata": {
        "id": "pxCjRjLm2UtR"
      },
      "source": [
        "### Leitura do dataset\r\n",
        "#### Identificação da quantidade de linhas e colunas do dataset"
      ]
    },
    {
      "cell_type": "code",
      "metadata": {
        "colab": {
          "base_uri": "https://localhost:8080/"
        },
        "id": "KRdB7WWPyQvV",
        "outputId": "d4d3e27b-05e7-48a3-c52c-e7b54605a882"
      },
      "source": [
        "base = pd.read_excel(\"base_20122020.xlsx\")\n",
        "base.shape"
      ],
      "execution_count": 5,
      "outputs": [
        {
          "output_type": "execute_result",
          "data": {
            "text/plain": [
              "(49925, 21)"
            ]
          },
          "metadata": {
            "tags": []
          },
          "execution_count": 5
        }
      ]
    },
    {
      "cell_type": "markdown",
      "metadata": {
        "id": "LJrMX64Y3CTo"
      },
      "source": [
        "### Informações sobre os dados disponíveis no dataset"
      ]
    },
    {
      "cell_type": "code",
      "metadata": {
        "colab": {
          "base_uri": "https://localhost:8080/"
        },
        "id": "C7iVLmrRyQvV",
        "outputId": "0057e7ab-cfe3-4ceb-b473-c15cb0e63d3e"
      },
      "source": [
        "print(\"\\nDados disponíveis no dataset:\\n{0}\\n\".format(list(base.keys())))"
      ],
      "execution_count": 6,
      "outputs": [
        {
          "output_type": "stream",
          "text": [
            "\n",
            "Dados disponíveis no dataset:\n",
            "['ANO_ELEICAO', 'ABRANGENCIA', 'ESTADO', 'MUNICIPIO', 'CARGO', 'PARTIDO', 'COLIGACAO', 'ESTADO_NASCIMENTO', 'MUNICIPIO_NASCIMENTO', 'DT_NASCIMENTO', 'GENERO', 'GRAU_INSTRUCAO', 'ESTADO_CIVIL', 'COR_RACA', 'OCUPACAO', 'DESPESA_MAX_CAMPANHA', 'SITUACAO_FINAL', 'REELEICAO', 'IDADE', 'FAIXA_ETARIA_IBGE', 'Unnamed: 20']\n",
            "\n"
          ],
          "name": "stdout"
        }
      ]
    },
    {
      "cell_type": "code",
      "metadata": {
        "colab": {
          "base_uri": "https://localhost:8080/"
        },
        "id": "CVEyFBUByQvV",
        "outputId": "a5f99cd3-6fa2-4da4-97fb-7b09ebc5bf2c"
      },
      "source": [
        "# verificando as informações dos tipos de dados\n",
        "base.info()"
      ],
      "execution_count": 7,
      "outputs": [
        {
          "output_type": "stream",
          "text": [
            "<class 'pandas.core.frame.DataFrame'>\n",
            "RangeIndex: 49925 entries, 0 to 49924\n",
            "Data columns (total 21 columns):\n",
            " #   Column                Non-Null Count  Dtype  \n",
            "---  ------                --------------  -----  \n",
            " 0   ANO_ELEICAO           49925 non-null  int64  \n",
            " 1   ABRANGENCIA           49925 non-null  object \n",
            " 2   ESTADO                49925 non-null  object \n",
            " 3   MUNICIPIO             49925 non-null  object \n",
            " 4   CARGO                 49925 non-null  object \n",
            " 5   PARTIDO               49925 non-null  object \n",
            " 6   COLIGACAO             49925 non-null  object \n",
            " 7   ESTADO_NASCIMENTO     49925 non-null  object \n",
            " 8   MUNICIPIO_NASCIMENTO  49925 non-null  object \n",
            " 9   DT_NASCIMENTO         49913 non-null  object \n",
            " 10  GENERO                49925 non-null  object \n",
            " 11  GRAU_INSTRUCAO        49925 non-null  object \n",
            " 12  ESTADO_CIVIL          49925 non-null  object \n",
            " 13  COR_RACA              35108 non-null  object \n",
            " 14  OCUPACAO              49925 non-null  object \n",
            " 15  DESPESA_MAX_CAMPANHA  33530 non-null  float64\n",
            " 16  SITUACAO_FINAL        49925 non-null  object \n",
            " 17  REELEICAO             35108 non-null  object \n",
            " 18  IDADE                 49924 non-null  float64\n",
            " 19  FAIXA_ETARIA_IBGE     0 non-null      float64\n",
            " 20  Unnamed: 20           1 non-null      float64\n",
            "dtypes: float64(4), int64(1), object(16)\n",
            "memory usage: 8.0+ MB\n"
          ],
          "name": "stdout"
        }
      ]
    },
    {
      "cell_type": "code",
      "metadata": {
        "id": "ylKxXhTUyQvW"
      },
      "source": [
        "# Apagando colunas extras que não serão utilizadas, pois DESPESA_MAX_CAMPANHA nao tem para o ano 2016; Unnamed: 20 é nulo; OCUPACAO nao será utilizado\n",
        "base.drop(columns=['OCUPACAO','DESPESA_MAX_CAMPANHA', 'Unnamed: 20'],inplace=True)"
      ],
      "execution_count": 8,
      "outputs": []
    },
    {
      "cell_type": "code",
      "metadata": {
        "colab": {
          "base_uri": "https://localhost:8080/"
        },
        "id": "168tz8P3yQvW",
        "outputId": "473d9eaa-c2a8-4fbc-e4e0-20ce87ce1413"
      },
      "source": [
        "# verificando as colunas existentes após a limpeza\n",
        "print(\"\\nDados disponíveis no dataset:\\n{0}\\n\".format(list(base.keys())))"
      ],
      "execution_count": 9,
      "outputs": [
        {
          "output_type": "stream",
          "text": [
            "\n",
            "Dados disponíveis no dataset:\n",
            "['ANO_ELEICAO', 'ABRANGENCIA', 'ESTADO', 'MUNICIPIO', 'CARGO', 'PARTIDO', 'COLIGACAO', 'ESTADO_NASCIMENTO', 'MUNICIPIO_NASCIMENTO', 'DT_NASCIMENTO', 'GENERO', 'GRAU_INSTRUCAO', 'ESTADO_CIVIL', 'COR_RACA', 'SITUACAO_FINAL', 'REELEICAO', 'IDADE', 'FAIXA_ETARIA_IBGE']\n",
            "\n"
          ],
          "name": "stdout"
        }
      ]
    },
    {
      "cell_type": "code",
      "metadata": {
        "colab": {
          "base_uri": "https://localhost:8080/"
        },
        "id": "JuyeDGUFyQvW",
        "outputId": "1d8bb9b5-a0ba-487a-b509-ee001784db39"
      },
      "source": [
        "# Tipos dos dados\n",
        "print(\"\\nTipos dos dados:\\n{0}\\n\".format(base.dtypes))"
      ],
      "execution_count": 10,
      "outputs": [
        {
          "output_type": "stream",
          "text": [
            "\n",
            "Tipos dos dados:\n",
            "ANO_ELEICAO               int64\n",
            "ABRANGENCIA              object\n",
            "ESTADO                   object\n",
            "MUNICIPIO                object\n",
            "CARGO                    object\n",
            "PARTIDO                  object\n",
            "COLIGACAO                object\n",
            "ESTADO_NASCIMENTO        object\n",
            "MUNICIPIO_NASCIMENTO     object\n",
            "DT_NASCIMENTO            object\n",
            "GENERO                   object\n",
            "GRAU_INSTRUCAO           object\n",
            "ESTADO_CIVIL             object\n",
            "COR_RACA                 object\n",
            "SITUACAO_FINAL           object\n",
            "REELEICAO                object\n",
            "IDADE                   float64\n",
            "FAIXA_ETARIA_IBGE       float64\n",
            "dtype: object\n",
            "\n"
          ],
          "name": "stdout"
        }
      ]
    },
    {
      "cell_type": "code",
      "metadata": {
        "id": "TzB7vUtsyQvW",
        "colab": {
          "base_uri": "https://localhost:8080/",
          "height": 565
        },
        "outputId": "15faf330-c653-4125-f4e0-048be682219f"
      },
      "source": [
        "# Criando a faixa etaria\n",
        "\n",
        "base['FAIXA_ETARIA_IBGE']=pd.cut(base['IDADE'], bins=[18, 24, 29, 34, 39, 44, 49, 54, 59, 64, 69, 74, sys.maxsize],\n",
        "                                 labels=['18 – 24 anos', '25 – 29 anos', '30 – 34 anos', '35 – 39 anos','40 – 44 anos','45 – 49 anos', '50 – 54 anos','55 – 59 anos','60 – 64 anos', '65 – 69 anos', '70 – 74 anos','75 anos ou superior'])\n",
        "base.head(10)"
      ],
      "execution_count": 11,
      "outputs": [
        {
          "output_type": "execute_result",
          "data": {
            "text/html": [
              "<div>\n",
              "<style scoped>\n",
              "    .dataframe tbody tr th:only-of-type {\n",
              "        vertical-align: middle;\n",
              "    }\n",
              "\n",
              "    .dataframe tbody tr th {\n",
              "        vertical-align: top;\n",
              "    }\n",
              "\n",
              "    .dataframe thead th {\n",
              "        text-align: right;\n",
              "    }\n",
              "</style>\n",
              "<table border=\"1\" class=\"dataframe\">\n",
              "  <thead>\n",
              "    <tr style=\"text-align: right;\">\n",
              "      <th></th>\n",
              "      <th>ANO_ELEICAO</th>\n",
              "      <th>ABRANGENCIA</th>\n",
              "      <th>ESTADO</th>\n",
              "      <th>MUNICIPIO</th>\n",
              "      <th>CARGO</th>\n",
              "      <th>PARTIDO</th>\n",
              "      <th>COLIGACAO</th>\n",
              "      <th>ESTADO_NASCIMENTO</th>\n",
              "      <th>MUNICIPIO_NASCIMENTO</th>\n",
              "      <th>DT_NASCIMENTO</th>\n",
              "      <th>GENERO</th>\n",
              "      <th>GRAU_INSTRUCAO</th>\n",
              "      <th>ESTADO_CIVIL</th>\n",
              "      <th>COR_RACA</th>\n",
              "      <th>SITUACAO_FINAL</th>\n",
              "      <th>REELEICAO</th>\n",
              "      <th>IDADE</th>\n",
              "      <th>FAIXA_ETARIA_IBGE</th>\n",
              "    </tr>\n",
              "  </thead>\n",
              "  <tbody>\n",
              "    <tr>\n",
              "      <th>0</th>\n",
              "      <td>2020</td>\n",
              "      <td>MUNICIPAL</td>\n",
              "      <td>PB</td>\n",
              "      <td>SANTA RITA</td>\n",
              "      <td>PREFEITO</td>\n",
              "      <td>PSC</td>\n",
              "      <td>PSL / PSC / PROS / PL</td>\n",
              "      <td>PB</td>\n",
              "      <td>JOÃO PESSOA</td>\n",
              "      <td>1967-07-25 00:00:00</td>\n",
              "      <td>MASCULINO</td>\n",
              "      <td>SUPERIOR COMPLETO</td>\n",
              "      <td>DIVORCIADO(A)</td>\n",
              "      <td>BRANCA</td>\n",
              "      <td>NÃO ELEITO</td>\n",
              "      <td>N</td>\n",
              "      <td>53.0</td>\n",
              "      <td>50 – 54 anos</td>\n",
              "    </tr>\n",
              "    <tr>\n",
              "      <th>1</th>\n",
              "      <td>2020</td>\n",
              "      <td>MUNICIPAL</td>\n",
              "      <td>PR</td>\n",
              "      <td>APUCARANA</td>\n",
              "      <td>PREFEITO</td>\n",
              "      <td>REPUBLICANOS</td>\n",
              "      <td>REPUBLICANOS</td>\n",
              "      <td>PR</td>\n",
              "      <td>APUCARANA</td>\n",
              "      <td>1970-07-24 00:00:00</td>\n",
              "      <td>MASCULINO</td>\n",
              "      <td>SUPERIOR COMPLETO</td>\n",
              "      <td>CASADO(A)</td>\n",
              "      <td>BRANCA</td>\n",
              "      <td>NÃO ELEITO</td>\n",
              "      <td>N</td>\n",
              "      <td>50.0</td>\n",
              "      <td>50 – 54 anos</td>\n",
              "    </tr>\n",
              "    <tr>\n",
              "      <th>2</th>\n",
              "      <td>2020</td>\n",
              "      <td>MUNICIPAL</td>\n",
              "      <td>GO</td>\n",
              "      <td>SANTO ANTÔNIO DO DESCOBERTO</td>\n",
              "      <td>PREFEITO</td>\n",
              "      <td>SOLIDARIEDADE</td>\n",
              "      <td>SOLIDARIEDADE</td>\n",
              "      <td>PI</td>\n",
              "      <td>ÁGUA BRANCA</td>\n",
              "      <td>1968-01-14 00:00:00</td>\n",
              "      <td>MASCULINO</td>\n",
              "      <td>ENSINO MÉDIO COMPLETO</td>\n",
              "      <td>CASADO(A)</td>\n",
              "      <td>PARDA</td>\n",
              "      <td>NÃO ELEITO</td>\n",
              "      <td>N</td>\n",
              "      <td>52.0</td>\n",
              "      <td>50 – 54 anos</td>\n",
              "    </tr>\n",
              "    <tr>\n",
              "      <th>3</th>\n",
              "      <td>2020</td>\n",
              "      <td>MUNICIPAL</td>\n",
              "      <td>MG</td>\n",
              "      <td>PINGO D'ÁGUA</td>\n",
              "      <td>PREFEITO</td>\n",
              "      <td>PSD</td>\n",
              "      <td>PSD / DEM</td>\n",
              "      <td>MG</td>\n",
              "      <td>CÓRREGO NOVO</td>\n",
              "      <td>1972-12-16 00:00:00</td>\n",
              "      <td>MASCULINO</td>\n",
              "      <td>ENSINO MÉDIO COMPLETO</td>\n",
              "      <td>DIVORCIADO(A)</td>\n",
              "      <td>BRANCA</td>\n",
              "      <td>NÃO ELEITO</td>\n",
              "      <td>N</td>\n",
              "      <td>48.0</td>\n",
              "      <td>45 – 49 anos</td>\n",
              "    </tr>\n",
              "    <tr>\n",
              "      <th>4</th>\n",
              "      <td>2020</td>\n",
              "      <td>MUNICIPAL</td>\n",
              "      <td>MA</td>\n",
              "      <td>PENALVA</td>\n",
              "      <td>PREFEITO</td>\n",
              "      <td>PSDB</td>\n",
              "      <td>PTB / PSDB</td>\n",
              "      <td>MA</td>\n",
              "      <td>SÃO LUÍS</td>\n",
              "      <td>1984-04-29 00:00:00</td>\n",
              "      <td>MASCULINO</td>\n",
              "      <td>SUPERIOR COMPLETO</td>\n",
              "      <td>CASADO(A)</td>\n",
              "      <td>PARDA</td>\n",
              "      <td>NÃO ELEITO</td>\n",
              "      <td>N</td>\n",
              "      <td>36.0</td>\n",
              "      <td>35 – 39 anos</td>\n",
              "    </tr>\n",
              "    <tr>\n",
              "      <th>5</th>\n",
              "      <td>2020</td>\n",
              "      <td>MUNICIPAL</td>\n",
              "      <td>MG</td>\n",
              "      <td>VIEIRAS</td>\n",
              "      <td>PREFEITO</td>\n",
              "      <td>REPUBLICANOS</td>\n",
              "      <td>REPUBLICANOS / PT</td>\n",
              "      <td>MG</td>\n",
              "      <td>VIEIRAS</td>\n",
              "      <td>1977-03-03 00:00:00</td>\n",
              "      <td>MASCULINO</td>\n",
              "      <td>ENSINO FUNDAMENTAL INCOMPLETO</td>\n",
              "      <td>CASADO(A)</td>\n",
              "      <td>BRANCA</td>\n",
              "      <td>NÃO ELEITO</td>\n",
              "      <td>N</td>\n",
              "      <td>43.0</td>\n",
              "      <td>40 – 44 anos</td>\n",
              "    </tr>\n",
              "    <tr>\n",
              "      <th>6</th>\n",
              "      <td>2020</td>\n",
              "      <td>MUNICIPAL</td>\n",
              "      <td>PA</td>\n",
              "      <td>MOJUÍ DOS CAMPOS</td>\n",
              "      <td>PREFEITO</td>\n",
              "      <td>PSB</td>\n",
              "      <td>PSB</td>\n",
              "      <td>PA</td>\n",
              "      <td>SANTARÉM</td>\n",
              "      <td>1985-08-03 00:00:00</td>\n",
              "      <td>MASCULINO</td>\n",
              "      <td>SUPERIOR COMPLETO</td>\n",
              "      <td>SOLTEIRO(A)</td>\n",
              "      <td>PARDA</td>\n",
              "      <td>NÃO ELEITO</td>\n",
              "      <td>N</td>\n",
              "      <td>35.0</td>\n",
              "      <td>35 – 39 anos</td>\n",
              "    </tr>\n",
              "    <tr>\n",
              "      <th>7</th>\n",
              "      <td>2020</td>\n",
              "      <td>MUNICIPAL</td>\n",
              "      <td>SC</td>\n",
              "      <td>TIJUCAS</td>\n",
              "      <td>PREFEITO</td>\n",
              "      <td>PSC</td>\n",
              "      <td>PSC</td>\n",
              "      <td>SC</td>\n",
              "      <td>TIJUCAS</td>\n",
              "      <td>1977-07-11 00:00:00</td>\n",
              "      <td>MASCULINO</td>\n",
              "      <td>ENSINO MÉDIO COMPLETO</td>\n",
              "      <td>CASADO(A)</td>\n",
              "      <td>BRANCA</td>\n",
              "      <td>NÃO ELEITO</td>\n",
              "      <td>N</td>\n",
              "      <td>43.0</td>\n",
              "      <td>40 – 44 anos</td>\n",
              "    </tr>\n",
              "    <tr>\n",
              "      <th>8</th>\n",
              "      <td>2020</td>\n",
              "      <td>MUNICIPAL</td>\n",
              "      <td>SE</td>\n",
              "      <td>AREIA BRANCA</td>\n",
              "      <td>PREFEITO</td>\n",
              "      <td>PL</td>\n",
              "      <td>MDB / CIDADANIA / PL</td>\n",
              "      <td>SE</td>\n",
              "      <td>ITABAIANA</td>\n",
              "      <td>1968-11-17 00:00:00</td>\n",
              "      <td>MASCULINO</td>\n",
              "      <td>ENSINO MÉDIO COMPLETO</td>\n",
              "      <td>CASADO(A)</td>\n",
              "      <td>BRANCA</td>\n",
              "      <td>NÃO ELEITO</td>\n",
              "      <td>N</td>\n",
              "      <td>52.0</td>\n",
              "      <td>50 – 54 anos</td>\n",
              "    </tr>\n",
              "    <tr>\n",
              "      <th>9</th>\n",
              "      <td>2020</td>\n",
              "      <td>MUNICIPAL</td>\n",
              "      <td>PB</td>\n",
              "      <td>SÃO JOSÉ DO BONFIM</td>\n",
              "      <td>PREFEITO</td>\n",
              "      <td>PATRIOTA</td>\n",
              "      <td>PATRIOTA</td>\n",
              "      <td>PB</td>\n",
              "      <td>SÃO JOSÉ DO BONFIM</td>\n",
              "      <td>1965-03-25 00:00:00</td>\n",
              "      <td>MASCULINO</td>\n",
              "      <td>LÊ E ESCREVE</td>\n",
              "      <td>CASADO(A)</td>\n",
              "      <td>PARDA</td>\n",
              "      <td>NÃO ELEITO</td>\n",
              "      <td>N</td>\n",
              "      <td>55.0</td>\n",
              "      <td>55 – 59 anos</td>\n",
              "    </tr>\n",
              "  </tbody>\n",
              "</table>\n",
              "</div>"
            ],
            "text/plain": [
              "   ANO_ELEICAO ABRANGENCIA ESTADO  ... REELEICAO IDADE FAIXA_ETARIA_IBGE\n",
              "0         2020   MUNICIPAL     PB  ...         N  53.0      50 – 54 anos\n",
              "1         2020   MUNICIPAL     PR  ...         N  50.0      50 – 54 anos\n",
              "2         2020   MUNICIPAL     GO  ...         N  52.0      50 – 54 anos\n",
              "3         2020   MUNICIPAL     MG  ...         N  48.0      45 – 49 anos\n",
              "4         2020   MUNICIPAL     MA  ...         N  36.0      35 – 39 anos\n",
              "5         2020   MUNICIPAL     MG  ...         N  43.0      40 – 44 anos\n",
              "6         2020   MUNICIPAL     PA  ...         N  35.0      35 – 39 anos\n",
              "7         2020   MUNICIPAL     SC  ...         N  43.0      40 – 44 anos\n",
              "8         2020   MUNICIPAL     SE  ...         N  52.0      50 – 54 anos\n",
              "9         2020   MUNICIPAL     PB  ...         N  55.0      55 – 59 anos\n",
              "\n",
              "[10 rows x 18 columns]"
            ]
          },
          "metadata": {
            "tags": []
          },
          "execution_count": 11
        }
      ]
    },
    {
      "cell_type": "code",
      "metadata": {
        "id": "EGDNNnpQyQvX",
        "colab": {
          "base_uri": "https://localhost:8080/",
          "height": 707
        },
        "outputId": "e89eacb0-ed3d-4388-e22c-e83b47b5a35b"
      },
      "source": [
        "# verificando se idades superiores a 70 foram classificadas corretamente\n",
        "base.loc[base['IDADE']>70]"
      ],
      "execution_count": 12,
      "outputs": [
        {
          "output_type": "execute_result",
          "data": {
            "text/html": [
              "<div>\n",
              "<style scoped>\n",
              "    .dataframe tbody tr th:only-of-type {\n",
              "        vertical-align: middle;\n",
              "    }\n",
              "\n",
              "    .dataframe tbody tr th {\n",
              "        vertical-align: top;\n",
              "    }\n",
              "\n",
              "    .dataframe thead th {\n",
              "        text-align: right;\n",
              "    }\n",
              "</style>\n",
              "<table border=\"1\" class=\"dataframe\">\n",
              "  <thead>\n",
              "    <tr style=\"text-align: right;\">\n",
              "      <th></th>\n",
              "      <th>ANO_ELEICAO</th>\n",
              "      <th>ABRANGENCIA</th>\n",
              "      <th>ESTADO</th>\n",
              "      <th>MUNICIPIO</th>\n",
              "      <th>CARGO</th>\n",
              "      <th>PARTIDO</th>\n",
              "      <th>COLIGACAO</th>\n",
              "      <th>ESTADO_NASCIMENTO</th>\n",
              "      <th>MUNICIPIO_NASCIMENTO</th>\n",
              "      <th>DT_NASCIMENTO</th>\n",
              "      <th>GENERO</th>\n",
              "      <th>GRAU_INSTRUCAO</th>\n",
              "      <th>ESTADO_CIVIL</th>\n",
              "      <th>COR_RACA</th>\n",
              "      <th>SITUACAO_FINAL</th>\n",
              "      <th>REELEICAO</th>\n",
              "      <th>IDADE</th>\n",
              "      <th>FAIXA_ETARIA_IBGE</th>\n",
              "    </tr>\n",
              "  </thead>\n",
              "  <tbody>\n",
              "    <tr>\n",
              "      <th>43</th>\n",
              "      <td>2020</td>\n",
              "      <td>MUNICIPAL</td>\n",
              "      <td>SP</td>\n",
              "      <td>HOLAMBRA</td>\n",
              "      <td>PREFEITO</td>\n",
              "      <td>REPUBLICANOS</td>\n",
              "      <td>REPUBLICANOS</td>\n",
              "      <td>SP</td>\n",
              "      <td>MOGI MIRIM</td>\n",
              "      <td>1945-08-27 00:00:00</td>\n",
              "      <td>MASCULINO</td>\n",
              "      <td>ENSINO FUNDAMENTAL COMPLETO</td>\n",
              "      <td>CASADO(A)</td>\n",
              "      <td>BRANCA</td>\n",
              "      <td>NÃO ELEITO</td>\n",
              "      <td>N</td>\n",
              "      <td>75.0</td>\n",
              "      <td>75 anos ou superior</td>\n",
              "    </tr>\n",
              "    <tr>\n",
              "      <th>90</th>\n",
              "      <td>2020</td>\n",
              "      <td>MUNICIPAL</td>\n",
              "      <td>MG</td>\n",
              "      <td>RAUL SOARES</td>\n",
              "      <td>PREFEITO</td>\n",
              "      <td>PODE</td>\n",
              "      <td>PODE</td>\n",
              "      <td>MG</td>\n",
              "      <td>RAUL SOARES</td>\n",
              "      <td>1944-04-20 00:00:00</td>\n",
              "      <td>MASCULINO</td>\n",
              "      <td>SUPERIOR COMPLETO</td>\n",
              "      <td>CASADO(A)</td>\n",
              "      <td>BRANCA</td>\n",
              "      <td>NÃO ELEITO</td>\n",
              "      <td>N</td>\n",
              "      <td>76.0</td>\n",
              "      <td>75 anos ou superior</td>\n",
              "    </tr>\n",
              "    <tr>\n",
              "      <th>103</th>\n",
              "      <td>2020</td>\n",
              "      <td>MUNICIPAL</td>\n",
              "      <td>MG</td>\n",
              "      <td>BALDIM</td>\n",
              "      <td>PREFEITO</td>\n",
              "      <td>PODE</td>\n",
              "      <td>PODE</td>\n",
              "      <td>MG</td>\n",
              "      <td>BALDIM</td>\n",
              "      <td>1946-05-08 00:00:00</td>\n",
              "      <td>FEMININO</td>\n",
              "      <td>SUPERIOR COMPLETO</td>\n",
              "      <td>CASADO(A)</td>\n",
              "      <td>BRANCA</td>\n",
              "      <td>NÃO ELEITO</td>\n",
              "      <td>N</td>\n",
              "      <td>74.0</td>\n",
              "      <td>70 – 74 anos</td>\n",
              "    </tr>\n",
              "    <tr>\n",
              "      <th>146</th>\n",
              "      <td>2020</td>\n",
              "      <td>MUNICIPAL</td>\n",
              "      <td>ES</td>\n",
              "      <td>IBIRAÇU</td>\n",
              "      <td>PREFEITO</td>\n",
              "      <td>MDB</td>\n",
              "      <td>PSC / PSB / MDB / PSD</td>\n",
              "      <td>ES</td>\n",
              "      <td>IBIRAÇU</td>\n",
              "      <td>1946-07-27 00:00:00</td>\n",
              "      <td>MASCULINO</td>\n",
              "      <td>SUPERIOR COMPLETO</td>\n",
              "      <td>CASADO(A)</td>\n",
              "      <td>BRANCA</td>\n",
              "      <td>NÃO ELEITO</td>\n",
              "      <td>N</td>\n",
              "      <td>74.0</td>\n",
              "      <td>70 – 74 anos</td>\n",
              "    </tr>\n",
              "    <tr>\n",
              "      <th>150</th>\n",
              "      <td>2020</td>\n",
              "      <td>MUNICIPAL</td>\n",
              "      <td>SP</td>\n",
              "      <td>SANTOS</td>\n",
              "      <td>PREFEITO</td>\n",
              "      <td>CIDADANIA</td>\n",
              "      <td>CIDADANIA</td>\n",
              "      <td>SP</td>\n",
              "      <td>BAURU</td>\n",
              "      <td>1940-09-01 00:00:00</td>\n",
              "      <td>MASCULINO</td>\n",
              "      <td>SUPERIOR COMPLETO</td>\n",
              "      <td>CASADO(A)</td>\n",
              "      <td>BRANCA</td>\n",
              "      <td>NÃO ELEITO</td>\n",
              "      <td>N</td>\n",
              "      <td>80.0</td>\n",
              "      <td>75 anos ou superior</td>\n",
              "    </tr>\n",
              "    <tr>\n",
              "      <th>...</th>\n",
              "      <td>...</td>\n",
              "      <td>...</td>\n",
              "      <td>...</td>\n",
              "      <td>...</td>\n",
              "      <td>...</td>\n",
              "      <td>...</td>\n",
              "      <td>...</td>\n",
              "      <td>...</td>\n",
              "      <td>...</td>\n",
              "      <td>...</td>\n",
              "      <td>...</td>\n",
              "      <td>...</td>\n",
              "      <td>...</td>\n",
              "      <td>...</td>\n",
              "      <td>...</td>\n",
              "      <td>...</td>\n",
              "      <td>...</td>\n",
              "      <td>...</td>\n",
              "    </tr>\n",
              "    <tr>\n",
              "      <th>49620</th>\n",
              "      <td>2012</td>\n",
              "      <td>MUNICIPAL</td>\n",
              "      <td>TO</td>\n",
              "      <td>ARAGUATINS</td>\n",
              "      <td>PREFEITO</td>\n",
              "      <td>PSB</td>\n",
              "      <td>PP / PSC / PR / PPS / DEM / PHS / PSB / PV / P...</td>\n",
              "      <td>TO</td>\n",
              "      <td>ARAGUATINS</td>\n",
              "      <td>1941-10-10 00:00:00</td>\n",
              "      <td>MASCULINO</td>\n",
              "      <td>ENSINO FUNDAMENTAL INCOMPLETO</td>\n",
              "      <td>SOLTEIRO(A)</td>\n",
              "      <td>NaN</td>\n",
              "      <td>ELEITO</td>\n",
              "      <td>NaN</td>\n",
              "      <td>71.0</td>\n",
              "      <td>70 – 74 anos</td>\n",
              "    </tr>\n",
              "    <tr>\n",
              "      <th>49623</th>\n",
              "      <td>2012</td>\n",
              "      <td>MUNICIPAL</td>\n",
              "      <td>TO</td>\n",
              "      <td>ARAGOMINAS</td>\n",
              "      <td>PREFEITO</td>\n",
              "      <td>PP</td>\n",
              "      <td>PP / PDT / PMDB / PPS / PSB</td>\n",
              "      <td>GO</td>\n",
              "      <td>CATALÃO</td>\n",
              "      <td>1940-03-20 00:00:00</td>\n",
              "      <td>MASCULINO</td>\n",
              "      <td>ENSINO MÉDIO COMPLETO</td>\n",
              "      <td>CASADO(A)</td>\n",
              "      <td>NaN</td>\n",
              "      <td>ELEITO</td>\n",
              "      <td>NaN</td>\n",
              "      <td>72.0</td>\n",
              "      <td>70 – 74 anos</td>\n",
              "    </tr>\n",
              "    <tr>\n",
              "      <th>49710</th>\n",
              "      <td>2012</td>\n",
              "      <td>MUNICIPAL</td>\n",
              "      <td>TO</td>\n",
              "      <td>BRASILÂNDIA DO TOCANTINS</td>\n",
              "      <td>PREFEITO</td>\n",
              "      <td>PTB</td>\n",
              "      <td>PT / PTB / PPS / DEM / PV</td>\n",
              "      <td>MG</td>\n",
              "      <td>RIO PARANAIBA</td>\n",
              "      <td>1929-05-09 00:00:00</td>\n",
              "      <td>MASCULINO</td>\n",
              "      <td>LÊ E ESCREVE</td>\n",
              "      <td>CASADO(A)</td>\n",
              "      <td>NaN</td>\n",
              "      <td>NÃO ELEITO</td>\n",
              "      <td>NaN</td>\n",
              "      <td>83.0</td>\n",
              "      <td>75 anos ou superior</td>\n",
              "    </tr>\n",
              "    <tr>\n",
              "      <th>49805</th>\n",
              "      <td>2012</td>\n",
              "      <td>MUNICIPAL</td>\n",
              "      <td>TO</td>\n",
              "      <td>PARAÍSO DO TOCANTINS</td>\n",
              "      <td>PREFEITO</td>\n",
              "      <td>PMDB</td>\n",
              "      <td>PMDB / PSL / PTN / DEM / PMN / PTC / PSB / PSDB</td>\n",
              "      <td>PI</td>\n",
              "      <td>SANTA FILOMENA</td>\n",
              "      <td>1940-05-20 00:00:00</td>\n",
              "      <td>MASCULINO</td>\n",
              "      <td>SUPERIOR COMPLETO</td>\n",
              "      <td>CASADO(A)</td>\n",
              "      <td>NaN</td>\n",
              "      <td>ELEITO</td>\n",
              "      <td>NaN</td>\n",
              "      <td>72.0</td>\n",
              "      <td>70 – 74 anos</td>\n",
              "    </tr>\n",
              "    <tr>\n",
              "      <th>49863</th>\n",
              "      <td>2012</td>\n",
              "      <td>MUNICIPAL</td>\n",
              "      <td>TO</td>\n",
              "      <td>CARIRI DO TOCANTINS</td>\n",
              "      <td>PREFEITO</td>\n",
              "      <td>PMDB</td>\n",
              "      <td>PP / PT / PMDB / PSC / DEM / PSB</td>\n",
              "      <td>BA</td>\n",
              "      <td>SANTA MARIA DA VITORIA</td>\n",
              "      <td>1939-03-15 00:00:00</td>\n",
              "      <td>MASCULINO</td>\n",
              "      <td>SUPERIOR INCOMPLETO</td>\n",
              "      <td>CASADO(A)</td>\n",
              "      <td>NaN</td>\n",
              "      <td>NÃO ELEITO</td>\n",
              "      <td>NaN</td>\n",
              "      <td>73.0</td>\n",
              "      <td>70 – 74 anos</td>\n",
              "    </tr>\n",
              "  </tbody>\n",
              "</table>\n",
              "<p>1311 rows × 18 columns</p>\n",
              "</div>"
            ],
            "text/plain": [
              "       ANO_ELEICAO ABRANGENCIA ESTADO  ... REELEICAO IDADE    FAIXA_ETARIA_IBGE\n",
              "43            2020   MUNICIPAL     SP  ...         N  75.0  75 anos ou superior\n",
              "90            2020   MUNICIPAL     MG  ...         N  76.0  75 anos ou superior\n",
              "103           2020   MUNICIPAL     MG  ...         N  74.0         70 – 74 anos\n",
              "146           2020   MUNICIPAL     ES  ...         N  74.0         70 – 74 anos\n",
              "150           2020   MUNICIPAL     SP  ...         N  80.0  75 anos ou superior\n",
              "...            ...         ...    ...  ...       ...   ...                  ...\n",
              "49620         2012   MUNICIPAL     TO  ...       NaN  71.0         70 – 74 anos\n",
              "49623         2012   MUNICIPAL     TO  ...       NaN  72.0         70 – 74 anos\n",
              "49710         2012   MUNICIPAL     TO  ...       NaN  83.0  75 anos ou superior\n",
              "49805         2012   MUNICIPAL     TO  ...       NaN  72.0         70 – 74 anos\n",
              "49863         2012   MUNICIPAL     TO  ...       NaN  73.0         70 – 74 anos\n",
              "\n",
              "[1311 rows x 18 columns]"
            ]
          },
          "metadata": {
            "tags": []
          },
          "execution_count": 12
        }
      ]
    },
    {
      "cell_type": "code",
      "metadata": {
        "id": "Epwks3fNyQvX",
        "colab": {
          "base_uri": "https://localhost:8080/"
        },
        "outputId": "e78d832c-9c47-495e-fd6d-a80c6952262f"
      },
      "source": [
        "categ = base.dtypes[base.dtypes == \"category\"].index\n",
        "print(\"\\n\", base[categ].describe(), sep='\\n')"
      ],
      "execution_count": 13,
      "outputs": [
        {
          "output_type": "stream",
          "text": [
            "\n",
            "\n",
            "       FAIXA_ETARIA_IBGE\n",
            "count              49924\n",
            "unique                12\n",
            "top         45 – 49 anos\n",
            "freq                8677\n"
          ],
          "name": "stdout"
        }
      ]
    },
    {
      "cell_type": "code",
      "metadata": {
        "id": "aIjmBla_yQvY",
        "colab": {
          "base_uri": "https://localhost:8080/"
        },
        "outputId": "b87809d8-efd8-4d79-d82c-5d2901280953"
      },
      "source": [
        "categ = base.dtypes[base.dtypes == \"object\"].index\n",
        "print(\"\\n\", base[categ].describe(), sep='\\n')"
      ],
      "execution_count": 14,
      "outputs": [
        {
          "output_type": "stream",
          "text": [
            "\n",
            "\n",
            "       ABRANGENCIA ESTADO    MUNICIPIO  ... COR_RACA SITUACAO_FINAL REELEICAO\n",
            "count        49925  49925        49925  ...    35108          49925     35108\n",
            "unique           1     26         5354  ...        7              3         3\n",
            "top      MUNICIPAL     MG  SANTA LUZIA  ...   BRANCA     NÃO ELEITO         N\n",
            "freq         49925   7329           58  ...    22810          32953     30518\n",
            "\n",
            "[4 rows x 15 columns]\n"
          ],
          "name": "stdout"
        }
      ]
    },
    {
      "cell_type": "code",
      "metadata": {
        "id": "gMBBwIUNyQvY",
        "colab": {
          "base_uri": "https://localhost:8080/"
        },
        "outputId": "de7d1b4f-0a14-4b77-a8f6-e2207e96e4b2"
      },
      "source": [
        "# Verifica-se que SITUACAO_FINAL possui 3 CATEGORIAS e era para ter 2, ELEITO e NAO-ELEITO. Identificar as categorias existentes\n",
        "base['SITUACAO_FINAL'].unique()"
      ],
      "execution_count": 15,
      "outputs": [
        {
          "output_type": "execute_result",
          "data": {
            "text/plain": [
              "array(['NÃO ELEITO', 'ELEITO', '2º TURNO'], dtype=object)"
            ]
          },
          "metadata": {
            "tags": []
          },
          "execution_count": 15
        }
      ]
    },
    {
      "cell_type": "code",
      "metadata": {
        "id": "kw0McgeZyQvY",
        "colab": {
          "base_uri": "https://localhost:8080/"
        },
        "outputId": "b10176b4-4bb4-489f-89d6-a053e562b8b7"
      },
      "source": [
        "#Limpando os dados duplicados\n",
        "base = base[base['SITUACAO_FINAL'] != \"2º TURNO\"]\n",
        "base['SITUACAO_FINAL'].unique()"
      ],
      "execution_count": 16,
      "outputs": [
        {
          "output_type": "execute_result",
          "data": {
            "text/plain": [
              "array(['NÃO ELEITO', 'ELEITO'], dtype=object)"
            ]
          },
          "metadata": {
            "tags": []
          },
          "execution_count": 16
        }
      ]
    },
    {
      "cell_type": "code",
      "metadata": {
        "id": "br8c4rbwyQvY"
      },
      "source": [
        "#\"Criando uma nova coluna, a qual compara a cidade nascimento é igual a cidade candidatura\"\n",
        "base['CIDNAS_IGUAL_CIDCAND'] = 'NaN'\n",
        "\n",
        "for index, row in base.iterrows():\n",
        "    if row['MUNICIPIO'] == row['MUNICIPIO_NASCIMENTO']:\n",
        "        base.loc[index,'CIDNAS_IGUAL_CIDCAND'] =  'SIM' \n",
        "    else:\n",
        "        base.loc[index,'CIDNAS_IGUAL_CIDCAND'] =  'NAO'"
      ],
      "execution_count": 17,
      "outputs": []
    },
    {
      "cell_type": "code",
      "metadata": {
        "id": "Z8aw0XYUyQvZ"
      },
      "source": [
        "#\"Criando uma nova coluna, a qual informa se há coligação ou partido puro\"\n",
        "base['CAND_PURA_S_COLIG'] = 'NaN'\n",
        "\n",
        "for index, row in base.iterrows():\n",
        "    if row['PARTIDO'] == row['COLIGACAO']:\n",
        "        base.loc[index,'CAND_PURA_S_COLIG'] =  'SIM' \n",
        "    else:\n",
        "        base.loc[index,'CAND_PURA_S_COLIG'] =  'NAO'"
      ],
      "execution_count": 18,
      "outputs": []
    },
    {
      "cell_type": "code",
      "metadata": {
        "id": "SDRaJDLzyQvZ",
        "colab": {
          "base_uri": "https://localhost:8080/"
        },
        "outputId": "a6836d63-f296-47dd-97a4-d6170d0e25f4"
      },
      "source": [
        "#Verifica se existe dados nulos no dataset\n",
        "base.isnull().sum()"
      ],
      "execution_count": 19,
      "outputs": [
        {
          "output_type": "execute_result",
          "data": {
            "text/plain": [
              "ANO_ELEICAO                 0\n",
              "ABRANGENCIA                 0\n",
              "ESTADO                      0\n",
              "MUNICIPIO                   0\n",
              "CARGO                       0\n",
              "PARTIDO                     0\n",
              "COLIGACAO                   0\n",
              "ESTADO_NASCIMENTO           0\n",
              "MUNICIPIO_NASCIMENTO        0\n",
              "DT_NASCIMENTO              12\n",
              "GENERO                      0\n",
              "GRAU_INSTRUCAO              0\n",
              "ESTADO_CIVIL                0\n",
              "COR_RACA                14719\n",
              "SITUACAO_FINAL              0\n",
              "REELEICAO               14719\n",
              "IDADE                       1\n",
              "FAIXA_ETARIA_IBGE           1\n",
              "CIDNAS_IGUAL_CIDCAND        0\n",
              "CAND_PURA_S_COLIG           0\n",
              "dtype: int64"
            ]
          },
          "metadata": {
            "tags": []
          },
          "execution_count": 19
        }
      ]
    },
    {
      "cell_type": "code",
      "metadata": {
        "id": "aQxhw58LyQvZ",
        "colab": {
          "base_uri": "https://localhost:8080/"
        },
        "outputId": "8861ad47-de80-432f-c9f1-991696a44ba5"
      },
      "source": [
        "# Como sao poucos dados vou retirar dados de nascimento faltante e idade\n",
        "# Eliminando as linhas que estão nulas apenas nas colunas acima\n",
        "base.dropna(subset=['DT_NASCIMENTO','IDADE'], inplace=True)\n",
        "base.isnull().sum()"
      ],
      "execution_count": 20,
      "outputs": [
        {
          "output_type": "execute_result",
          "data": {
            "text/plain": [
              "ANO_ELEICAO                 0\n",
              "ABRANGENCIA                 0\n",
              "ESTADO                      0\n",
              "MUNICIPIO                   0\n",
              "CARGO                       0\n",
              "PARTIDO                     0\n",
              "COLIGACAO                   0\n",
              "ESTADO_NASCIMENTO           0\n",
              "MUNICIPIO_NASCIMENTO        0\n",
              "DT_NASCIMENTO               0\n",
              "GENERO                      0\n",
              "GRAU_INSTRUCAO              0\n",
              "ESTADO_CIVIL                0\n",
              "COR_RACA                14718\n",
              "SITUACAO_FINAL              0\n",
              "REELEICAO               14718\n",
              "IDADE                       0\n",
              "FAIXA_ETARIA_IBGE           0\n",
              "CIDNAS_IGUAL_CIDCAND        0\n",
              "CAND_PURA_S_COLIG           0\n",
              "dtype: int64"
            ]
          },
          "metadata": {
            "tags": []
          },
          "execution_count": 20
        }
      ]
    },
    {
      "cell_type": "code",
      "metadata": {
        "id": "y7Rm1VdOyQvZ",
        "colab": {
          "base_uri": "https://localhost:8080/",
          "height": 316
        },
        "outputId": "826b51cf-d323-48aa-b5eb-3aac6c377bce"
      },
      "source": [
        "base.head()"
      ],
      "execution_count": 21,
      "outputs": [
        {
          "output_type": "execute_result",
          "data": {
            "text/html": [
              "<div>\n",
              "<style scoped>\n",
              "    .dataframe tbody tr th:only-of-type {\n",
              "        vertical-align: middle;\n",
              "    }\n",
              "\n",
              "    .dataframe tbody tr th {\n",
              "        vertical-align: top;\n",
              "    }\n",
              "\n",
              "    .dataframe thead th {\n",
              "        text-align: right;\n",
              "    }\n",
              "</style>\n",
              "<table border=\"1\" class=\"dataframe\">\n",
              "  <thead>\n",
              "    <tr style=\"text-align: right;\">\n",
              "      <th></th>\n",
              "      <th>ANO_ELEICAO</th>\n",
              "      <th>ABRANGENCIA</th>\n",
              "      <th>ESTADO</th>\n",
              "      <th>MUNICIPIO</th>\n",
              "      <th>CARGO</th>\n",
              "      <th>PARTIDO</th>\n",
              "      <th>COLIGACAO</th>\n",
              "      <th>ESTADO_NASCIMENTO</th>\n",
              "      <th>MUNICIPIO_NASCIMENTO</th>\n",
              "      <th>DT_NASCIMENTO</th>\n",
              "      <th>GENERO</th>\n",
              "      <th>GRAU_INSTRUCAO</th>\n",
              "      <th>ESTADO_CIVIL</th>\n",
              "      <th>COR_RACA</th>\n",
              "      <th>SITUACAO_FINAL</th>\n",
              "      <th>REELEICAO</th>\n",
              "      <th>IDADE</th>\n",
              "      <th>FAIXA_ETARIA_IBGE</th>\n",
              "      <th>CIDNAS_IGUAL_CIDCAND</th>\n",
              "      <th>CAND_PURA_S_COLIG</th>\n",
              "    </tr>\n",
              "  </thead>\n",
              "  <tbody>\n",
              "    <tr>\n",
              "      <th>0</th>\n",
              "      <td>2020</td>\n",
              "      <td>MUNICIPAL</td>\n",
              "      <td>PB</td>\n",
              "      <td>SANTA RITA</td>\n",
              "      <td>PREFEITO</td>\n",
              "      <td>PSC</td>\n",
              "      <td>PSL / PSC / PROS / PL</td>\n",
              "      <td>PB</td>\n",
              "      <td>JOÃO PESSOA</td>\n",
              "      <td>1967-07-25 00:00:00</td>\n",
              "      <td>MASCULINO</td>\n",
              "      <td>SUPERIOR COMPLETO</td>\n",
              "      <td>DIVORCIADO(A)</td>\n",
              "      <td>BRANCA</td>\n",
              "      <td>NÃO ELEITO</td>\n",
              "      <td>N</td>\n",
              "      <td>53.0</td>\n",
              "      <td>50 – 54 anos</td>\n",
              "      <td>NAO</td>\n",
              "      <td>NAO</td>\n",
              "    </tr>\n",
              "    <tr>\n",
              "      <th>1</th>\n",
              "      <td>2020</td>\n",
              "      <td>MUNICIPAL</td>\n",
              "      <td>PR</td>\n",
              "      <td>APUCARANA</td>\n",
              "      <td>PREFEITO</td>\n",
              "      <td>REPUBLICANOS</td>\n",
              "      <td>REPUBLICANOS</td>\n",
              "      <td>PR</td>\n",
              "      <td>APUCARANA</td>\n",
              "      <td>1970-07-24 00:00:00</td>\n",
              "      <td>MASCULINO</td>\n",
              "      <td>SUPERIOR COMPLETO</td>\n",
              "      <td>CASADO(A)</td>\n",
              "      <td>BRANCA</td>\n",
              "      <td>NÃO ELEITO</td>\n",
              "      <td>N</td>\n",
              "      <td>50.0</td>\n",
              "      <td>50 – 54 anos</td>\n",
              "      <td>SIM</td>\n",
              "      <td>SIM</td>\n",
              "    </tr>\n",
              "    <tr>\n",
              "      <th>2</th>\n",
              "      <td>2020</td>\n",
              "      <td>MUNICIPAL</td>\n",
              "      <td>GO</td>\n",
              "      <td>SANTO ANTÔNIO DO DESCOBERTO</td>\n",
              "      <td>PREFEITO</td>\n",
              "      <td>SOLIDARIEDADE</td>\n",
              "      <td>SOLIDARIEDADE</td>\n",
              "      <td>PI</td>\n",
              "      <td>ÁGUA BRANCA</td>\n",
              "      <td>1968-01-14 00:00:00</td>\n",
              "      <td>MASCULINO</td>\n",
              "      <td>ENSINO MÉDIO COMPLETO</td>\n",
              "      <td>CASADO(A)</td>\n",
              "      <td>PARDA</td>\n",
              "      <td>NÃO ELEITO</td>\n",
              "      <td>N</td>\n",
              "      <td>52.0</td>\n",
              "      <td>50 – 54 anos</td>\n",
              "      <td>NAO</td>\n",
              "      <td>SIM</td>\n",
              "    </tr>\n",
              "    <tr>\n",
              "      <th>3</th>\n",
              "      <td>2020</td>\n",
              "      <td>MUNICIPAL</td>\n",
              "      <td>MG</td>\n",
              "      <td>PINGO D'ÁGUA</td>\n",
              "      <td>PREFEITO</td>\n",
              "      <td>PSD</td>\n",
              "      <td>PSD / DEM</td>\n",
              "      <td>MG</td>\n",
              "      <td>CÓRREGO NOVO</td>\n",
              "      <td>1972-12-16 00:00:00</td>\n",
              "      <td>MASCULINO</td>\n",
              "      <td>ENSINO MÉDIO COMPLETO</td>\n",
              "      <td>DIVORCIADO(A)</td>\n",
              "      <td>BRANCA</td>\n",
              "      <td>NÃO ELEITO</td>\n",
              "      <td>N</td>\n",
              "      <td>48.0</td>\n",
              "      <td>45 – 49 anos</td>\n",
              "      <td>NAO</td>\n",
              "      <td>NAO</td>\n",
              "    </tr>\n",
              "    <tr>\n",
              "      <th>4</th>\n",
              "      <td>2020</td>\n",
              "      <td>MUNICIPAL</td>\n",
              "      <td>MA</td>\n",
              "      <td>PENALVA</td>\n",
              "      <td>PREFEITO</td>\n",
              "      <td>PSDB</td>\n",
              "      <td>PTB / PSDB</td>\n",
              "      <td>MA</td>\n",
              "      <td>SÃO LUÍS</td>\n",
              "      <td>1984-04-29 00:00:00</td>\n",
              "      <td>MASCULINO</td>\n",
              "      <td>SUPERIOR COMPLETO</td>\n",
              "      <td>CASADO(A)</td>\n",
              "      <td>PARDA</td>\n",
              "      <td>NÃO ELEITO</td>\n",
              "      <td>N</td>\n",
              "      <td>36.0</td>\n",
              "      <td>35 – 39 anos</td>\n",
              "      <td>NAO</td>\n",
              "      <td>NAO</td>\n",
              "    </tr>\n",
              "  </tbody>\n",
              "</table>\n",
              "</div>"
            ],
            "text/plain": [
              "   ANO_ELEICAO ABRANGENCIA  ... CIDNAS_IGUAL_CIDCAND CAND_PURA_S_COLIG\n",
              "0         2020   MUNICIPAL  ...                  NAO               NAO\n",
              "1         2020   MUNICIPAL  ...                  SIM               SIM\n",
              "2         2020   MUNICIPAL  ...                  NAO               SIM\n",
              "3         2020   MUNICIPAL  ...                  NAO               NAO\n",
              "4         2020   MUNICIPAL  ...                  NAO               NAO\n",
              "\n",
              "[5 rows x 20 columns]"
            ]
          },
          "metadata": {
            "tags": []
          },
          "execution_count": 21
        }
      ]
    },
    {
      "cell_type": "code",
      "metadata": {
        "id": "7Y_1Gva1yQva",
        "colab": {
          "base_uri": "https://localhost:8080/",
          "height": 875
        },
        "outputId": "b0ee7ebb-9137-451f-f927-7fa4b80e4748"
      },
      "source": [
        "#Verificando qual o ano que apareceu os valores nulos na REELEICAO (nesse caso foi 2012) \n",
        "base.loc[base['REELEICAO'].isnull()]"
      ],
      "execution_count": 22,
      "outputs": [
        {
          "output_type": "execute_result",
          "data": {
            "text/html": [
              "<div>\n",
              "<style scoped>\n",
              "    .dataframe tbody tr th:only-of-type {\n",
              "        vertical-align: middle;\n",
              "    }\n",
              "\n",
              "    .dataframe tbody tr th {\n",
              "        vertical-align: top;\n",
              "    }\n",
              "\n",
              "    .dataframe thead th {\n",
              "        text-align: right;\n",
              "    }\n",
              "</style>\n",
              "<table border=\"1\" class=\"dataframe\">\n",
              "  <thead>\n",
              "    <tr style=\"text-align: right;\">\n",
              "      <th></th>\n",
              "      <th>ANO_ELEICAO</th>\n",
              "      <th>ABRANGENCIA</th>\n",
              "      <th>ESTADO</th>\n",
              "      <th>MUNICIPIO</th>\n",
              "      <th>CARGO</th>\n",
              "      <th>PARTIDO</th>\n",
              "      <th>COLIGACAO</th>\n",
              "      <th>ESTADO_NASCIMENTO</th>\n",
              "      <th>MUNICIPIO_NASCIMENTO</th>\n",
              "      <th>DT_NASCIMENTO</th>\n",
              "      <th>GENERO</th>\n",
              "      <th>GRAU_INSTRUCAO</th>\n",
              "      <th>ESTADO_CIVIL</th>\n",
              "      <th>COR_RACA</th>\n",
              "      <th>SITUACAO_FINAL</th>\n",
              "      <th>REELEICAO</th>\n",
              "      <th>IDADE</th>\n",
              "      <th>FAIXA_ETARIA_IBGE</th>\n",
              "      <th>CIDNAS_IGUAL_CIDCAND</th>\n",
              "      <th>CAND_PURA_S_COLIG</th>\n",
              "    </tr>\n",
              "  </thead>\n",
              "  <tbody>\n",
              "    <tr>\n",
              "      <th>35108</th>\n",
              "      <td>2012</td>\n",
              "      <td>MUNICIPAL</td>\n",
              "      <td>AC</td>\n",
              "      <td>CAPIXABA</td>\n",
              "      <td>PREFEITO</td>\n",
              "      <td>PMN</td>\n",
              "      <td>DEM / PMN</td>\n",
              "      <td>AC</td>\n",
              "      <td>RIO BRANCO</td>\n",
              "      <td>1961-12-10 00:00:00</td>\n",
              "      <td>FEMININO</td>\n",
              "      <td>SUPERIOR COMPLETO</td>\n",
              "      <td>SOLTEIRO(A)</td>\n",
              "      <td>NaN</td>\n",
              "      <td>NÃO ELEITO</td>\n",
              "      <td>NaN</td>\n",
              "      <td>51.0</td>\n",
              "      <td>50 – 54 anos</td>\n",
              "      <td>NAO</td>\n",
              "      <td>NAO</td>\n",
              "    </tr>\n",
              "    <tr>\n",
              "      <th>35109</th>\n",
              "      <td>2012</td>\n",
              "      <td>MUNICIPAL</td>\n",
              "      <td>AC</td>\n",
              "      <td>FEIJÓ</td>\n",
              "      <td>PREFEITO</td>\n",
              "      <td>PP</td>\n",
              "      <td>PP / PMDB</td>\n",
              "      <td>AC</td>\n",
              "      <td>FEIJO</td>\n",
              "      <td>1968-09-16 00:00:00</td>\n",
              "      <td>MASCULINO</td>\n",
              "      <td>ENSINO MÉDIO COMPLETO</td>\n",
              "      <td>CASADO(A)</td>\n",
              "      <td>NaN</td>\n",
              "      <td>NÃO ELEITO</td>\n",
              "      <td>NaN</td>\n",
              "      <td>44.0</td>\n",
              "      <td>40 – 44 anos</td>\n",
              "      <td>NAO</td>\n",
              "      <td>NAO</td>\n",
              "    </tr>\n",
              "    <tr>\n",
              "      <th>35110</th>\n",
              "      <td>2012</td>\n",
              "      <td>MUNICIPAL</td>\n",
              "      <td>AC</td>\n",
              "      <td>PORTO ACRE</td>\n",
              "      <td>PREFEITO</td>\n",
              "      <td>PT</td>\n",
              "      <td>PRB / PDT / PT / PTN / PSDC / PMN / PSB / PC do B</td>\n",
              "      <td>MG</td>\n",
              "      <td>ATALAIA</td>\n",
              "      <td>1963-06-04 00:00:00</td>\n",
              "      <td>MASCULINO</td>\n",
              "      <td>ENSINO MÉDIO COMPLETO</td>\n",
              "      <td>CASADO(A)</td>\n",
              "      <td>NaN</td>\n",
              "      <td>NÃO ELEITO</td>\n",
              "      <td>NaN</td>\n",
              "      <td>49.0</td>\n",
              "      <td>45 – 49 anos</td>\n",
              "      <td>NAO</td>\n",
              "      <td>NAO</td>\n",
              "    </tr>\n",
              "    <tr>\n",
              "      <th>35111</th>\n",
              "      <td>2012</td>\n",
              "      <td>MUNICIPAL</td>\n",
              "      <td>AC</td>\n",
              "      <td>PLÁCIDO DE CASTRO</td>\n",
              "      <td>PREFEITO</td>\n",
              "      <td>PSDB</td>\n",
              "      <td>PP / PTB / PPS / DEM / PRP / PSDB / PSD</td>\n",
              "      <td>TO</td>\n",
              "      <td>PORTO NACIONAL</td>\n",
              "      <td>1968-09-10 00:00:00</td>\n",
              "      <td>MASCULINO</td>\n",
              "      <td>ENSINO MÉDIO COMPLETO</td>\n",
              "      <td>SOLTEIRO(A)</td>\n",
              "      <td>NaN</td>\n",
              "      <td>NÃO ELEITO</td>\n",
              "      <td>NaN</td>\n",
              "      <td>44.0</td>\n",
              "      <td>40 – 44 anos</td>\n",
              "      <td>NAO</td>\n",
              "      <td>NAO</td>\n",
              "    </tr>\n",
              "    <tr>\n",
              "      <th>35112</th>\n",
              "      <td>2012</td>\n",
              "      <td>MUNICIPAL</td>\n",
              "      <td>AC</td>\n",
              "      <td>SANTA ROSA DO PURUS</td>\n",
              "      <td>PREFEITO</td>\n",
              "      <td>PSDB</td>\n",
              "      <td>PP / PMDB / PSC / PPS / PRP / PSDB / PSD</td>\n",
              "      <td>AC</td>\n",
              "      <td>SENE MADUREIRA</td>\n",
              "      <td>1974-03-30 00:00:00</td>\n",
              "      <td>MASCULINO</td>\n",
              "      <td>ENSINO MÉDIO INCOMPLETO</td>\n",
              "      <td>CASADO(A)</td>\n",
              "      <td>NaN</td>\n",
              "      <td>ELEITO</td>\n",
              "      <td>NaN</td>\n",
              "      <td>38.0</td>\n",
              "      <td>35 – 39 anos</td>\n",
              "      <td>NAO</td>\n",
              "      <td>NAO</td>\n",
              "    </tr>\n",
              "    <tr>\n",
              "      <th>...</th>\n",
              "      <td>...</td>\n",
              "      <td>...</td>\n",
              "      <td>...</td>\n",
              "      <td>...</td>\n",
              "      <td>...</td>\n",
              "      <td>...</td>\n",
              "      <td>...</td>\n",
              "      <td>...</td>\n",
              "      <td>...</td>\n",
              "      <td>...</td>\n",
              "      <td>...</td>\n",
              "      <td>...</td>\n",
              "      <td>...</td>\n",
              "      <td>...</td>\n",
              "      <td>...</td>\n",
              "      <td>...</td>\n",
              "      <td>...</td>\n",
              "      <td>...</td>\n",
              "      <td>...</td>\n",
              "      <td>...</td>\n",
              "    </tr>\n",
              "    <tr>\n",
              "      <th>49920</th>\n",
              "      <td>2012</td>\n",
              "      <td>MUNICIPAL</td>\n",
              "      <td>TO</td>\n",
              "      <td>CAMPOS LINDOS</td>\n",
              "      <td>PREFEITO</td>\n",
              "      <td>PSD</td>\n",
              "      <td>PRB / PTN / PPS / PMN / PV / PSDB / PSD</td>\n",
              "      <td>GO</td>\n",
              "      <td>JANDAIA</td>\n",
              "      <td>1964-03-06 00:00:00</td>\n",
              "      <td>MASCULINO</td>\n",
              "      <td>ENSINO FUNDAMENTAL COMPLETO</td>\n",
              "      <td>DIVORCIADO(A)</td>\n",
              "      <td>NaN</td>\n",
              "      <td>ELEITO</td>\n",
              "      <td>NaN</td>\n",
              "      <td>48.0</td>\n",
              "      <td>45 – 49 anos</td>\n",
              "      <td>NAO</td>\n",
              "      <td>NAO</td>\n",
              "    </tr>\n",
              "    <tr>\n",
              "      <th>49921</th>\n",
              "      <td>2012</td>\n",
              "      <td>MUNICIPAL</td>\n",
              "      <td>TO</td>\n",
              "      <td>BANDEIRANTES DO TOCANTINS</td>\n",
              "      <td>PREFEITO</td>\n",
              "      <td>PR</td>\n",
              "      <td>PT / PMDB / PR / PPS / PRTB / PSB / PPL</td>\n",
              "      <td>GO</td>\n",
              "      <td>MORINHOS</td>\n",
              "      <td>1952-04-01 00:00:00</td>\n",
              "      <td>FEMININO</td>\n",
              "      <td>ENSINO MÉDIO COMPLETO</td>\n",
              "      <td>CASADO(A)</td>\n",
              "      <td>NaN</td>\n",
              "      <td>ELEITO</td>\n",
              "      <td>NaN</td>\n",
              "      <td>60.0</td>\n",
              "      <td>60 – 64 anos</td>\n",
              "      <td>NAO</td>\n",
              "      <td>NAO</td>\n",
              "    </tr>\n",
              "    <tr>\n",
              "      <th>49922</th>\n",
              "      <td>2012</td>\n",
              "      <td>MUNICIPAL</td>\n",
              "      <td>TO</td>\n",
              "      <td>TAIPAS DO TOCANTINS</td>\n",
              "      <td>PREFEITO</td>\n",
              "      <td>PV</td>\n",
              "      <td>PV</td>\n",
              "      <td>TO</td>\n",
              "      <td>DIANOPOLIS</td>\n",
              "      <td>1976-04-17 00:00:00</td>\n",
              "      <td>MASCULINO</td>\n",
              "      <td>SUPERIOR COMPLETO</td>\n",
              "      <td>SOLTEIRO(A)</td>\n",
              "      <td>NaN</td>\n",
              "      <td>NÃO ELEITO</td>\n",
              "      <td>NaN</td>\n",
              "      <td>36.0</td>\n",
              "      <td>35 – 39 anos</td>\n",
              "      <td>NAO</td>\n",
              "      <td>SIM</td>\n",
              "    </tr>\n",
              "    <tr>\n",
              "      <th>49923</th>\n",
              "      <td>2012</td>\n",
              "      <td>MUNICIPAL</td>\n",
              "      <td>TO</td>\n",
              "      <td>TAIPAS DO TOCANTINS</td>\n",
              "      <td>PREFEITO</td>\n",
              "      <td>PSD</td>\n",
              "      <td>PSD / PDT</td>\n",
              "      <td>TO</td>\n",
              "      <td>ARRAIAS</td>\n",
              "      <td>1949-05-27 00:00:00</td>\n",
              "      <td>MASCULINO</td>\n",
              "      <td>SUPERIOR COMPLETO</td>\n",
              "      <td>SOLTEIRO(A)</td>\n",
              "      <td>NaN</td>\n",
              "      <td>ELEITO</td>\n",
              "      <td>NaN</td>\n",
              "      <td>63.0</td>\n",
              "      <td>60 – 64 anos</td>\n",
              "      <td>NAO</td>\n",
              "      <td>NAO</td>\n",
              "    </tr>\n",
              "    <tr>\n",
              "      <th>49924</th>\n",
              "      <td>2012</td>\n",
              "      <td>MUNICIPAL</td>\n",
              "      <td>TO</td>\n",
              "      <td>TAIPAS DO TOCANTINS</td>\n",
              "      <td>PREFEITO</td>\n",
              "      <td>PSDB</td>\n",
              "      <td>PSDB / PTB / PR</td>\n",
              "      <td>TO</td>\n",
              "      <td>TAIPAS DO TOCANTINS</td>\n",
              "      <td>1958-02-15 00:00:00</td>\n",
              "      <td>FEMININO</td>\n",
              "      <td>ENSINO MÉDIO COMPLETO</td>\n",
              "      <td>SOLTEIRO(A)</td>\n",
              "      <td>NaN</td>\n",
              "      <td>NÃO ELEITO</td>\n",
              "      <td>NaN</td>\n",
              "      <td>54.0</td>\n",
              "      <td>50 – 54 anos</td>\n",
              "      <td>SIM</td>\n",
              "      <td>NAO</td>\n",
              "    </tr>\n",
              "  </tbody>\n",
              "</table>\n",
              "<p>14718 rows × 20 columns</p>\n",
              "</div>"
            ],
            "text/plain": [
              "       ANO_ELEICAO ABRANGENCIA  ... CIDNAS_IGUAL_CIDCAND CAND_PURA_S_COLIG\n",
              "35108         2012   MUNICIPAL  ...                  NAO               NAO\n",
              "35109         2012   MUNICIPAL  ...                  NAO               NAO\n",
              "35110         2012   MUNICIPAL  ...                  NAO               NAO\n",
              "35111         2012   MUNICIPAL  ...                  NAO               NAO\n",
              "35112         2012   MUNICIPAL  ...                  NAO               NAO\n",
              "...            ...         ...  ...                  ...               ...\n",
              "49920         2012   MUNICIPAL  ...                  NAO               NAO\n",
              "49921         2012   MUNICIPAL  ...                  NAO               NAO\n",
              "49922         2012   MUNICIPAL  ...                  NAO               SIM\n",
              "49923         2012   MUNICIPAL  ...                  NAO               NAO\n",
              "49924         2012   MUNICIPAL  ...                  SIM               NAO\n",
              "\n",
              "[14718 rows x 20 columns]"
            ]
          },
          "metadata": {
            "tags": []
          },
          "execution_count": 22
        }
      ]
    },
    {
      "cell_type": "code",
      "metadata": {
        "id": "HwJ-iJDEyQva",
        "colab": {
          "base_uri": "https://localhost:8080/",
          "height": 875
        },
        "outputId": "657e1879-8f52-45af-b013-f5b3903cc13c"
      },
      "source": [
        "#Verificando qual o ano que apareceu os valores nulos na cor_Raca (nesse caso foi 2012) \n",
        "base.loc[base['COR_RACA'].isnull()]"
      ],
      "execution_count": 23,
      "outputs": [
        {
          "output_type": "execute_result",
          "data": {
            "text/html": [
              "<div>\n",
              "<style scoped>\n",
              "    .dataframe tbody tr th:only-of-type {\n",
              "        vertical-align: middle;\n",
              "    }\n",
              "\n",
              "    .dataframe tbody tr th {\n",
              "        vertical-align: top;\n",
              "    }\n",
              "\n",
              "    .dataframe thead th {\n",
              "        text-align: right;\n",
              "    }\n",
              "</style>\n",
              "<table border=\"1\" class=\"dataframe\">\n",
              "  <thead>\n",
              "    <tr style=\"text-align: right;\">\n",
              "      <th></th>\n",
              "      <th>ANO_ELEICAO</th>\n",
              "      <th>ABRANGENCIA</th>\n",
              "      <th>ESTADO</th>\n",
              "      <th>MUNICIPIO</th>\n",
              "      <th>CARGO</th>\n",
              "      <th>PARTIDO</th>\n",
              "      <th>COLIGACAO</th>\n",
              "      <th>ESTADO_NASCIMENTO</th>\n",
              "      <th>MUNICIPIO_NASCIMENTO</th>\n",
              "      <th>DT_NASCIMENTO</th>\n",
              "      <th>GENERO</th>\n",
              "      <th>GRAU_INSTRUCAO</th>\n",
              "      <th>ESTADO_CIVIL</th>\n",
              "      <th>COR_RACA</th>\n",
              "      <th>SITUACAO_FINAL</th>\n",
              "      <th>REELEICAO</th>\n",
              "      <th>IDADE</th>\n",
              "      <th>FAIXA_ETARIA_IBGE</th>\n",
              "      <th>CIDNAS_IGUAL_CIDCAND</th>\n",
              "      <th>CAND_PURA_S_COLIG</th>\n",
              "    </tr>\n",
              "  </thead>\n",
              "  <tbody>\n",
              "    <tr>\n",
              "      <th>35108</th>\n",
              "      <td>2012</td>\n",
              "      <td>MUNICIPAL</td>\n",
              "      <td>AC</td>\n",
              "      <td>CAPIXABA</td>\n",
              "      <td>PREFEITO</td>\n",
              "      <td>PMN</td>\n",
              "      <td>DEM / PMN</td>\n",
              "      <td>AC</td>\n",
              "      <td>RIO BRANCO</td>\n",
              "      <td>1961-12-10 00:00:00</td>\n",
              "      <td>FEMININO</td>\n",
              "      <td>SUPERIOR COMPLETO</td>\n",
              "      <td>SOLTEIRO(A)</td>\n",
              "      <td>NaN</td>\n",
              "      <td>NÃO ELEITO</td>\n",
              "      <td>NaN</td>\n",
              "      <td>51.0</td>\n",
              "      <td>50 – 54 anos</td>\n",
              "      <td>NAO</td>\n",
              "      <td>NAO</td>\n",
              "    </tr>\n",
              "    <tr>\n",
              "      <th>35109</th>\n",
              "      <td>2012</td>\n",
              "      <td>MUNICIPAL</td>\n",
              "      <td>AC</td>\n",
              "      <td>FEIJÓ</td>\n",
              "      <td>PREFEITO</td>\n",
              "      <td>PP</td>\n",
              "      <td>PP / PMDB</td>\n",
              "      <td>AC</td>\n",
              "      <td>FEIJO</td>\n",
              "      <td>1968-09-16 00:00:00</td>\n",
              "      <td>MASCULINO</td>\n",
              "      <td>ENSINO MÉDIO COMPLETO</td>\n",
              "      <td>CASADO(A)</td>\n",
              "      <td>NaN</td>\n",
              "      <td>NÃO ELEITO</td>\n",
              "      <td>NaN</td>\n",
              "      <td>44.0</td>\n",
              "      <td>40 – 44 anos</td>\n",
              "      <td>NAO</td>\n",
              "      <td>NAO</td>\n",
              "    </tr>\n",
              "    <tr>\n",
              "      <th>35110</th>\n",
              "      <td>2012</td>\n",
              "      <td>MUNICIPAL</td>\n",
              "      <td>AC</td>\n",
              "      <td>PORTO ACRE</td>\n",
              "      <td>PREFEITO</td>\n",
              "      <td>PT</td>\n",
              "      <td>PRB / PDT / PT / PTN / PSDC / PMN / PSB / PC do B</td>\n",
              "      <td>MG</td>\n",
              "      <td>ATALAIA</td>\n",
              "      <td>1963-06-04 00:00:00</td>\n",
              "      <td>MASCULINO</td>\n",
              "      <td>ENSINO MÉDIO COMPLETO</td>\n",
              "      <td>CASADO(A)</td>\n",
              "      <td>NaN</td>\n",
              "      <td>NÃO ELEITO</td>\n",
              "      <td>NaN</td>\n",
              "      <td>49.0</td>\n",
              "      <td>45 – 49 anos</td>\n",
              "      <td>NAO</td>\n",
              "      <td>NAO</td>\n",
              "    </tr>\n",
              "    <tr>\n",
              "      <th>35111</th>\n",
              "      <td>2012</td>\n",
              "      <td>MUNICIPAL</td>\n",
              "      <td>AC</td>\n",
              "      <td>PLÁCIDO DE CASTRO</td>\n",
              "      <td>PREFEITO</td>\n",
              "      <td>PSDB</td>\n",
              "      <td>PP / PTB / PPS / DEM / PRP / PSDB / PSD</td>\n",
              "      <td>TO</td>\n",
              "      <td>PORTO NACIONAL</td>\n",
              "      <td>1968-09-10 00:00:00</td>\n",
              "      <td>MASCULINO</td>\n",
              "      <td>ENSINO MÉDIO COMPLETO</td>\n",
              "      <td>SOLTEIRO(A)</td>\n",
              "      <td>NaN</td>\n",
              "      <td>NÃO ELEITO</td>\n",
              "      <td>NaN</td>\n",
              "      <td>44.0</td>\n",
              "      <td>40 – 44 anos</td>\n",
              "      <td>NAO</td>\n",
              "      <td>NAO</td>\n",
              "    </tr>\n",
              "    <tr>\n",
              "      <th>35112</th>\n",
              "      <td>2012</td>\n",
              "      <td>MUNICIPAL</td>\n",
              "      <td>AC</td>\n",
              "      <td>SANTA ROSA DO PURUS</td>\n",
              "      <td>PREFEITO</td>\n",
              "      <td>PSDB</td>\n",
              "      <td>PP / PMDB / PSC / PPS / PRP / PSDB / PSD</td>\n",
              "      <td>AC</td>\n",
              "      <td>SENE MADUREIRA</td>\n",
              "      <td>1974-03-30 00:00:00</td>\n",
              "      <td>MASCULINO</td>\n",
              "      <td>ENSINO MÉDIO INCOMPLETO</td>\n",
              "      <td>CASADO(A)</td>\n",
              "      <td>NaN</td>\n",
              "      <td>ELEITO</td>\n",
              "      <td>NaN</td>\n",
              "      <td>38.0</td>\n",
              "      <td>35 – 39 anos</td>\n",
              "      <td>NAO</td>\n",
              "      <td>NAO</td>\n",
              "    </tr>\n",
              "    <tr>\n",
              "      <th>...</th>\n",
              "      <td>...</td>\n",
              "      <td>...</td>\n",
              "      <td>...</td>\n",
              "      <td>...</td>\n",
              "      <td>...</td>\n",
              "      <td>...</td>\n",
              "      <td>...</td>\n",
              "      <td>...</td>\n",
              "      <td>...</td>\n",
              "      <td>...</td>\n",
              "      <td>...</td>\n",
              "      <td>...</td>\n",
              "      <td>...</td>\n",
              "      <td>...</td>\n",
              "      <td>...</td>\n",
              "      <td>...</td>\n",
              "      <td>...</td>\n",
              "      <td>...</td>\n",
              "      <td>...</td>\n",
              "      <td>...</td>\n",
              "    </tr>\n",
              "    <tr>\n",
              "      <th>49920</th>\n",
              "      <td>2012</td>\n",
              "      <td>MUNICIPAL</td>\n",
              "      <td>TO</td>\n",
              "      <td>CAMPOS LINDOS</td>\n",
              "      <td>PREFEITO</td>\n",
              "      <td>PSD</td>\n",
              "      <td>PRB / PTN / PPS / PMN / PV / PSDB / PSD</td>\n",
              "      <td>GO</td>\n",
              "      <td>JANDAIA</td>\n",
              "      <td>1964-03-06 00:00:00</td>\n",
              "      <td>MASCULINO</td>\n",
              "      <td>ENSINO FUNDAMENTAL COMPLETO</td>\n",
              "      <td>DIVORCIADO(A)</td>\n",
              "      <td>NaN</td>\n",
              "      <td>ELEITO</td>\n",
              "      <td>NaN</td>\n",
              "      <td>48.0</td>\n",
              "      <td>45 – 49 anos</td>\n",
              "      <td>NAO</td>\n",
              "      <td>NAO</td>\n",
              "    </tr>\n",
              "    <tr>\n",
              "      <th>49921</th>\n",
              "      <td>2012</td>\n",
              "      <td>MUNICIPAL</td>\n",
              "      <td>TO</td>\n",
              "      <td>BANDEIRANTES DO TOCANTINS</td>\n",
              "      <td>PREFEITO</td>\n",
              "      <td>PR</td>\n",
              "      <td>PT / PMDB / PR / PPS / PRTB / PSB / PPL</td>\n",
              "      <td>GO</td>\n",
              "      <td>MORINHOS</td>\n",
              "      <td>1952-04-01 00:00:00</td>\n",
              "      <td>FEMININO</td>\n",
              "      <td>ENSINO MÉDIO COMPLETO</td>\n",
              "      <td>CASADO(A)</td>\n",
              "      <td>NaN</td>\n",
              "      <td>ELEITO</td>\n",
              "      <td>NaN</td>\n",
              "      <td>60.0</td>\n",
              "      <td>60 – 64 anos</td>\n",
              "      <td>NAO</td>\n",
              "      <td>NAO</td>\n",
              "    </tr>\n",
              "    <tr>\n",
              "      <th>49922</th>\n",
              "      <td>2012</td>\n",
              "      <td>MUNICIPAL</td>\n",
              "      <td>TO</td>\n",
              "      <td>TAIPAS DO TOCANTINS</td>\n",
              "      <td>PREFEITO</td>\n",
              "      <td>PV</td>\n",
              "      <td>PV</td>\n",
              "      <td>TO</td>\n",
              "      <td>DIANOPOLIS</td>\n",
              "      <td>1976-04-17 00:00:00</td>\n",
              "      <td>MASCULINO</td>\n",
              "      <td>SUPERIOR COMPLETO</td>\n",
              "      <td>SOLTEIRO(A)</td>\n",
              "      <td>NaN</td>\n",
              "      <td>NÃO ELEITO</td>\n",
              "      <td>NaN</td>\n",
              "      <td>36.0</td>\n",
              "      <td>35 – 39 anos</td>\n",
              "      <td>NAO</td>\n",
              "      <td>SIM</td>\n",
              "    </tr>\n",
              "    <tr>\n",
              "      <th>49923</th>\n",
              "      <td>2012</td>\n",
              "      <td>MUNICIPAL</td>\n",
              "      <td>TO</td>\n",
              "      <td>TAIPAS DO TOCANTINS</td>\n",
              "      <td>PREFEITO</td>\n",
              "      <td>PSD</td>\n",
              "      <td>PSD / PDT</td>\n",
              "      <td>TO</td>\n",
              "      <td>ARRAIAS</td>\n",
              "      <td>1949-05-27 00:00:00</td>\n",
              "      <td>MASCULINO</td>\n",
              "      <td>SUPERIOR COMPLETO</td>\n",
              "      <td>SOLTEIRO(A)</td>\n",
              "      <td>NaN</td>\n",
              "      <td>ELEITO</td>\n",
              "      <td>NaN</td>\n",
              "      <td>63.0</td>\n",
              "      <td>60 – 64 anos</td>\n",
              "      <td>NAO</td>\n",
              "      <td>NAO</td>\n",
              "    </tr>\n",
              "    <tr>\n",
              "      <th>49924</th>\n",
              "      <td>2012</td>\n",
              "      <td>MUNICIPAL</td>\n",
              "      <td>TO</td>\n",
              "      <td>TAIPAS DO TOCANTINS</td>\n",
              "      <td>PREFEITO</td>\n",
              "      <td>PSDB</td>\n",
              "      <td>PSDB / PTB / PR</td>\n",
              "      <td>TO</td>\n",
              "      <td>TAIPAS DO TOCANTINS</td>\n",
              "      <td>1958-02-15 00:00:00</td>\n",
              "      <td>FEMININO</td>\n",
              "      <td>ENSINO MÉDIO COMPLETO</td>\n",
              "      <td>SOLTEIRO(A)</td>\n",
              "      <td>NaN</td>\n",
              "      <td>NÃO ELEITO</td>\n",
              "      <td>NaN</td>\n",
              "      <td>54.0</td>\n",
              "      <td>50 – 54 anos</td>\n",
              "      <td>SIM</td>\n",
              "      <td>NAO</td>\n",
              "    </tr>\n",
              "  </tbody>\n",
              "</table>\n",
              "<p>14718 rows × 20 columns</p>\n",
              "</div>"
            ],
            "text/plain": [
              "       ANO_ELEICAO ABRANGENCIA  ... CIDNAS_IGUAL_CIDCAND CAND_PURA_S_COLIG\n",
              "35108         2012   MUNICIPAL  ...                  NAO               NAO\n",
              "35109         2012   MUNICIPAL  ...                  NAO               NAO\n",
              "35110         2012   MUNICIPAL  ...                  NAO               NAO\n",
              "35111         2012   MUNICIPAL  ...                  NAO               NAO\n",
              "35112         2012   MUNICIPAL  ...                  NAO               NAO\n",
              "...            ...         ...  ...                  ...               ...\n",
              "49920         2012   MUNICIPAL  ...                  NAO               NAO\n",
              "49921         2012   MUNICIPAL  ...                  NAO               NAO\n",
              "49922         2012   MUNICIPAL  ...                  NAO               SIM\n",
              "49923         2012   MUNICIPAL  ...                  NAO               NAO\n",
              "49924         2012   MUNICIPAL  ...                  SIM               NAO\n",
              "\n",
              "[14718 rows x 20 columns]"
            ]
          },
          "metadata": {
            "tags": []
          },
          "execution_count": 23
        }
      ]
    },
    {
      "cell_type": "code",
      "metadata": {
        "id": "xyZTqvcOyQva",
        "colab": {
          "base_uri": "https://localhost:8080/"
        },
        "outputId": "e4b9f955-1787-4ef3-fe83-35c5829ed028"
      },
      "source": [
        "categ = base.dtypes[base.dtypes == \"object\"].index\n",
        "print(\"\\n\", base[categ].describe(), sep='\\n')"
      ],
      "execution_count": 24,
      "outputs": [
        {
          "output_type": "stream",
          "text": [
            "\n",
            "\n",
            "       ABRANGENCIA ESTADO  ... CIDNAS_IGUAL_CIDCAND CAND_PURA_S_COLIG\n",
            "count        49588  49588  ...                49588             49588\n",
            "unique           1     26  ...                    2                 2\n",
            "top      MUNICIPAL     MG  ...                  NAO               NAO\n",
            "freq         49588   7305  ...                31464             38512\n",
            "\n",
            "[4 rows x 17 columns]\n"
          ],
          "name": "stdout"
        }
      ]
    },
    {
      "cell_type": "code",
      "metadata": {
        "id": "c7d-B30fyQva",
        "colab": {
          "base_uri": "https://localhost:8080/"
        },
        "outputId": "6ee70892-9104-4166-e812-54ab2b9303dc"
      },
      "source": [
        "# Retirando da base os dados de 2012, pois nao consta Raça nem Reeleição\n",
        "base.dropna(subset=['COR_RACA','REELEICAO'], inplace=True)\n",
        "base.isnull().sum()"
      ],
      "execution_count": 25,
      "outputs": [
        {
          "output_type": "execute_result",
          "data": {
            "text/plain": [
              "ANO_ELEICAO             0\n",
              "ABRANGENCIA             0\n",
              "ESTADO                  0\n",
              "MUNICIPIO               0\n",
              "CARGO                   0\n",
              "PARTIDO                 0\n",
              "COLIGACAO               0\n",
              "ESTADO_NASCIMENTO       0\n",
              "MUNICIPIO_NASCIMENTO    0\n",
              "DT_NASCIMENTO           0\n",
              "GENERO                  0\n",
              "GRAU_INSTRUCAO          0\n",
              "ESTADO_CIVIL            0\n",
              "COR_RACA                0\n",
              "SITUACAO_FINAL          0\n",
              "REELEICAO               0\n",
              "IDADE                   0\n",
              "FAIXA_ETARIA_IBGE       0\n",
              "CIDNAS_IGUAL_CIDCAND    0\n",
              "CAND_PURA_S_COLIG       0\n",
              "dtype: int64"
            ]
          },
          "metadata": {
            "tags": []
          },
          "execution_count": 25
        }
      ]
    },
    {
      "cell_type": "markdown",
      "metadata": {
        "id": "PBgbWkrqyQvb"
      },
      "source": [
        "# Base de dados com os features tratados"
      ]
    },
    {
      "cell_type": "code",
      "metadata": {
        "id": "7di0qlIPyQvb",
        "colab": {
          "base_uri": "https://localhost:8080/"
        },
        "outputId": "a98a6b9b-0c72-427e-8069-5d7a67fad60c"
      },
      "source": [
        "# verificando as colunas existentes\n",
        "print(\"\\nCampos de Candidatos:\\n{0}\\n\".format(list(base.keys())))"
      ],
      "execution_count": 26,
      "outputs": [
        {
          "output_type": "stream",
          "text": [
            "\n",
            "Campos de Candidatos:\n",
            "['ANO_ELEICAO', 'ABRANGENCIA', 'ESTADO', 'MUNICIPIO', 'CARGO', 'PARTIDO', 'COLIGACAO', 'ESTADO_NASCIMENTO', 'MUNICIPIO_NASCIMENTO', 'DT_NASCIMENTO', 'GENERO', 'GRAU_INSTRUCAO', 'ESTADO_CIVIL', 'COR_RACA', 'SITUACAO_FINAL', 'REELEICAO', 'IDADE', 'FAIXA_ETARIA_IBGE', 'CIDNAS_IGUAL_CIDCAND', 'CAND_PURA_S_COLIG']\n",
            "\n"
          ],
          "name": "stdout"
        }
      ]
    },
    {
      "cell_type": "code",
      "metadata": {
        "id": "sw6ujWJ0yQvb"
      },
      "source": [
        "# Gera o dataframe SUDESTE \n",
        "l_SE=['ES','MG','RJ','SP']\n",
        "b_SE = base[base.ESTADO.isin(l_SE)]\n",
        "# Gera o dataframe NORDESTE\n",
        "l_NE=['AL','BA','CE','MA','PB','PE','PI','RN','SE']\n",
        "b_NE = base[base.ESTADO.isin(l_NE)]\n",
        "#Gera dataframe NORTE\n",
        "l_N=['AC','AM','AP','RO','RR','TO']\n",
        "b_N = base[base.ESTADO.isin(l_N)]\n",
        "#Gera dataframe SUL\n",
        "l_S=['PR','RS','SC']\n",
        "b_S = base[base.ESTADO.isin(l_S)]\n",
        "#Gera dataframe CENTRO-OESTE\n",
        "l_CO=['GO','MS','MT','DF']\n",
        "b_CO = base[base.ESTADO.isin(l_CO)]\n"
      ],
      "execution_count": 27,
      "outputs": []
    },
    {
      "cell_type": "code",
      "metadata": {
        "id": "-YXUSqz5yQvb"
      },
      "source": [
        "#Criando um novo  Data_frame com os features principais\n",
        "baseB=pd.DataFrame(base,columns=['ESTADO','GENERO','GRAU_INSTRUCAO','ESTADO_CIVIL','COR_RACA','FAIXA_ETARIA_IBGE','CIDNAS_IGUAL_CIDCAND','CAND_PURA_S_COLIG','REELEICAO','SITUACAO_FINAL'])\n",
        "baseNE=pd.DataFrame(b_NE,columns=['ESTADO','GENERO','GRAU_INSTRUCAO','ESTADO_CIVIL','COR_RACA','FAIXA_ETARIA_IBGE','CIDNAS_IGUAL_CIDCAND','CAND_PURA_S_COLIG','REELEICAO','SITUACAO_FINAL'])\n",
        "baseSE=pd.DataFrame(b_SE,columns=['ESTADO','GENERO','GRAU_INSTRUCAO','ESTADO_CIVIL','COR_RACA','FAIXA_ETARIA_IBGE','CIDNAS_IGUAL_CIDCAND','CAND_PURA_S_COLIG','REELEICAO','SITUACAO_FINAL'])\n",
        "baseCO=pd.DataFrame(b_CO,columns=['ESTADO','GENERO','GRAU_INSTRUCAO','ESTADO_CIVIL','COR_RACA','FAIXA_ETARIA_IBGE','CIDNAS_IGUAL_CIDCAND','CAND_PURA_S_COLIG','REELEICAO','SITUACAO_FINAL'])\n",
        "baseN=pd.DataFrame(b_N,columns=['ESTADO','GENERO','GRAU_INSTRUCAO','ESTADO_CIVIL','COR_RACA','FAIXA_ETARIA_IBGE','CIDNAS_IGUAL_CIDCAND','CAND_PURA_S_COLIG','REELEICAO','SITUACAO_FINAL'])\n",
        "baseS=pd.DataFrame(b_S,columns=['ESTADO','GENERO','GRAU_INSTRUCAO','ESTADO_CIVIL','COR_RACA','FAIXA_ETARIA_IBGE','CIDNAS_IGUAL_CIDCAND','CAND_PURA_S_COLIG','REELEICAO','SITUACAO_FINAL'])"
      ],
      "execution_count": 28,
      "outputs": []
    },
    {
      "cell_type": "code",
      "metadata": {
        "id": "HBLXchd6yQvc",
        "colab": {
          "base_uri": "https://localhost:8080/",
          "height": 17
        },
        "outputId": "624c4b11-1b75-4096-f20b-461520a1dba0"
      },
      "source": [
        "# Exportando os databases\n",
        "baseB.to_csv (r'base_Brasil.csv', index = False, header=True)\n",
        "files.download('base_Brasil.csv')\n",
        "baseNE.to_csv (r'base_NE.csv', index = False, header=True)\n",
        "files.download('base_NE.csv')\n",
        "baseSE.to_csv (r'base_SE.csv', index = False, header=True)\n",
        "files.download('base_SE.csv')\n",
        "baseCO.to_csv (r'base_CO.csv', index = False, header=True)\n",
        "files.download('base_CO.csv')\n",
        "baseN.to_csv (r'base_N.csv', index = False, header=True)\n",
        "files.download('base_N.csv')\n",
        "baseS.to_csv (r'base_S.csv', index = False, header=True)\n",
        "files.download('base_S.csv')"
      ],
      "execution_count": 30,
      "outputs": [
        {
          "output_type": "display_data",
          "data": {
            "application/javascript": [
              "\n",
              "    async function download(id, filename, size) {\n",
              "      if (!google.colab.kernel.accessAllowed) {\n",
              "        return;\n",
              "      }\n",
              "      const div = document.createElement('div');\n",
              "      const label = document.createElement('label');\n",
              "      label.textContent = `Downloading \"${filename}\": `;\n",
              "      div.appendChild(label);\n",
              "      const progress = document.createElement('progress');\n",
              "      progress.max = size;\n",
              "      div.appendChild(progress);\n",
              "      document.body.appendChild(div);\n",
              "\n",
              "      const buffers = [];\n",
              "      let downloaded = 0;\n",
              "\n",
              "      const channel = await google.colab.kernel.comms.open(id);\n",
              "      // Send a message to notify the kernel that we're ready.\n",
              "      channel.send({})\n",
              "\n",
              "      for await (const message of channel.messages) {\n",
              "        // Send a message to notify the kernel that we're ready.\n",
              "        channel.send({})\n",
              "        if (message.buffers) {\n",
              "          for (const buffer of message.buffers) {\n",
              "            buffers.push(buffer);\n",
              "            downloaded += buffer.byteLength;\n",
              "            progress.value = downloaded;\n",
              "          }\n",
              "        }\n",
              "      }\n",
              "      const blob = new Blob(buffers, {type: 'application/binary'});\n",
              "      const a = document.createElement('a');\n",
              "      a.href = window.URL.createObjectURL(blob);\n",
              "      a.download = filename;\n",
              "      div.appendChild(a);\n",
              "      a.click();\n",
              "      div.remove();\n",
              "    }\n",
              "  "
            ],
            "text/plain": [
              "<IPython.core.display.Javascript object>"
            ]
          },
          "metadata": {
            "tags": []
          }
        },
        {
          "output_type": "display_data",
          "data": {
            "application/javascript": [
              "download(\"download_e5e15ee4-2089-4ba3-a831-051bef335ad1\", \"base_Brasil.csv\", 3023501)"
            ],
            "text/plain": [
              "<IPython.core.display.Javascript object>"
            ]
          },
          "metadata": {
            "tags": []
          }
        },
        {
          "output_type": "display_data",
          "data": {
            "application/javascript": [
              "\n",
              "    async function download(id, filename, size) {\n",
              "      if (!google.colab.kernel.accessAllowed) {\n",
              "        return;\n",
              "      }\n",
              "      const div = document.createElement('div');\n",
              "      const label = document.createElement('label');\n",
              "      label.textContent = `Downloading \"${filename}\": `;\n",
              "      div.appendChild(label);\n",
              "      const progress = document.createElement('progress');\n",
              "      progress.max = size;\n",
              "      div.appendChild(progress);\n",
              "      document.body.appendChild(div);\n",
              "\n",
              "      const buffers = [];\n",
              "      let downloaded = 0;\n",
              "\n",
              "      const channel = await google.colab.kernel.comms.open(id);\n",
              "      // Send a message to notify the kernel that we're ready.\n",
              "      channel.send({})\n",
              "\n",
              "      for await (const message of channel.messages) {\n",
              "        // Send a message to notify the kernel that we're ready.\n",
              "        channel.send({})\n",
              "        if (message.buffers) {\n",
              "          for (const buffer of message.buffers) {\n",
              "            buffers.push(buffer);\n",
              "            downloaded += buffer.byteLength;\n",
              "            progress.value = downloaded;\n",
              "          }\n",
              "        }\n",
              "      }\n",
              "      const blob = new Blob(buffers, {type: 'application/binary'});\n",
              "      const a = document.createElement('a');\n",
              "      a.href = window.URL.createObjectURL(blob);\n",
              "      a.download = filename;\n",
              "      div.appendChild(a);\n",
              "      a.click();\n",
              "      div.remove();\n",
              "    }\n",
              "  "
            ],
            "text/plain": [
              "<IPython.core.display.Javascript object>"
            ]
          },
          "metadata": {
            "tags": []
          }
        },
        {
          "output_type": "display_data",
          "data": {
            "application/javascript": [
              "download(\"download_efe61d7e-f48d-4dc2-bbdf-399122cb7e88\", \"base_NE.csv\", 905682)"
            ],
            "text/plain": [
              "<IPython.core.display.Javascript object>"
            ]
          },
          "metadata": {
            "tags": []
          }
        },
        {
          "output_type": "display_data",
          "data": {
            "application/javascript": [
              "\n",
              "    async function download(id, filename, size) {\n",
              "      if (!google.colab.kernel.accessAllowed) {\n",
              "        return;\n",
              "      }\n",
              "      const div = document.createElement('div');\n",
              "      const label = document.createElement('label');\n",
              "      label.textContent = `Downloading \"${filename}\": `;\n",
              "      div.appendChild(label);\n",
              "      const progress = document.createElement('progress');\n",
              "      progress.max = size;\n",
              "      div.appendChild(progress);\n",
              "      document.body.appendChild(div);\n",
              "\n",
              "      const buffers = [];\n",
              "      let downloaded = 0;\n",
              "\n",
              "      const channel = await google.colab.kernel.comms.open(id);\n",
              "      // Send a message to notify the kernel that we're ready.\n",
              "      channel.send({})\n",
              "\n",
              "      for await (const message of channel.messages) {\n",
              "        // Send a message to notify the kernel that we're ready.\n",
              "        channel.send({})\n",
              "        if (message.buffers) {\n",
              "          for (const buffer of message.buffers) {\n",
              "            buffers.push(buffer);\n",
              "            downloaded += buffer.byteLength;\n",
              "            progress.value = downloaded;\n",
              "          }\n",
              "        }\n",
              "      }\n",
              "      const blob = new Blob(buffers, {type: 'application/binary'});\n",
              "      const a = document.createElement('a');\n",
              "      a.href = window.URL.createObjectURL(blob);\n",
              "      a.download = filename;\n",
              "      div.appendChild(a);\n",
              "      a.click();\n",
              "      div.remove();\n",
              "    }\n",
              "  "
            ],
            "text/plain": [
              "<IPython.core.display.Javascript object>"
            ]
          },
          "metadata": {
            "tags": []
          }
        },
        {
          "output_type": "display_data",
          "data": {
            "application/javascript": [
              "download(\"download_9ffbb187-6058-4055-9552-6527de2e7989\", \"base_SE.csv\", 997613)"
            ],
            "text/plain": [
              "<IPython.core.display.Javascript object>"
            ]
          },
          "metadata": {
            "tags": []
          }
        },
        {
          "output_type": "display_data",
          "data": {
            "application/javascript": [
              "\n",
              "    async function download(id, filename, size) {\n",
              "      if (!google.colab.kernel.accessAllowed) {\n",
              "        return;\n",
              "      }\n",
              "      const div = document.createElement('div');\n",
              "      const label = document.createElement('label');\n",
              "      label.textContent = `Downloading \"${filename}\": `;\n",
              "      div.appendChild(label);\n",
              "      const progress = document.createElement('progress');\n",
              "      progress.max = size;\n",
              "      div.appendChild(progress);\n",
              "      document.body.appendChild(div);\n",
              "\n",
              "      const buffers = [];\n",
              "      let downloaded = 0;\n",
              "\n",
              "      const channel = await google.colab.kernel.comms.open(id);\n",
              "      // Send a message to notify the kernel that we're ready.\n",
              "      channel.send({})\n",
              "\n",
              "      for await (const message of channel.messages) {\n",
              "        // Send a message to notify the kernel that we're ready.\n",
              "        channel.send({})\n",
              "        if (message.buffers) {\n",
              "          for (const buffer of message.buffers) {\n",
              "            buffers.push(buffer);\n",
              "            downloaded += buffer.byteLength;\n",
              "            progress.value = downloaded;\n",
              "          }\n",
              "        }\n",
              "      }\n",
              "      const blob = new Blob(buffers, {type: 'application/binary'});\n",
              "      const a = document.createElement('a');\n",
              "      a.href = window.URL.createObjectURL(blob);\n",
              "      a.download = filename;\n",
              "      div.appendChild(a);\n",
              "      a.click();\n",
              "      div.remove();\n",
              "    }\n",
              "  "
            ],
            "text/plain": [
              "<IPython.core.display.Javascript object>"
            ]
          },
          "metadata": {
            "tags": []
          }
        },
        {
          "output_type": "display_data",
          "data": {
            "application/javascript": [
              "download(\"download_4e874e81-9c3a-42e2-969a-6223022d9f84\", \"base_CO.csv\", 251726)"
            ],
            "text/plain": [
              "<IPython.core.display.Javascript object>"
            ]
          },
          "metadata": {
            "tags": []
          }
        },
        {
          "output_type": "display_data",
          "data": {
            "application/javascript": [
              "\n",
              "    async function download(id, filename, size) {\n",
              "      if (!google.colab.kernel.accessAllowed) {\n",
              "        return;\n",
              "      }\n",
              "      const div = document.createElement('div');\n",
              "      const label = document.createElement('label');\n",
              "      label.textContent = `Downloading \"${filename}\": `;\n",
              "      div.appendChild(label);\n",
              "      const progress = document.createElement('progress');\n",
              "      progress.max = size;\n",
              "      div.appendChild(progress);\n",
              "      document.body.appendChild(div);\n",
              "\n",
              "      const buffers = [];\n",
              "      let downloaded = 0;\n",
              "\n",
              "      const channel = await google.colab.kernel.comms.open(id);\n",
              "      // Send a message to notify the kernel that we're ready.\n",
              "      channel.send({})\n",
              "\n",
              "      for await (const message of channel.messages) {\n",
              "        // Send a message to notify the kernel that we're ready.\n",
              "        channel.send({})\n",
              "        if (message.buffers) {\n",
              "          for (const buffer of message.buffers) {\n",
              "            buffers.push(buffer);\n",
              "            downloaded += buffer.byteLength;\n",
              "            progress.value = downloaded;\n",
              "          }\n",
              "        }\n",
              "      }\n",
              "      const blob = new Blob(buffers, {type: 'application/binary'});\n",
              "      const a = document.createElement('a');\n",
              "      a.href = window.URL.createObjectURL(blob);\n",
              "      a.download = filename;\n",
              "      div.appendChild(a);\n",
              "      a.click();\n",
              "      div.remove();\n",
              "    }\n",
              "  "
            ],
            "text/plain": [
              "<IPython.core.display.Javascript object>"
            ]
          },
          "metadata": {
            "tags": []
          }
        },
        {
          "output_type": "display_data",
          "data": {
            "application/javascript": [
              "download(\"download_297adcce-aedb-4eb9-a9e5-e9a9d1f0bcd1\", \"base_N.csv\", 189005)"
            ],
            "text/plain": [
              "<IPython.core.display.Javascript object>"
            ]
          },
          "metadata": {
            "tags": []
          }
        },
        {
          "output_type": "display_data",
          "data": {
            "application/javascript": [
              "\n",
              "    async function download(id, filename, size) {\n",
              "      if (!google.colab.kernel.accessAllowed) {\n",
              "        return;\n",
              "      }\n",
              "      const div = document.createElement('div');\n",
              "      const label = document.createElement('label');\n",
              "      label.textContent = `Downloading \"${filename}\": `;\n",
              "      div.appendChild(label);\n",
              "      const progress = document.createElement('progress');\n",
              "      progress.max = size;\n",
              "      div.appendChild(progress);\n",
              "      document.body.appendChild(div);\n",
              "\n",
              "      const buffers = [];\n",
              "      let downloaded = 0;\n",
              "\n",
              "      const channel = await google.colab.kernel.comms.open(id);\n",
              "      // Send a message to notify the kernel that we're ready.\n",
              "      channel.send({})\n",
              "\n",
              "      for await (const message of channel.messages) {\n",
              "        // Send a message to notify the kernel that we're ready.\n",
              "        channel.send({})\n",
              "        if (message.buffers) {\n",
              "          for (const buffer of message.buffers) {\n",
              "            buffers.push(buffer);\n",
              "            downloaded += buffer.byteLength;\n",
              "            progress.value = downloaded;\n",
              "          }\n",
              "        }\n",
              "      }\n",
              "      const blob = new Blob(buffers, {type: 'application/binary'});\n",
              "      const a = document.createElement('a');\n",
              "      a.href = window.URL.createObjectURL(blob);\n",
              "      a.download = filename;\n",
              "      div.appendChild(a);\n",
              "      a.click();\n",
              "      div.remove();\n",
              "    }\n",
              "  "
            ],
            "text/plain": [
              "<IPython.core.display.Javascript object>"
            ]
          },
          "metadata": {
            "tags": []
          }
        },
        {
          "output_type": "display_data",
          "data": {
            "application/javascript": [
              "download(\"download_9c2d373e-5648-4cf5-90f6-258667d6079a\", \"base_S.csv\", 578894)"
            ],
            "text/plain": [
              "<IPython.core.display.Javascript object>"
            ]
          },
          "metadata": {
            "tags": []
          }
        }
      ]
    }
  ]
}