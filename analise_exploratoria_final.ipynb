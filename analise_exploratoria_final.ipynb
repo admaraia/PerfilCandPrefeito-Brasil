{
 "cells": [
  {
   "cell_type": "markdown",
   "metadata": {
    "id": "Bkcz7PKXk51N"
   },
   "source": [
    "# Analise exploratória (EDA) do perfil dos candidatos a prefeito no Brasil entre 2012 e 2020.\n",
    "\n",
    "Foram analisados os atributos os gênero, grau de instrução, estado civil, raça, idade, cidade nascimento x candidatura, e posteriormente a relação entre os e o resultado da eleição (eleito / não eleito).\n",
    "Em complemento foi analisado se candidaturas com ou sem coligação teria diferença no resultado do pleito ; assim como reeleiçao."
   ]
  },
  {
   "cell_type": "code",
   "execution_count": 88,
   "metadata": {
    "colab": {
     "base_uri": "https://localhost:8080/"
    },
    "id": "O_iWG-zgk51S",
    "outputId": "90d3f331-cafb-4e42-9ab8-d15454985c69"
   },
   "outputs": [
    {
     "name": "stdout",
     "output_type": "stream",
     "text": [
      "Requirement already satisfied: plotly in c:\\users\\raiaa\\anaconda3\\lib\\site-packages (4.14.1)\n",
      "Requirement already satisfied: six in c:\\users\\raiaa\\anaconda3\\lib\\site-packages (from plotly) (1.14.0)\n",
      "Requirement already satisfied: retrying>=1.3.3 in c:\\users\\raiaa\\anaconda3\\lib\\site-packages (from plotly) (1.3.3)\n"
     ]
    }
   ],
   "source": [
    "!pip install plotly"
   ]
  },
  {
   "cell_type": "code",
   "execution_count": 90,
   "metadata": {
    "colab": {
     "base_uri": "https://localhost:8080/"
    },
    "id": "wvuj0VXlk51T",
    "outputId": "db816d36-5015-48a3-dc7f-5ab1178b79e8"
   },
   "outputs": [
    {
     "name": "stdout",
     "output_type": "stream",
     "text": [
      "C:\\Users\\raiaa\\OneDrive\\ESPECIALIZAÇÃO\\15 - TCC\\ELEICAO\\candidatos\\scripts\n"
     ]
    }
   ],
   "source": [
    "import pandas as pd\n",
    "import plotly.express as px\n",
    "import plotly.graph_objects as go\n",
    "from plotly.subplots import make_subplots\n",
    "import os\n",
    "\n",
    "\n",
    "print(os.getcwd())\n"
   ]
  },
  {
   "cell_type": "markdown",
   "metadata": {
    "id": "ysCuKdqb3iWf"
   },
   "source": [
    "## Carregando dataset"
   ]
  },
  {
   "cell_type": "code",
   "execution_count": 91,
   "metadata": {
    "colab": {
     "base_uri": "https://localhost:8080/",
     "height": 73,
     "resources": {
      "http://localhost:8080/nbextensions/google.colab/files.js": {
       "data": "Ly8gQ29weXJpZ2h0IDIwMTcgR29vZ2xlIExMQwovLwovLyBMaWNlbnNlZCB1bmRlciB0aGUgQXBhY2hlIExpY2Vuc2UsIFZlcnNpb24gMi4wICh0aGUgIkxpY2Vuc2UiKTsKLy8geW91IG1heSBub3QgdXNlIHRoaXMgZmlsZSBleGNlcHQgaW4gY29tcGxpYW5jZSB3aXRoIHRoZSBMaWNlbnNlLgovLyBZb3UgbWF5IG9idGFpbiBhIGNvcHkgb2YgdGhlIExpY2Vuc2UgYXQKLy8KLy8gICAgICBodHRwOi8vd3d3LmFwYWNoZS5vcmcvbGljZW5zZXMvTElDRU5TRS0yLjAKLy8KLy8gVW5sZXNzIHJlcXVpcmVkIGJ5IGFwcGxpY2FibGUgbGF3IG9yIGFncmVlZCB0byBpbiB3cml0aW5nLCBzb2Z0d2FyZQovLyBkaXN0cmlidXRlZCB1bmRlciB0aGUgTGljZW5zZSBpcyBkaXN0cmlidXRlZCBvbiBhbiAiQVMgSVMiIEJBU0lTLAovLyBXSVRIT1VUIFdBUlJBTlRJRVMgT1IgQ09ORElUSU9OUyBPRiBBTlkgS0lORCwgZWl0aGVyIGV4cHJlc3Mgb3IgaW1wbGllZC4KLy8gU2VlIHRoZSBMaWNlbnNlIGZvciB0aGUgc3BlY2lmaWMgbGFuZ3VhZ2UgZ292ZXJuaW5nIHBlcm1pc3Npb25zIGFuZAovLyBsaW1pdGF0aW9ucyB1bmRlciB0aGUgTGljZW5zZS4KCi8qKgogKiBAZmlsZW92ZXJ2aWV3IEhlbHBlcnMgZm9yIGdvb2dsZS5jb2xhYiBQeXRob24gbW9kdWxlLgogKi8KKGZ1bmN0aW9uKHNjb3BlKSB7CmZ1bmN0aW9uIHNwYW4odGV4dCwgc3R5bGVBdHRyaWJ1dGVzID0ge30pIHsKICBjb25zdCBlbGVtZW50ID0gZG9jdW1lbnQuY3JlYXRlRWxlbWVudCgnc3BhbicpOwogIGVsZW1lbnQudGV4dENvbnRlbnQgPSB0ZXh0OwogIGZvciAoY29uc3Qga2V5IG9mIE9iamVjdC5rZXlzKHN0eWxlQXR0cmlidXRlcykpIHsKICAgIGVsZW1lbnQuc3R5bGVba2V5XSA9IHN0eWxlQXR0cmlidXRlc1trZXldOwogIH0KICByZXR1cm4gZWxlbWVudDsKfQoKLy8gTWF4IG51bWJlciBvZiBieXRlcyB3aGljaCB3aWxsIGJlIHVwbG9hZGVkIGF0IGEgdGltZS4KY29uc3QgTUFYX1BBWUxPQURfU0laRSA9IDEwMCAqIDEwMjQ7CgpmdW5jdGlvbiBfdXBsb2FkRmlsZXMoaW5wdXRJZCwgb3V0cHV0SWQpIHsKICBjb25zdCBzdGVwcyA9IHVwbG9hZEZpbGVzU3RlcChpbnB1dElkLCBvdXRwdXRJZCk7CiAgY29uc3Qgb3V0cHV0RWxlbWVudCA9IGRvY3VtZW50LmdldEVsZW1lbnRCeUlkKG91dHB1dElkKTsKICAvLyBDYWNoZSBzdGVwcyBvbiB0aGUgb3V0cHV0RWxlbWVudCB0byBtYWtlIGl0IGF2YWlsYWJsZSBmb3IgdGhlIG5leHQgY2FsbAogIC8vIHRvIHVwbG9hZEZpbGVzQ29udGludWUgZnJvbSBQeXRob24uCiAgb3V0cHV0RWxlbWVudC5zdGVwcyA9IHN0ZXBzOwoKICByZXR1cm4gX3VwbG9hZEZpbGVzQ29udGludWUob3V0cHV0SWQpOwp9CgovLyBUaGlzIGlzIHJvdWdobHkgYW4gYXN5bmMgZ2VuZXJhdG9yIChub3Qgc3VwcG9ydGVkIGluIHRoZSBicm93c2VyIHlldCksCi8vIHdoZXJlIHRoZXJlIGFyZSBtdWx0aXBsZSBhc3luY2hyb25vdXMgc3RlcHMgYW5kIHRoZSBQeXRob24gc2lkZSBpcyBnb2luZwovLyB0byBwb2xsIGZvciBjb21wbGV0aW9uIG9mIGVhY2ggc3RlcC4KLy8gVGhpcyB1c2VzIGEgUHJvbWlzZSB0byBibG9jayB0aGUgcHl0aG9uIHNpZGUgb24gY29tcGxldGlvbiBvZiBlYWNoIHN0ZXAsCi8vIHRoZW4gcGFzc2VzIHRoZSByZXN1bHQgb2YgdGhlIHByZXZpb3VzIHN0ZXAgYXMgdGhlIGlucHV0IHRvIHRoZSBuZXh0IHN0ZXAuCmZ1bmN0aW9uIF91cGxvYWRGaWxlc0NvbnRpbnVlKG91dHB1dElkKSB7CiAgY29uc3Qgb3V0cHV0RWxlbWVudCA9IGRvY3VtZW50LmdldEVsZW1lbnRCeUlkKG91dHB1dElkKTsKICBjb25zdCBzdGVwcyA9IG91dHB1dEVsZW1lbnQuc3RlcHM7CgogIGNvbnN0IG5leHQgPSBzdGVwcy5uZXh0KG91dHB1dEVsZW1lbnQubGFzdFByb21pc2VWYWx1ZSk7CiAgcmV0dXJuIFByb21pc2UucmVzb2x2ZShuZXh0LnZhbHVlLnByb21pc2UpLnRoZW4oKHZhbHVlKSA9PiB7CiAgICAvLyBDYWNoZSB0aGUgbGFzdCBwcm9taXNlIHZhbHVlIHRvIG1ha2UgaXQgYXZhaWxhYmxlIHRvIHRoZSBuZXh0CiAgICAvLyBzdGVwIG9mIHRoZSBnZW5lcmF0b3IuCiAgICBvdXRwdXRFbGVtZW50Lmxhc3RQcm9taXNlVmFsdWUgPSB2YWx1ZTsKICAgIHJldHVybiBuZXh0LnZhbHVlLnJlc3BvbnNlOwogIH0pOwp9CgovKioKICogR2VuZXJhdG9yIGZ1bmN0aW9uIHdoaWNoIGlzIGNhbGxlZCBiZXR3ZWVuIGVhY2ggYXN5bmMgc3RlcCBvZiB0aGUgdXBsb2FkCiAqIHByb2Nlc3MuCiAqIEBwYXJhbSB7c3RyaW5nfSBpbnB1dElkIEVsZW1lbnQgSUQgb2YgdGhlIGlucHV0IGZpbGUgcGlja2VyIGVsZW1lbnQuCiAqIEBwYXJhbSB7c3RyaW5nfSBvdXRwdXRJZCBFbGVtZW50IElEIG9mIHRoZSBvdXRwdXQgZGlzcGxheS4KICogQHJldHVybiB7IUl0ZXJhYmxlPCFPYmplY3Q+fSBJdGVyYWJsZSBvZiBuZXh0IHN0ZXBzLgogKi8KZnVuY3Rpb24qIHVwbG9hZEZpbGVzU3RlcChpbnB1dElkLCBvdXRwdXRJZCkgewogIGNvbnN0IGlucHV0RWxlbWVudCA9IGRvY3VtZW50LmdldEVsZW1lbnRCeUlkKGlucHV0SWQpOwogIGlucHV0RWxlbWVudC5kaXNhYmxlZCA9IGZhbHNlOwoKICBjb25zdCBvdXRwdXRFbGVtZW50ID0gZG9jdW1lbnQuZ2V0RWxlbWVudEJ5SWQob3V0cHV0SWQpOwogIG91dHB1dEVsZW1lbnQuaW5uZXJIVE1MID0gJyc7CgogIGNvbnN0IHBpY2tlZFByb21pc2UgPSBuZXcgUHJvbWlzZSgocmVzb2x2ZSkgPT4gewogICAgaW5wdXRFbGVtZW50LmFkZEV2ZW50TGlzdGVuZXIoJ2NoYW5nZScsIChlKSA9PiB7CiAgICAgIHJlc29sdmUoZS50YXJnZXQuZmlsZXMpOwogICAgfSk7CiAgfSk7CgogIGNvbnN0IGNhbmNlbCA9IGRvY3VtZW50LmNyZWF0ZUVsZW1lbnQoJ2J1dHRvbicpOwogIGlucHV0RWxlbWVudC5wYXJlbnRFbGVtZW50LmFwcGVuZENoaWxkKGNhbmNlbCk7CiAgY2FuY2VsLnRleHRDb250ZW50ID0gJ0NhbmNlbCB1cGxvYWQnOwogIGNvbnN0IGNhbmNlbFByb21pc2UgPSBuZXcgUHJvbWlzZSgocmVzb2x2ZSkgPT4gewogICAgY2FuY2VsLm9uY2xpY2sgPSAoKSA9PiB7CiAgICAgIHJlc29sdmUobnVsbCk7CiAgICB9OwogIH0pOwoKICAvLyBXYWl0IGZvciB0aGUgdXNlciB0byBwaWNrIHRoZSBmaWxlcy4KICBjb25zdCBmaWxlcyA9IHlpZWxkIHsKICAgIHByb21pc2U6IFByb21pc2UucmFjZShbcGlja2VkUHJvbWlzZSwgY2FuY2VsUHJvbWlzZV0pLAogICAgcmVzcG9uc2U6IHsKICAgICAgYWN0aW9uOiAnc3RhcnRpbmcnLAogICAgfQogIH07CgogIGNhbmNlbC5yZW1vdmUoKTsKCiAgLy8gRGlzYWJsZSB0aGUgaW5wdXQgZWxlbWVudCBzaW5jZSBmdXJ0aGVyIHBpY2tzIGFyZSBub3QgYWxsb3dlZC4KICBpbnB1dEVsZW1lbnQuZGlzYWJsZWQgPSB0cnVlOwoKICBpZiAoIWZpbGVzKSB7CiAgICByZXR1cm4gewogICAgICByZXNwb25zZTogewogICAgICAgIGFjdGlvbjogJ2NvbXBsZXRlJywKICAgICAgfQogICAgfTsKICB9CgogIGZvciAoY29uc3QgZmlsZSBvZiBmaWxlcykgewogICAgY29uc3QgbGkgPSBkb2N1bWVudC5jcmVhdGVFbGVtZW50KCdsaScpOwogICAgbGkuYXBwZW5kKHNwYW4oZmlsZS5uYW1lLCB7Zm9udFdlaWdodDogJ2JvbGQnfSkpOwogICAgbGkuYXBwZW5kKHNwYW4oCiAgICAgICAgYCgke2ZpbGUudHlwZSB8fCAnbi9hJ30pIC0gJHtmaWxlLnNpemV9IGJ5dGVzLCBgICsKICAgICAgICBgbGFzdCBtb2RpZmllZDogJHsKICAgICAgICAgICAgZmlsZS5sYXN0TW9kaWZpZWREYXRlID8gZmlsZS5sYXN0TW9kaWZpZWREYXRlLnRvTG9jYWxlRGF0ZVN0cmluZygpIDoKICAgICAgICAgICAgICAgICAgICAgICAgICAgICAgICAgICAgJ24vYSd9IC0gYCkpOwogICAgY29uc3QgcGVyY2VudCA9IHNwYW4oJzAlIGRvbmUnKTsKICAgIGxpLmFwcGVuZENoaWxkKHBlcmNlbnQpOwoKICAgIG91dHB1dEVsZW1lbnQuYXBwZW5kQ2hpbGQobGkpOwoKICAgIGNvbnN0IGZpbGVEYXRhUHJvbWlzZSA9IG5ldyBQcm9taXNlKChyZXNvbHZlKSA9PiB7CiAgICAgIGNvbnN0IHJlYWRlciA9IG5ldyBGaWxlUmVhZGVyKCk7CiAgICAgIHJlYWRlci5vbmxvYWQgPSAoZSkgPT4gewogICAgICAgIHJlc29sdmUoZS50YXJnZXQucmVzdWx0KTsKICAgICAgfTsKICAgICAgcmVhZGVyLnJlYWRBc0FycmF5QnVmZmVyKGZpbGUpOwogICAgfSk7CiAgICAvLyBXYWl0IGZvciB0aGUgZGF0YSB0byBiZSByZWFkeS4KICAgIGxldCBmaWxlRGF0YSA9IHlpZWxkIHsKICAgICAgcHJvbWlzZTogZmlsZURhdGFQcm9taXNlLAogICAgICByZXNwb25zZTogewogICAgICAgIGFjdGlvbjogJ2NvbnRpbnVlJywKICAgICAgfQogICAgfTsKCiAgICAvLyBVc2UgYSBjaHVua2VkIHNlbmRpbmcgdG8gYXZvaWQgbWVzc2FnZSBzaXplIGxpbWl0cy4gU2VlIGIvNjIxMTU2NjAuCiAgICBsZXQgcG9zaXRpb24gPSAwOwogICAgd2hpbGUgKHBvc2l0aW9uIDwgZmlsZURhdGEuYnl0ZUxlbmd0aCkgewogICAgICBjb25zdCBsZW5ndGggPSBNYXRoLm1pbihmaWxlRGF0YS5ieXRlTGVuZ3RoIC0gcG9zaXRpb24sIE1BWF9QQVlMT0FEX1NJWkUpOwogICAgICBjb25zdCBjaHVuayA9IG5ldyBVaW50OEFycmF5KGZpbGVEYXRhLCBwb3NpdGlvbiwgbGVuZ3RoKTsKICAgICAgcG9zaXRpb24gKz0gbGVuZ3RoOwoKICAgICAgY29uc3QgYmFzZTY0ID0gYnRvYShTdHJpbmcuZnJvbUNoYXJDb2RlLmFwcGx5KG51bGwsIGNodW5rKSk7CiAgICAgIHlpZWxkIHsKICAgICAgICByZXNwb25zZTogewogICAgICAgICAgYWN0aW9uOiAnYXBwZW5kJywKICAgICAgICAgIGZpbGU6IGZpbGUubmFtZSwKICAgICAgICAgIGRhdGE6IGJhc2U2NCwKICAgICAgICB9LAogICAgICB9OwogICAgICBwZXJjZW50LnRleHRDb250ZW50ID0KICAgICAgICAgIGAke01hdGgucm91bmQoKHBvc2l0aW9uIC8gZmlsZURhdGEuYnl0ZUxlbmd0aCkgKiAxMDApfSUgZG9uZWA7CiAgICB9CiAgfQoKICAvLyBBbGwgZG9uZS4KICB5aWVsZCB7CiAgICByZXNwb25zZTogewogICAgICBhY3Rpb246ICdjb21wbGV0ZScsCiAgICB9CiAgfTsKfQoKc2NvcGUuZ29vZ2xlID0gc2NvcGUuZ29vZ2xlIHx8IHt9OwpzY29wZS5nb29nbGUuY29sYWIgPSBzY29wZS5nb29nbGUuY29sYWIgfHwge307CnNjb3BlLmdvb2dsZS5jb2xhYi5fZmlsZXMgPSB7CiAgX3VwbG9hZEZpbGVzLAogIF91cGxvYWRGaWxlc0NvbnRpbnVlLAp9Owp9KShzZWxmKTsK",
       "headers": [
        [
         "content-type",
         "application/javascript"
        ]
       ],
       "ok": true,
       "status": 200,
       "status_text": ""
      }
     }
    },
    "id": "aAOvlsDc1XNB",
    "outputId": "b208de69-8bf0-40e3-91b8-10a679598bed"
   },
   "outputs": [],
   "source": [
    "#Apenas de estiver usando o google COLAB\n",
    "#from google.colab import files\n",
    "#uploaded = files.upload()"
   ]
  },
  {
   "cell_type": "code",
   "execution_count": 92,
   "metadata": {
    "colab": {
     "base_uri": "https://localhost:8080/",
     "height": 299
    },
    "id": "brCNOa4hk51T",
    "outputId": "59a2b9ec-582b-4daa-b7f0-f9e8fc858e7b"
   },
   "outputs": [
    {
     "data": {
      "text/html": [
       "<div>\n",
       "<style scoped>\n",
       "    .dataframe tbody tr th:only-of-type {\n",
       "        vertical-align: middle;\n",
       "    }\n",
       "\n",
       "    .dataframe tbody tr th {\n",
       "        vertical-align: top;\n",
       "    }\n",
       "\n",
       "    .dataframe thead th {\n",
       "        text-align: right;\n",
       "    }\n",
       "</style>\n",
       "<table border=\"1\" class=\"dataframe\">\n",
       "  <thead>\n",
       "    <tr style=\"text-align: right;\">\n",
       "      <th></th>\n",
       "      <th>ANO_ELEICAO</th>\n",
       "      <th>ESTADO</th>\n",
       "      <th>GENERO</th>\n",
       "      <th>GRAU_INSTRUCAO</th>\n",
       "      <th>ESTADO_CIVIL</th>\n",
       "      <th>COR_RACA</th>\n",
       "      <th>IDADE</th>\n",
       "      <th>FAIXA_ETARIA</th>\n",
       "      <th>FAIXA_ETARIA_IBGE</th>\n",
       "      <th>CIDNAS_IGUAL_CIDCAND</th>\n",
       "      <th>CAND_PURA_S_COLIG</th>\n",
       "      <th>REELEICAO</th>\n",
       "      <th>SITUACAO_FINAL</th>\n",
       "    </tr>\n",
       "  </thead>\n",
       "  <tbody>\n",
       "    <tr>\n",
       "      <th>0</th>\n",
       "      <td>2020</td>\n",
       "      <td>PB</td>\n",
       "      <td>MASCULINO</td>\n",
       "      <td>SUPERIOR COMPLETO</td>\n",
       "      <td>DIVORCIADO(A)</td>\n",
       "      <td>BRANCA</td>\n",
       "      <td>53.0</td>\n",
       "      <td>50 – 59 ANOS</td>\n",
       "      <td>50 – 54 ANOS</td>\n",
       "      <td>NAO</td>\n",
       "      <td>NAO</td>\n",
       "      <td>N</td>\n",
       "      <td>NÃO ELEITO</td>\n",
       "    </tr>\n",
       "    <tr>\n",
       "      <th>1</th>\n",
       "      <td>2020</td>\n",
       "      <td>PR</td>\n",
       "      <td>MASCULINO</td>\n",
       "      <td>SUPERIOR COMPLETO</td>\n",
       "      <td>CASADO(A)</td>\n",
       "      <td>BRANCA</td>\n",
       "      <td>50.0</td>\n",
       "      <td>50 – 59 ANOS</td>\n",
       "      <td>50 – 54 ANOS</td>\n",
       "      <td>SIM</td>\n",
       "      <td>SIM</td>\n",
       "      <td>N</td>\n",
       "      <td>NÃO ELEITO</td>\n",
       "    </tr>\n",
       "    <tr>\n",
       "      <th>2</th>\n",
       "      <td>2020</td>\n",
       "      <td>GO</td>\n",
       "      <td>MASCULINO</td>\n",
       "      <td>ENSINO MÉDIO COMPLETO</td>\n",
       "      <td>CASADO(A)</td>\n",
       "      <td>PARDA</td>\n",
       "      <td>52.0</td>\n",
       "      <td>50 – 59 ANOS</td>\n",
       "      <td>50 – 54 ANOS</td>\n",
       "      <td>NAO</td>\n",
       "      <td>SIM</td>\n",
       "      <td>N</td>\n",
       "      <td>NÃO ELEITO</td>\n",
       "    </tr>\n",
       "    <tr>\n",
       "      <th>3</th>\n",
       "      <td>2020</td>\n",
       "      <td>MG</td>\n",
       "      <td>MASCULINO</td>\n",
       "      <td>ENSINO MÉDIO COMPLETO</td>\n",
       "      <td>DIVORCIADO(A)</td>\n",
       "      <td>BRANCA</td>\n",
       "      <td>48.0</td>\n",
       "      <td>40 – 49 ANOS</td>\n",
       "      <td>45 – 49 ANOS</td>\n",
       "      <td>NAO</td>\n",
       "      <td>NAO</td>\n",
       "      <td>N</td>\n",
       "      <td>NÃO ELEITO</td>\n",
       "    </tr>\n",
       "    <tr>\n",
       "      <th>4</th>\n",
       "      <td>2020</td>\n",
       "      <td>MA</td>\n",
       "      <td>MASCULINO</td>\n",
       "      <td>SUPERIOR COMPLETO</td>\n",
       "      <td>CASADO(A)</td>\n",
       "      <td>PARDA</td>\n",
       "      <td>36.0</td>\n",
       "      <td>30 – 39 ANOS</td>\n",
       "      <td>35 – 39 ANOS</td>\n",
       "      <td>NAO</td>\n",
       "      <td>NAO</td>\n",
       "      <td>N</td>\n",
       "      <td>NÃO ELEITO</td>\n",
       "    </tr>\n",
       "  </tbody>\n",
       "</table>\n",
       "</div>"
      ],
      "text/plain": [
       "   ANO_ELEICAO ESTADO     GENERO         GRAU_INSTRUCAO   ESTADO_CIVIL  \\\n",
       "0         2020     PB  MASCULINO      SUPERIOR COMPLETO  DIVORCIADO(A)   \n",
       "1         2020     PR  MASCULINO      SUPERIOR COMPLETO      CASADO(A)   \n",
       "2         2020     GO  MASCULINO  ENSINO MÉDIO COMPLETO      CASADO(A)   \n",
       "3         2020     MG  MASCULINO  ENSINO MÉDIO COMPLETO  DIVORCIADO(A)   \n",
       "4         2020     MA  MASCULINO      SUPERIOR COMPLETO      CASADO(A)   \n",
       "\n",
       "  COR_RACA  IDADE  FAIXA_ETARIA FAIXA_ETARIA_IBGE CIDNAS_IGUAL_CIDCAND  \\\n",
       "0   BRANCA   53.0  50 – 59 ANOS      50 – 54 ANOS                  NAO   \n",
       "1   BRANCA   50.0  50 – 59 ANOS      50 – 54 ANOS                  SIM   \n",
       "2    PARDA   52.0  50 – 59 ANOS      50 – 54 ANOS                  NAO   \n",
       "3   BRANCA   48.0  40 – 49 ANOS      45 – 49 ANOS                  NAO   \n",
       "4    PARDA   36.0  30 – 39 ANOS      35 – 39 ANOS                  NAO   \n",
       "\n",
       "  CAND_PURA_S_COLIG REELEICAO SITUACAO_FINAL  \n",
       "0               NAO         N     NÃO ELEITO  \n",
       "1               SIM         N     NÃO ELEITO  \n",
       "2               SIM         N     NÃO ELEITO  \n",
       "3               NAO         N     NÃO ELEITO  \n",
       "4               NAO         N     NÃO ELEITO  "
      ]
     },
     "execution_count": 92,
     "metadata": {},
     "output_type": "execute_result"
    }
   ],
   "source": [
    "# Arquivo base\n",
    "\n",
    "base = pd.read_csv(\"base_Brasil.csv\")\n",
    "# Comando para não truncar as colunas na tela (exibir)\n",
    "pd.options.display.max_columns = 30\n",
    "base.head(5)"
   ]
  },
  {
   "cell_type": "markdown",
   "metadata": {
    "id": "QYt1U2pVk51T"
   },
   "source": [
    "## Analisando o dataset"
   ]
  },
  {
   "cell_type": "code",
   "execution_count": 93,
   "metadata": {
    "colab": {
     "base_uri": "https://localhost:8080/"
    },
    "id": "gtvoORw0k51U",
    "outputId": "fcdb1da8-bc63-4d39-8b59-4374adb91bf8"
   },
   "outputs": [
    {
     "name": "stdout",
     "output_type": "stream",
     "text": [
      "\n",
      " Campos do dataset:\n",
      "['ANO_ELEICAO', 'ESTADO', 'GENERO', 'GRAU_INSTRUCAO', 'ESTADO_CIVIL', 'COR_RACA', 'IDADE', 'FAIXA_ETARIA', 'FAIXA_ETARIA_IBGE', 'CIDNAS_IGUAL_CIDCAND', 'CAND_PURA_S_COLIG', 'REELEICAO', 'SITUACAO_FINAL']\n",
      "\n"
     ]
    }
   ],
   "source": [
    "# verificando as colunas existentes\n",
    "print(\"\\n Campos do dataset:\\n{0}\\n\".format(list(base.keys())))"
   ]
  },
  {
   "cell_type": "code",
   "execution_count": 94,
   "metadata": {
    "colab": {
     "base_uri": "https://localhost:8080/"
    },
    "id": "IldIMBnjk51U",
    "outputId": "4da45ec3-5c9f-47fa-ebde-31e4711d7fb0"
   },
   "outputs": [
    {
     "name": "stdout",
     "output_type": "stream",
     "text": [
      "\n",
      "Tipos dos dados:\n",
      "ANO_ELEICAO               int64\n",
      "ESTADO                   object\n",
      "GENERO                   object\n",
      "GRAU_INSTRUCAO           object\n",
      "ESTADO_CIVIL             object\n",
      "COR_RACA                 object\n",
      "IDADE                   float64\n",
      "FAIXA_ETARIA             object\n",
      "FAIXA_ETARIA_IBGE        object\n",
      "CIDNAS_IGUAL_CIDCAND     object\n",
      "CAND_PURA_S_COLIG        object\n",
      "REELEICAO                object\n",
      "SITUACAO_FINAL           object\n",
      "dtype: object\n",
      "\n"
     ]
    }
   ],
   "source": [
    "# Tipos dos dados\n",
    "print(\"\\nTipos dos dados:\\n{0}\\n\".format(base.dtypes))"
   ]
  },
  {
   "cell_type": "markdown",
   "metadata": {},
   "source": [
    "#                 Analisando as classes de dados do dataset, temos:\n",
    "\n",
    "#### MG é o estado que possui mais candidatos dentre os 26 estados => ele está localizado na Região SE e possui 853 munícipios.  Abaixo segue a distribuição de municípios por Região:\n",
    "- NE => 1794\n",
    "- SE => 1668\n",
    "- SU => 1191\n",
    "- CO => 466\n",
    "- N  => 450\n",
    "\n",
    "#### A predominância de candidatos é do sexo masculino;\n",
    "\n",
    "#### A predominância de candidatos possui nível superior completo;\n",
    "\n",
    "#### A predominância de candidatos é casado;\n",
    "\n",
    "#### A predominância de candidatos é classificado como Branco;\n",
    "\n",
    "#### A predominância de candidatos possui entre 50 e 54 anos;\n",
    "\n",
    "#### A maioria dos candidatos não pleiteiam vaga na cidade de nascimento;\n"
   ]
  },
  {
   "cell_type": "code",
   "execution_count": 95,
   "metadata": {
    "colab": {
     "base_uri": "https://localhost:8080/"
    },
    "id": "xOGk5GQik51U",
    "outputId": "83b431e9-27b8-49e0-9ef3-9f1bdba48079"
   },
   "outputs": [
    {
     "name": "stdout",
     "output_type": "stream",
     "text": [
      "\n",
      "\n",
      "       ESTADO     GENERO     GRAU_INSTRUCAO ESTADO_CIVIL COR_RACA  \\\n",
      "count   34870      34870              34870        34870    34870   \n",
      "unique     26          2                  7            5        6   \n",
      "top        MG  MASCULINO  SUPERIOR COMPLETO    CASADO(A)   BRANCA   \n",
      "freq     5082      30217              19000        24342    22637   \n",
      "\n",
      "        FAIXA_ETARIA FAIXA_ETARIA_IBGE CIDNAS_IGUAL_CIDCAND CAND_PURA_S_COLIG  \\\n",
      "count          34870             34870                34870             34870   \n",
      "unique             5                12                    2                 2   \n",
      "top     50 – 59 ANOS      50 – 54 ANOS                  NAO               NAO   \n",
      "freq           10847              6006                21701             25839   \n",
      "\n",
      "       REELEICAO SITUACAO_FINAL  \n",
      "count      34870          34870  \n",
      "unique         2              2  \n",
      "top            N     NÃO ELEITO  \n",
      "freq       30328          23817  \n"
     ]
    }
   ],
   "source": [
    "# quantidade de dados por classe\n",
    "pd.options.display.max_columns = 15\n",
    "categ = base.dtypes[base.dtypes == \"object\"].index\n",
    "print(\"\\n\", base[categ].describe(), sep='\\n')\n"
   ]
  },
  {
   "cell_type": "code",
   "execution_count": 96,
   "metadata": {
    "colab": {
     "base_uri": "https://localhost:8080/"
    },
    "id": "YkMlF5cZk51V",
    "outputId": "90407707-4990-4e1c-c9c2-8c449213709f"
   },
   "outputs": [
    {
     "name": "stdout",
     "output_type": "stream",
     "text": [
      "Index(['ESTADO', 'GENERO', 'GRAU_INSTRUCAO', 'ESTADO_CIVIL', 'COR_RACA',\n",
      "       'FAIXA_ETARIA', 'FAIXA_ETARIA_IBGE', 'CIDNAS_IGUAL_CIDCAND',\n",
      "       'CAND_PURA_S_COLIG', 'REELEICAO', 'SITUACAO_FINAL'],\n",
      "      dtype='object')\n"
     ]
    }
   ],
   "source": [
    "# Listando as classes\n",
    "print(categ)"
   ]
  },
  {
   "cell_type": "code",
   "execution_count": 97,
   "metadata": {},
   "outputs": [],
   "source": [
    "import plotly.express as px\n",
    "import plotly.graph_objects as go\n",
    "from plotly.subplots import make_subplots\n",
    "import os\n",
    "import sys\n",
    "import seaborn as sns\n",
    "import matplotlib.pyplot as plt\n",
    "plt.style.use('ggplot')\n",
    "%matplotlib inline"
   ]
  },
  {
   "cell_type": "markdown",
   "metadata": {},
   "source": [
    "# Como é a distribuição dos candidatos por gênero no país?\n",
    "\n",
    "#### MASCULINO    86.7%\n",
    "#### FEMININO     13.3%\n",
    "\n",
    "## Esta proporção é similar em todas as  Regiões do Brasil?\n",
    "#### SE  ==> MASCULINO    88.7%  ==> FEMININO     11.3%\n",
    "#### NE  ==> MASCULINO    82.4%  ==> FEMININO     17.5%\n",
    "#### CO  ==> MASCULINO    88.1%  ==> FEMININO     11.9 %\n",
    "#### S     ==> MASCULINO    90.2%  ==> FEMININO     9.3%\n",
    "#### N    ==>  MASCULINO    85.3%  ==> FEMININO     14.7%\n",
    "\n",
    "#### Como podemos observar, os resultados mostram a predominância masculina entre os candidatos a prefeito no país, sendo a Região Sul com maior (menor) índice de 90,2% (9,3%) de candidatos masculino (feminino).\n",
    "#### Já a Região Nordeste, embora a predominância seja masculina, apresentou o maior índice de candidatos femininos no país 17,5%.\n",
    "#### Se compararmos com a média as regiões SE, CO e S apresentaram perfis de candidatos femininos abaixo da média.\n",
    "\n",
    "#### Tal comportamento mostra grande desigualdade de gênero entre os perfis de candidadto a prefeito no país."
   ]
  },
  {
   "cell_type": "code",
   "execution_count": 98,
   "metadata": {},
   "outputs": [],
   "source": [
    "# Gera o dataframe SUDESTE \n",
    "l_SE=['ES','MG','RJ','SP']\n",
    "b_SE = base[base.ESTADO.isin(l_SE)]\n",
    "# Gera o dataframe NORDESTE\n",
    "l_NE=['AL','BA','CE','MA','PB','PE','PI','RN','SE']\n",
    "b_NE = base[base.ESTADO.isin(l_NE)]\n",
    "#Gera dataframe NORTE\n",
    "l_N=['AC','AM','AP','RO','RR','TO']\n",
    "b_N = base[base.ESTADO.isin(l_N)]\n",
    "#Gera dataframe SUL\n",
    "l_S=['PR','RS','SC']\n",
    "b_S = base[base.ESTADO.isin(l_S)]\n",
    "#Gera dataframe CENTRO-OESTE\n",
    "l_CO=['GO','MS','MT','DF']\n",
    "b_CO = base[base.ESTADO.isin(l_CO)]"
   ]
  },
  {
   "cell_type": "code",
   "execution_count": 99,
   "metadata": {},
   "outputs": [
    {
     "data": {
      "text/plain": [
       "{'BR': [86.65615141955836, 13.34384858044164],\n",
       " 'SE': [88.69519742002964, 11.304802579970366],\n",
       " 'NE': [82.49190321966088, 17.508096780339113],\n",
       " 'CO': [88.07718814610614, 11.922811853893867],\n",
       " 'S': [90.1666416453986, 9.833358354601412],\n",
       " 'N': [85.28735632183908, 14.71264367816092]}"
      ]
     },
     "execution_count": 99,
     "metadata": {},
     "output_type": "execute_result"
    }
   ],
   "source": [
    "GBR = base[u'GENERO'].value_counts()/len(base['GENERO'])*100\n",
    "GSE = b_SE[u'GENERO'].value_counts()/len(b_SE['GENERO'])*100\n",
    "GNE = b_NE[u'GENERO'].value_counts()/len(b_NE['GENERO'])*100\n",
    "GCO = b_CO[u'GENERO'].value_counts()/len(b_CO['GENERO'])*100\n",
    "GS = b_S[u'GENERO'].value_counts()/len(b_S['GENERO'])*100\n",
    "GN = b_N[u'GENERO'].value_counts()/len(b_N['GENERO'])*100\n",
    "\n",
    "GENR = {\"BR\": [GBR['MASCULINO'],GBR['FEMININO']],\n",
    "        \"SE\": [GSE['MASCULINO'],GSE['FEMININO']],\n",
    "        \"NE\": [GNE['MASCULINO'],GNE['FEMININO']],\n",
    "        \"CO\": [GCO['MASCULINO'],GCO['FEMININO']],\n",
    "        \"S\": [GS['MASCULINO'],GS['FEMININO']],\n",
    "        \"N\": [GN['MASCULINO'],GN['FEMININO']]}                \n",
    "GENR"
   ]
  },
  {
   "cell_type": "code",
   "execution_count": 140,
   "metadata": {},
   "outputs": [
    {
     "data": {
      "image/png": "[encoded data removed]",
      "text/plain": [
       "<Figure size 720x432 with 1 Axes>"
      ]
     },
     "metadata": {
      "needs_background": "light"
     },
     "output_type": "display_data"
    }
   ],
   "source": [
    "plt.figure(figsize=(10,6))\n",
    "xx=base['GENERO'].unique()\n",
    "yy=(base[u'GENERO'].value_counts()/len(base['GENERO'])*100)\n",
    "plt.bar(xx,yy, color='#009999')\n",
    "plt.title('Distribuição dos candidatos a prefeito por gênero no Brasil')\n",
    "plt.ylabel('Porcentagem[%]')\n",
    "plt.show();"
   ]
  },
  {
   "cell_type": "code",
   "execution_count": 139,
   "metadata": {},
   "outputs": [
    {
     "data": {
      "text/plain": [
       "array(['MASCULINO', 'FEMININO'], dtype=object)"
      ]
     },
     "execution_count": 139,
     "metadata": {},
     "output_type": "execute_result"
    }
   ],
   "source": [
    "base['GENERO'].unique()"
   ]
  },
  {
   "cell_type": "markdown",
   "metadata": {},
   "source": [
    "# Como é a distribuição dos candidatos por Raça no país?\n",
    "## Esta proporção é similar em todas as  Regiões do Brasil?\n",
    "\n",
    "#### Como pode-se observar no resultado da tabela (linha 142 do código abaixo), os candidatos a prefeito em sua maioria é de COR branca em 65%, seguido por pardo 30%, preto 3,7%, indigina 0,2%.\n",
    "#### O Rio Grande do Sul e o Nordeste apresentaram valores discrepantes quanto ao perfil médio dos candidatos a prefeito no país. No Rio Grande do Sul 93,6% são de COR branca, 4,9% parda e 1,1% preta. Já no Nordeste observa-se a uma maior diversificação, ou seja, 48,9% branco, 45,1% pardo e 4,8% preto e 0,2% indigena.\n",
    "#### A Região Norte que apresentou maior número de candidatos de COR preta 5,3%, seguido pela Região Nordeste 4,8%.\n",
    "\n",
    "## Quando analisamos na perspectiva de gênero, a distribuição dos candidatos por Raça sofre alguma alteração?\n",
    "#### Não, permanece a mesma composição com, maioria de cor branca, em segundo lugar parda e em terceiro lugar preta. O gráfico gerado na célula 196.\n"
   ]
  },
  {
   "cell_type": "code",
   "execution_count": 101,
   "metadata": {},
   "outputs": [
    {
     "data": {
      "text/html": [
       "<div>\n",
       "<style scoped>\n",
       "    .dataframe tbody tr th:only-of-type {\n",
       "        vertical-align: middle;\n",
       "    }\n",
       "\n",
       "    .dataframe tbody tr th {\n",
       "        vertical-align: top;\n",
       "    }\n",
       "\n",
       "    .dataframe thead th {\n",
       "        text-align: right;\n",
       "    }\n",
       "</style>\n",
       "<table border=\"1\" class=\"dataframe\">\n",
       "  <thead>\n",
       "    <tr style=\"text-align: right;\">\n",
       "      <th></th>\n",
       "      <th>BR%</th>\n",
       "      <th>SE%</th>\n",
       "      <th>NE%</th>\n",
       "      <th>CO%</th>\n",
       "      <th>S%</th>\n",
       "      <th>N%</th>\n",
       "    </tr>\n",
       "  </thead>\n",
       "  <tbody>\n",
       "    <tr>\n",
       "      <th>BRANCA</th>\n",
       "      <td>64.918268</td>\n",
       "      <td>76.274732</td>\n",
       "      <td>48.885502</td>\n",
       "      <td>60.957960</td>\n",
       "      <td>93.574538</td>\n",
       "      <td>56.735632</td>\n",
       "    </tr>\n",
       "    <tr>\n",
       "      <th>PARDA</th>\n",
       "      <td>30.384284</td>\n",
       "      <td>19.192888</td>\n",
       "      <td>45.141932</td>\n",
       "      <td>34.631289</td>\n",
       "      <td>4.879147</td>\n",
       "      <td>35.402299</td>\n",
       "    </tr>\n",
       "    <tr>\n",
       "      <th>PRETA</th>\n",
       "      <td>3.705191</td>\n",
       "      <td>3.730498</td>\n",
       "      <td>4.848543</td>\n",
       "      <td>3.204686</td>\n",
       "      <td>1.110944</td>\n",
       "      <td>5.287356</td>\n",
       "    </tr>\n",
       "    <tr>\n",
       "      <th>INDIGENA</th>\n",
       "      <td>0.192142</td>\n",
       "      <td>0.095877</td>\n",
       "      <td>0.200038</td>\n",
       "      <td>0.137836</td>\n",
       "      <td>0.045038</td>\n",
       "      <td>0.643678</td>\n",
       "    </tr>\n",
       "    <tr>\n",
       "      <th>OUTROS</th>\n",
       "      <td>0.513335</td>\n",
       "      <td>0.427090</td>\n",
       "      <td>0.571537</td>\n",
       "      <td>0.895934</td>\n",
       "      <td>0.300255</td>\n",
       "      <td>1.195402</td>\n",
       "    </tr>\n",
       "  </tbody>\n",
       "</table>\n",
       "</div>"
      ],
      "text/plain": [
       "                BR%        SE%        NE%        CO%         S%         N%\n",
       "BRANCA    64.918268  76.274732  48.885502  60.957960  93.574538  56.735632\n",
       "PARDA     30.384284  19.192888  45.141932  34.631289   4.879147  35.402299\n",
       "PRETA      3.705191   3.730498   4.848543   3.204686   1.110944   5.287356\n",
       "INDIGENA   0.192142   0.095877   0.200038   0.137836   0.045038   0.643678\n",
       "OUTROS     0.513335   0.427090   0.571537   0.895934   0.300255   1.195402"
      ]
     },
     "execution_count": 101,
     "metadata": {},
     "output_type": "execute_result"
    }
   ],
   "source": [
    "RBR = base[u'COR_RACA'].value_counts()/len(base['COR_RACA'])*100\n",
    "RSE = b_SE[u'COR_RACA'].value_counts()/len(b_SE['COR_RACA'])*100\n",
    "RNE = b_NE[u'COR_RACA'].value_counts()/len(b_NE['COR_RACA'])*100\n",
    "RCO = b_CO[u'COR_RACA'].value_counts()/len(b_CO['COR_RACA'])*100\n",
    "RS = b_S[u'COR_RACA'].value_counts()/len(b_S['COR_RACA'])*100\n",
    "RN = b_N[u'COR_RACA'].value_counts()/len(b_N['COR_RACA'])*100\n",
    "\n",
    "RACAR = {\"BR%\": [RBR[0],RBR[1],RBR[2],RBR[5], RBR[3:4].sum()],\n",
    "         \"SE%\": [RSE[0],RSE[1],RSE[2], RSE[5], RSE[3:4].sum()],\n",
    "         \"NE%\": [RNE[0],RNE[1],RNE[2], RNE[5], RNE[3:4].sum()],\n",
    "         \"CO%\": [RCO[0],RCO[1],RCO[2], RCO[5], RCO[3:4].sum()],\n",
    "         \"S%\": [RS[0],RS[1],RS[2],RS[5], RS[3:4].sum()],\n",
    "         \"N%\": [RN[0],RN[1],RN[2],RN[5], RN[3:4].sum()]}                \n",
    "\n",
    "#Verifica qual a porcentagem dos perfils \n",
    "df_RACA = pd.DataFrame(data=RACAR)\n",
    "df_RACA.rename(index={0:'BRANCA', 1:'PARDA', 2:'PRETA', 3:'INDIGENA',4:'OUTROS'}, inplace=True)\n",
    "df_RACA.head()"
   ]
  },
  {
   "cell_type": "code",
   "execution_count": 102,
   "metadata": {},
   "outputs": [
    {
     "data": {
      "text/plain": [
       "array(['BRANCA', 'PARDA', 'AMARELA', 'PRETA', 'SEM INFORMAÇÃO',\n",
       "       'INDÍGENA'], dtype=object)"
      ]
     },
     "execution_count": 102,
     "metadata": {},
     "output_type": "execute_result"
    }
   ],
   "source": [
    "base['COR_RACA'].unique()"
   ]
  },
  {
   "cell_type": "code",
   "execution_count": 103,
   "metadata": {},
   "outputs": [
    {
     "data": {
      "image/png": "[encoded data removed]",
      "text/plain": [
       "<Figure size 720x432 with 1 Axes>"
      ]
     },
     "metadata": {
      "needs_background": "light"
     },
     "output_type": "display_data"
    }
   ],
   "source": [
    "plt.figure(figsize=(10,6))\n",
    "\n",
    "xx=df_RACA['BR%'].index[:]\n",
    "yy=df_RACA['BR%']\n",
    "plt.bar(xx,yy, color='#009999')\n",
    "plt.title('Distribuição dos candidatos a prefeito no Brasil - Raça')\n",
    "plt.ylabel('Porcentagem[%]')\n",
    "plt.show();"
   ]
  },
  {
   "cell_type": "code",
   "execution_count": 104,
   "metadata": {},
   "outputs": [
    {
     "data": {
      "text/html": [
       "<div>\n",
       "<style scoped>\n",
       "    .dataframe tbody tr th:only-of-type {\n",
       "        vertical-align: middle;\n",
       "    }\n",
       "\n",
       "    .dataframe tbody tr th {\n",
       "        vertical-align: top;\n",
       "    }\n",
       "\n",
       "    .dataframe thead th {\n",
       "        text-align: right;\n",
       "    }\n",
       "</style>\n",
       "<table border=\"1\" class=\"dataframe\">\n",
       "  <thead>\n",
       "    <tr style=\"text-align: right;\">\n",
       "      <th></th>\n",
       "      <th>BR%</th>\n",
       "      <th>SE%</th>\n",
       "      <th>NE%</th>\n",
       "      <th>CO%</th>\n",
       "      <th>S%</th>\n",
       "      <th>N%</th>\n",
       "    </tr>\n",
       "  </thead>\n",
       "  <tbody>\n",
       "    <tr>\n",
       "      <th>BRANCA</th>\n",
       "      <td>64.918268</td>\n",
       "      <td>76.274732</td>\n",
       "      <td>48.885502</td>\n",
       "      <td>60.957960</td>\n",
       "      <td>93.574538</td>\n",
       "      <td>56.735632</td>\n",
       "    </tr>\n",
       "    <tr>\n",
       "      <th>PARDA</th>\n",
       "      <td>30.384284</td>\n",
       "      <td>19.192888</td>\n",
       "      <td>45.141932</td>\n",
       "      <td>34.631289</td>\n",
       "      <td>4.879147</td>\n",
       "      <td>35.402299</td>\n",
       "    </tr>\n",
       "    <tr>\n",
       "      <th>PRETA</th>\n",
       "      <td>3.705191</td>\n",
       "      <td>3.730498</td>\n",
       "      <td>4.848543</td>\n",
       "      <td>3.204686</td>\n",
       "      <td>1.110944</td>\n",
       "      <td>5.287356</td>\n",
       "    </tr>\n",
       "    <tr>\n",
       "      <th>INDIGENA</th>\n",
       "      <td>0.192142</td>\n",
       "      <td>0.095877</td>\n",
       "      <td>0.200038</td>\n",
       "      <td>0.137836</td>\n",
       "      <td>0.045038</td>\n",
       "      <td>0.643678</td>\n",
       "    </tr>\n",
       "    <tr>\n",
       "      <th>OUTROS</th>\n",
       "      <td>0.513335</td>\n",
       "      <td>0.427090</td>\n",
       "      <td>0.571537</td>\n",
       "      <td>0.895934</td>\n",
       "      <td>0.300255</td>\n",
       "      <td>1.195402</td>\n",
       "    </tr>\n",
       "  </tbody>\n",
       "</table>\n",
       "</div>"
      ],
      "text/plain": [
       "                BR%        SE%        NE%        CO%         S%         N%\n",
       "BRANCA    64.918268  76.274732  48.885502  60.957960  93.574538  56.735632\n",
       "PARDA     30.384284  19.192888  45.141932  34.631289   4.879147  35.402299\n",
       "PRETA      3.705191   3.730498   4.848543   3.204686   1.110944   5.287356\n",
       "INDIGENA   0.192142   0.095877   0.200038   0.137836   0.045038   0.643678\n",
       "OUTROS     0.513335   0.427090   0.571537   0.895934   0.300255   1.195402"
      ]
     },
     "execution_count": 104,
     "metadata": {},
     "output_type": "execute_result"
    }
   ],
   "source": [
    "RBR = base[u'COR_RACA'].value_counts()/len(base['COR_RACA'])*100\n",
    "RSE = b_SE[u'COR_RACA'].value_counts()/len(b_SE['COR_RACA'])*100\n",
    "RNE = b_NE[u'COR_RACA'].value_counts()/len(b_NE['COR_RACA'])*100\n",
    "RCO = b_CO[u'COR_RACA'].value_counts()/len(b_CO['COR_RACA'])*100\n",
    "RS = b_S[u'COR_RACA'].value_counts()/len(b_S['COR_RACA'])*100\n",
    "RN = b_N[u'COR_RACA'].value_counts()/len(b_N['COR_RACA'])*100\n",
    "\n",
    "RACAR = {\"BR%\": [RBR[0],RBR[1],RBR[2],RBR[5], RBR[3:4].sum()],\n",
    "         \"SE%\": [RSE[0],RSE[1],RSE[2], RSE[5], RSE[3:4].sum()],\n",
    "         \"NE%\": [RNE[0],RNE[1],RNE[2], RNE[5], RNE[3:4].sum()],\n",
    "         \"CO%\": [RCO[0],RCO[1],RCO[2], RCO[5], RCO[3:4].sum()],\n",
    "         \"S%\": [RS[0],RS[1],RS[2],RS[5], RS[3:4].sum()],\n",
    "         \"N%\": [RN[0],RN[1],RN[2],RN[5], RN[3:4].sum()]}                \n",
    "\n",
    "#Verifica qual a porcentagem dos perfils \n",
    "df_RACA = pd.DataFrame(data=RACAR)\n",
    "df_RACA.rename(index={0:'BRANCA', 1:'PARDA', 2:'PRETA', 3:'INDIGENA',4:'OUTROS'}, inplace=True)\n",
    "df_RACA.head()"
   ]
  },
  {
   "cell_type": "code",
   "execution_count": 105,
   "metadata": {},
   "outputs": [
    {
     "data": {
      "text/html": [
       "<div>\n",
       "<style scoped>\n",
       "    .dataframe tbody tr th:only-of-type {\n",
       "        vertical-align: middle;\n",
       "    }\n",
       "\n",
       "    .dataframe tbody tr th {\n",
       "        vertical-align: top;\n",
       "    }\n",
       "\n",
       "    .dataframe thead th {\n",
       "        text-align: right;\n",
       "    }\n",
       "</style>\n",
       "<table border=\"1\" class=\"dataframe\">\n",
       "  <thead>\n",
       "    <tr style=\"text-align: right;\">\n",
       "      <th></th>\n",
       "      <th>BR%</th>\n",
       "      <th>SE%</th>\n",
       "      <th>NE%</th>\n",
       "      <th>CO</th>\n",
       "      <th>S</th>\n",
       "      <th>N</th>\n",
       "    </tr>\n",
       "  </thead>\n",
       "  <tbody>\n",
       "    <tr>\n",
       "      <th>BRANCA</th>\n",
       "      <td>8.715228</td>\n",
       "      <td>8.759697</td>\n",
       "      <td>9.335111</td>\n",
       "      <td>8.063405</td>\n",
       "      <td>9.262873</td>\n",
       "      <td>5.425287</td>\n",
       "    </tr>\n",
       "    <tr>\n",
       "      <th>PARDA</th>\n",
       "      <td>3.948953</td>\n",
       "      <td>1.830384</td>\n",
       "      <td>7.239474</td>\n",
       "      <td>3.445899</td>\n",
       "      <td>0.420357</td>\n",
       "      <td>8.137931</td>\n",
       "    </tr>\n",
       "    <tr>\n",
       "      <th>PRETA</th>\n",
       "      <td>0.539145</td>\n",
       "      <td>0.644993</td>\n",
       "      <td>0.723947</td>\n",
       "      <td>0.310131</td>\n",
       "      <td>0.075064</td>\n",
       "      <td>0.827586</td>\n",
       "    </tr>\n",
       "  </tbody>\n",
       "</table>\n",
       "</div>"
      ],
      "text/plain": [
       "             BR%       SE%       NE%        CO         S         N\n",
       "BRANCA  8.715228  8.759697  9.335111  8.063405  9.262873  5.425287\n",
       "PARDA   3.948953  1.830384  7.239474  3.445899  0.420357  8.137931\n",
       "PRETA   0.539145  0.644993  0.723947  0.310131  0.075064  0.827586"
      ]
     },
     "execution_count": 105,
     "metadata": {},
     "output_type": "execute_result"
    }
   ],
   "source": [
    "GRBR = base.groupby('GENERO')[u'COR_RACA'].value_counts()/len(base['COR_RACA'])*100\n",
    "GRSE = b_SE.groupby('GENERO')[u'COR_RACA'].value_counts()/len(b_SE['COR_RACA'])*100\n",
    "GRNE = b_NE.groupby('GENERO')[u'COR_RACA'].value_counts()/len(b_NE['COR_RACA'])*100\n",
    "GRCO = b_CO.groupby('GENERO')[u'COR_RACA'].value_counts()/len(b_CO['COR_RACA'])*100\n",
    "GRS = b_S.groupby('GENERO')[u'COR_RACA'].value_counts()/len(b_S['COR_RACA'])*100\n",
    "GRN = b_N.groupby('GENERO')[u'COR_RACA'].value_counts()/len(b_N['COR_RACA'])*100\n",
    "            \n",
    "\n",
    "#Verifica qual a porcentagem dos perfils FEMINININO\n",
    "FEM_GRACAR = {\"BR%\":GRBR['FEMININO'][0:3],\n",
    "          \"SE%\":GRSE['FEMININO'][0:3],\n",
    "          \"NE%\":GRNE['FEMININO'][0:3],\n",
    "          \"CO\":GRCO['FEMININO'][0:3],\n",
    "          \"S\":GRS['FEMININO'][0:3],\n",
    "          \"N\":GRN['FEMININO'][0:3],\n",
    "         }\n",
    "\n",
    "#Verifica qual a porcentagem dos perfils MASCULINO\n",
    "MASC_GRACAR = {\"BR%\":GRBR['MASCULINO'][0:3],\n",
    "          \"SE%\":GRSE['MASCULINO'][0:3],\n",
    "          \"NE%\":GRNE['MASCULINO'][0:3],\n",
    "          \"CO\":GRCO['MASCULINO'][0:3],\n",
    "          \"S\":GRS['MASCULINO'][0:3],\n",
    "          \"N\":GRN['MASCULINO'][0:3],\n",
    "         }\n",
    "\n",
    "df_FEM_GRACAR = pd.DataFrame(data=FEM_GRACAR)\n",
    "df_MASC_GRACAR = pd.DataFrame(data=MASC_GRACAR)\n",
    "df_FEM_GRACAR.head()"
   ]
  },
  {
   "cell_type": "code",
   "execution_count": 106,
   "metadata": {},
   "outputs": [
    {
     "data": {
      "text/html": [
       "<div>\n",
       "<style scoped>\n",
       "    .dataframe tbody tr th:only-of-type {\n",
       "        vertical-align: middle;\n",
       "    }\n",
       "\n",
       "    .dataframe tbody tr th {\n",
       "        vertical-align: top;\n",
       "    }\n",
       "\n",
       "    .dataframe thead th {\n",
       "        text-align: right;\n",
       "    }\n",
       "</style>\n",
       "<table border=\"1\" class=\"dataframe\">\n",
       "  <thead>\n",
       "    <tr style=\"text-align: right;\">\n",
       "      <th></th>\n",
       "      <th>BR%</th>\n",
       "      <th>SE%</th>\n",
       "      <th>NE%</th>\n",
       "      <th>CO</th>\n",
       "      <th>S</th>\n",
       "      <th>N</th>\n",
       "    </tr>\n",
       "  </thead>\n",
       "  <tbody>\n",
       "    <tr>\n",
       "      <th>BRANCA</th>\n",
       "      <td>56.203040</td>\n",
       "      <td>67.515035</td>\n",
       "      <td>35.806820</td>\n",
       "      <td>52.894555</td>\n",
       "      <td>84.311665</td>\n",
       "      <td>29.977011</td>\n",
       "    </tr>\n",
       "    <tr>\n",
       "      <th>PARDA</th>\n",
       "      <td>26.435331</td>\n",
       "      <td>17.362503</td>\n",
       "      <td>41.646028</td>\n",
       "      <td>31.185389</td>\n",
       "      <td>4.458790</td>\n",
       "      <td>48.597701</td>\n",
       "    </tr>\n",
       "    <tr>\n",
       "      <th>PRETA</th>\n",
       "      <td>3.166045</td>\n",
       "      <td>3.085505</td>\n",
       "      <td>4.124595</td>\n",
       "      <td>2.894555</td>\n",
       "      <td>1.035880</td>\n",
       "      <td>4.459770</td>\n",
       "    </tr>\n",
       "  </tbody>\n",
       "</table>\n",
       "</div>"
      ],
      "text/plain": [
       "              BR%        SE%        NE%         CO          S          N\n",
       "BRANCA  56.203040  67.515035  35.806820  52.894555  84.311665  29.977011\n",
       "PARDA   26.435331  17.362503  41.646028  31.185389   4.458790  48.597701\n",
       "PRETA    3.166045   3.085505   4.124595   2.894555   1.035880   4.459770"
      ]
     },
     "execution_count": 106,
     "metadata": {},
     "output_type": "execute_result"
    }
   ],
   "source": [
    "df_MASC_GRACAR.head()"
   ]
  },
  {
   "cell_type": "code",
   "execution_count": 107,
   "metadata": {},
   "outputs": [
    {
     "data": {
      "image/png": "[encoded data removed]",
      "text/plain": [
       "<Figure size 720x360 with 3 Axes>"
      ]
     },
     "metadata": {
      "needs_background": "light"
     },
     "output_type": "display_data"
    }
   ],
   "source": [
    "#fig, (ax1, ax2) = plt.subplot(1, 2, figsize=(10,5))\n",
    "fig, (ax1, ax2, ax3) = plt.subplots(1,3, figsize=(10, 5), sharey=True)\n",
    "\n",
    "xx=df_RACA['BR%'].index[:3]\n",
    "xx1=df_MASC_GRACAR['BR%'].index[:]\n",
    "yy1=df_RACA['BR%'][:3]\n",
    "yy2=df_MASC_GRACAR['BR%']\n",
    "yy3=df_FEM_GRACAR['BR%']\n",
    "# Dados para cada subplot\n",
    "ax1.bar(xx,yy1,color='#009999')\n",
    "ax2.bar(xx1,yy2,color='#009999')\n",
    "ax3.bar(xx1,yy3,color='#009999')\n",
    "\n",
    "ax1.set(title=\"Brasil - Raça\", xlabel=\"Raça\", ylabel=\"Porcentagem [%]\")\n",
    "ax2.set(title=\"Brasil - Masculino/Raça\", xlabel=\"Raça\", ylabel=\"Porcentagem [%]\")\n",
    "ax3.set(title=\"Brasil - Feminino/Raça\", xlabel=\"Raça x\", ylabel=\"Porcentagem [%]\")\n",
    "\n",
    "plt.show()"
   ]
  },
  {
   "cell_type": "markdown",
   "metadata": {},
   "source": [
    "# Qual o grau de instrução dos candidatos a prefeito no Brasil?\n",
    "\n",
    "### Os 56% dos candidatos a prefeito no Brasil possuem nível superior completo e 25% possuem ensino médio completo.\n",
    "\n",
    "# Esta proporção é similar em todas as  Regiões do Brasil?\n",
    "### Ao analisar o comportamento regional, observa-se similaridade com a média Nacional. Entretanto, na Região SE os candidatos com nível superior completo apresentam uma porcentagem ligeiramente maior que a média do Brasil (57%); e a Região N com a menor concentração de candidatos de nível superior completo (50,3%)\n",
    "\n",
    "# Quando analisamos na perspectiva de gênero, a distribuição dos candidatos por escolaridade sofre alguma alteração?\n",
    "### Não, permanece a mesma a mesma proporção. O independente do sexo os candidatos possuem ensino superior completo e em segundo lugar ensino médio completo.\n"
   ]
  },
  {
   "cell_type": "raw",
   "metadata": {},
   "source": [
    "#Verifica qual a porcentagem dos perfils \n",
    "RBR[RBR.index[3:]].sum()"
   ]
  },
  {
   "cell_type": "code",
   "execution_count": 110,
   "metadata": {},
   "outputs": [
    {
     "data": {
      "text/html": [
       "<div>\n",
       "<style scoped>\n",
       "    .dataframe tbody tr th:only-of-type {\n",
       "        vertical-align: middle;\n",
       "    }\n",
       "\n",
       "    .dataframe tbody tr th {\n",
       "        vertical-align: top;\n",
       "    }\n",
       "\n",
       "    .dataframe thead th {\n",
       "        text-align: right;\n",
       "    }\n",
       "</style>\n",
       "<table border=\"1\" class=\"dataframe\">\n",
       "  <thead>\n",
       "    <tr style=\"text-align: right;\">\n",
       "      <th></th>\n",
       "      <th>BR%</th>\n",
       "      <th>SE%</th>\n",
       "      <th>NE%</th>\n",
       "      <th>CO%</th>\n",
       "      <th>S%</th>\n",
       "      <th>N%</th>\n",
       "    </tr>\n",
       "  </thead>\n",
       "  <tbody>\n",
       "    <tr>\n",
       "      <th>ENSINO FUNDAMENTAL COMPLETO</th>\n",
       "      <td>5.770003</td>\n",
       "      <td>5.613179</td>\n",
       "      <td>5.315298</td>\n",
       "      <td>5.513439</td>\n",
       "      <td>6.635640</td>\n",
       "      <td>6.114943</td>\n",
       "    </tr>\n",
       "    <tr>\n",
       "      <th>ENSINO FUNDAMENTAL INCOMPLETO</th>\n",
       "      <td>5.411529</td>\n",
       "      <td>5.656759</td>\n",
       "      <td>4.505620</td>\n",
       "      <td>5.375603</td>\n",
       "      <td>5.900015</td>\n",
       "      <td>5.977011</td>\n",
       "    </tr>\n",
       "    <tr>\n",
       "      <th>ENSINO MÉDIO COMPLETO</th>\n",
       "      <td>24.978492</td>\n",
       "      <td>22.627037</td>\n",
       "      <td>27.128977</td>\n",
       "      <td>27.119228</td>\n",
       "      <td>23.104639</td>\n",
       "      <td>28.505747</td>\n",
       "    </tr>\n",
       "    <tr>\n",
       "      <th>ENSINO MÉDIO INCOMPLETO</th>\n",
       "      <td>2.558073</td>\n",
       "      <td>2.501525</td>\n",
       "      <td>2.429034</td>\n",
       "      <td>3.376981</td>\n",
       "      <td>2.357003</td>\n",
       "      <td>2.804598</td>\n",
       "    </tr>\n",
       "    <tr>\n",
       "      <th>LÊ E ESCREVE</th>\n",
       "      <td>0.983654</td>\n",
       "      <td>0.636276</td>\n",
       "      <td>1.171652</td>\n",
       "      <td>1.033770</td>\n",
       "      <td>0.870740</td>\n",
       "      <td>1.425287</td>\n",
       "    </tr>\n",
       "    <tr>\n",
       "      <th>SUPERIOR COMPLETO</th>\n",
       "      <td>54.488099</td>\n",
       "      <td>57.038264</td>\n",
       "      <td>53.114879</td>\n",
       "      <td>52.549966</td>\n",
       "      <td>55.532202</td>\n",
       "      <td>50.298851</td>\n",
       "    </tr>\n",
       "    <tr>\n",
       "      <th>SUPERIOR INCOMPLETO</th>\n",
       "      <td>5.810152</td>\n",
       "      <td>5.926959</td>\n",
       "      <td>6.334540</td>\n",
       "      <td>5.031013</td>\n",
       "      <td>5.599760</td>\n",
       "      <td>4.873563</td>\n",
       "    </tr>\n",
       "  </tbody>\n",
       "</table>\n",
       "</div>"
      ],
      "text/plain": [
       "                                     BR%        SE%        NE%        CO%  \\\n",
       "ENSINO FUNDAMENTAL COMPLETO     5.770003   5.613179   5.315298   5.513439   \n",
       "ENSINO FUNDAMENTAL INCOMPLETO   5.411529   5.656759   4.505620   5.375603   \n",
       "ENSINO MÉDIO COMPLETO          24.978492  22.627037  27.128977  27.119228   \n",
       "ENSINO MÉDIO INCOMPLETO         2.558073   2.501525   2.429034   3.376981   \n",
       "LÊ E ESCREVE                    0.983654   0.636276   1.171652   1.033770   \n",
       "SUPERIOR COMPLETO              54.488099  57.038264  53.114879  52.549966   \n",
       "SUPERIOR INCOMPLETO             5.810152   5.926959   6.334540   5.031013   \n",
       "\n",
       "                                      S%         N%  \n",
       "ENSINO FUNDAMENTAL COMPLETO     6.635640   6.114943  \n",
       "ENSINO FUNDAMENTAL INCOMPLETO   5.900015   5.977011  \n",
       "ENSINO MÉDIO COMPLETO          23.104639  28.505747  \n",
       "ENSINO MÉDIO INCOMPLETO         2.357003   2.804598  \n",
       "LÊ E ESCREVE                    0.870740   1.425287  \n",
       "SUPERIOR COMPLETO              55.532202  50.298851  \n",
       "SUPERIOR INCOMPLETO             5.599760   4.873563  "
      ]
     },
     "execution_count": 110,
     "metadata": {},
     "output_type": "execute_result"
    }
   ],
   "source": [
    "IBR = base[u'GRAU_INSTRUCAO'].value_counts()/len(base['GRAU_INSTRUCAO'])*100\n",
    "ISE = b_SE[u'GRAU_INSTRUCAO'].value_counts()/len(b_SE['GRAU_INSTRUCAO'])*100\n",
    "INE = b_NE[u'GRAU_INSTRUCAO'].value_counts()/len(b_NE['GRAU_INSTRUCAO'])*100\n",
    "ICO = b_CO[u'GRAU_INSTRUCAO'].value_counts()/len(b_CO['GRAU_INSTRUCAO'])*100\n",
    "IS = b_S[u'GRAU_INSTRUCAO'].value_counts()/len(b_S['GRAU_INSTRUCAO'])*100\n",
    "IN = b_N[u'GRAU_INSTRUCAO'].value_counts()/len(b_N['GRAU_INSTRUCAO'])*100\n",
    "\n",
    "INSTR = {\"BR%\": IBR[0:],\n",
    "         \"SE%\": ISE[0:],\n",
    "         \"NE%\": INE[0:],\n",
    "         \"CO%\": ICO[0:],\n",
    "         \"S%\": IS[0:],\n",
    "         \"N%\": IN[0:]}                \n",
    "\n",
    "#Verifica qual a porcentagem dos perfils \n",
    "df_INSTR = pd.DataFrame(data=INSTR)\n",
    "df_INSTR.head(10)"
   ]
  },
  {
   "cell_type": "code",
   "execution_count": 111,
   "metadata": {},
   "outputs": [
    {
     "data": {
      "image/png": "[encoded data removed]",
      "text/plain": [
       "<Figure size 720x432 with 1 Axes>"
      ]
     },
     "metadata": {
      "needs_background": "light"
     },
     "output_type": "display_data"
    }
   ],
   "source": [
    "plt.figure(figsize=(10,6))\n",
    "\n",
    "xx=df_INSTR['BR%'].index[:]\n",
    "yy=df_INSTR['BR%']\n",
    "plt.barh(xx,yy, color='#009999')\n",
    "#plt.xticks(rotation=45)\n",
    "plt.title('Distribuição dos candidatos a prefeito no Brasil - Escolaridade')\n",
    "plt.xlabel('Porcentagem[%]')\n",
    "\n",
    "\n",
    "plt.show();"
   ]
  },
  {
   "cell_type": "code",
   "execution_count": 112,
   "metadata": {},
   "outputs": [
    {
     "data": {
      "text/html": [
       "<div>\n",
       "<style scoped>\n",
       "    .dataframe tbody tr th:only-of-type {\n",
       "        vertical-align: middle;\n",
       "    }\n",
       "\n",
       "    .dataframe tbody tr th {\n",
       "        vertical-align: top;\n",
       "    }\n",
       "\n",
       "    .dataframe thead th {\n",
       "        text-align: right;\n",
       "    }\n",
       "</style>\n",
       "<table border=\"1\" class=\"dataframe\">\n",
       "  <thead>\n",
       "    <tr style=\"text-align: right;\">\n",
       "      <th></th>\n",
       "      <th>BR%</th>\n",
       "      <th>SE%</th>\n",
       "      <th>NE%</th>\n",
       "      <th>CO</th>\n",
       "      <th>S</th>\n",
       "      <th>N</th>\n",
       "    </tr>\n",
       "  </thead>\n",
       "  <tbody>\n",
       "    <tr>\n",
       "      <th>ENSINO FUNDAMENTAL COMPLETO</th>\n",
       "      <td>0.252366</td>\n",
       "      <td>0.200471</td>\n",
       "      <td>0.361974</td>\n",
       "      <td>0.137836</td>\n",
       "      <td>0.180153</td>\n",
       "      <td>0.459770</td>\n",
       "    </tr>\n",
       "    <tr>\n",
       "      <th>ENSINO FUNDAMENTAL INCOMPLETO</th>\n",
       "      <td>0.192142</td>\n",
       "      <td>0.148174</td>\n",
       "      <td>0.285769</td>\n",
       "      <td>0.137836</td>\n",
       "      <td>0.075064</td>\n",
       "      <td>0.367816</td>\n",
       "    </tr>\n",
       "    <tr>\n",
       "      <th>ENSINO MÉDIO COMPLETO</th>\n",
       "      <td>2.188127</td>\n",
       "      <td>1.429443</td>\n",
       "      <td>3.362545</td>\n",
       "      <td>2.170917</td>\n",
       "      <td>1.291097</td>\n",
       "      <td>2.620690</td>\n",
       "    </tr>\n",
       "    <tr>\n",
       "      <th>ENSINO MÉDIO INCOMPLETO</th>\n",
       "      <td>0.140522</td>\n",
       "      <td>0.078445</td>\n",
       "      <td>0.190512</td>\n",
       "      <td>0.206754</td>\n",
       "      <td>0.090077</td>\n",
       "      <td>0.275862</td>\n",
       "    </tr>\n",
       "    <tr>\n",
       "      <th>LÊ E ESCREVE</th>\n",
       "      <td>0.048753</td>\n",
       "      <td>0.008716</td>\n",
       "      <td>0.076205</td>\n",
       "      <td>0.103377</td>\n",
       "      <td>0.030026</td>\n",
       "      <td>0.045977</td>\n",
       "    </tr>\n",
       "    <tr>\n",
       "      <th>SUPERIOR COMPLETO</th>\n",
       "      <td>9.911098</td>\n",
       "      <td>8.907871</td>\n",
       "      <td>12.335683</td>\n",
       "      <td>8.718125</td>\n",
       "      <td>7.761597</td>\n",
       "      <td>10.574713</td>\n",
       "    </tr>\n",
       "    <tr>\n",
       "      <th>SUPERIOR INCOMPLETO</th>\n",
       "      <td>0.610840</td>\n",
       "      <td>0.531683</td>\n",
       "      <td>0.895409</td>\n",
       "      <td>0.447967</td>\n",
       "      <td>0.405345</td>\n",
       "      <td>0.367816</td>\n",
       "    </tr>\n",
       "  </tbody>\n",
       "</table>\n",
       "</div>"
      ],
      "text/plain": [
       "                                    BR%       SE%        NE%        CO  \\\n",
       "ENSINO FUNDAMENTAL COMPLETO    0.252366  0.200471   0.361974  0.137836   \n",
       "ENSINO FUNDAMENTAL INCOMPLETO  0.192142  0.148174   0.285769  0.137836   \n",
       "ENSINO MÉDIO COMPLETO          2.188127  1.429443   3.362545  2.170917   \n",
       "ENSINO MÉDIO INCOMPLETO        0.140522  0.078445   0.190512  0.206754   \n",
       "LÊ E ESCREVE                   0.048753  0.008716   0.076205  0.103377   \n",
       "SUPERIOR COMPLETO              9.911098  8.907871  12.335683  8.718125   \n",
       "SUPERIOR INCOMPLETO            0.610840  0.531683   0.895409  0.447967   \n",
       "\n",
       "                                      S          N  \n",
       "ENSINO FUNDAMENTAL COMPLETO    0.180153   0.459770  \n",
       "ENSINO FUNDAMENTAL INCOMPLETO  0.075064   0.367816  \n",
       "ENSINO MÉDIO COMPLETO          1.291097   2.620690  \n",
       "ENSINO MÉDIO INCOMPLETO        0.090077   0.275862  \n",
       "LÊ E ESCREVE                   0.030026   0.045977  \n",
       "SUPERIOR COMPLETO              7.761597  10.574713  \n",
       "SUPERIOR INCOMPLETO            0.405345   0.367816  "
      ]
     },
     "execution_count": 112,
     "metadata": {},
     "output_type": "execute_result"
    }
   ],
   "source": [
    "GIBR = base.groupby('GENERO')[u'GRAU_INSTRUCAO'].value_counts()/len(base['GRAU_INSTRUCAO'])*100\n",
    "GISE = b_SE.groupby('GENERO')[u'GRAU_INSTRUCAO'].value_counts()/len(b_SE['GRAU_INSTRUCAO'])*100\n",
    "GINE = b_NE.groupby('GENERO')[u'GRAU_INSTRUCAO'].value_counts()/len(b_NE['GRAU_INSTRUCAO'])*100\n",
    "GICO = b_CO.groupby('GENERO')[u'GRAU_INSTRUCAO'].value_counts()/len(b_CO['GRAU_INSTRUCAO'])*100\n",
    "GIS = b_S.groupby('GENERO')[u'GRAU_INSTRUCAO'].value_counts()/len(b_S['GRAU_INSTRUCAO'])*100\n",
    "GIN = b_N.groupby('GENERO')[u'GRAU_INSTRUCAO'].value_counts()/len(b_N['GRAU_INSTRUCAO'])*100\n",
    "            \n",
    "\n",
    "#Verifica qual a porcentagem dos perfils FEMINININO\n",
    "FEM_GIR = {\"BR%\":GIBR['FEMININO'][0:],\n",
    "          \"SE%\":GISE['FEMININO'][0:],\n",
    "          \"NE%\":GINE['FEMININO'][0:],\n",
    "          \"CO\":GICO['FEMININO'][0:],\n",
    "          \"S\":GIS['FEMININO'][0:],\n",
    "          \"N\":GIN['FEMININO'][0:],\n",
    "         }\n",
    "\n",
    "#Verifica qual a porcentagem dos perfils MASCULINO\n",
    "MASC_GIR = {\"BR%\":GIBR['MASCULINO'][0:],\n",
    "          \"SE%\":GISE['MASCULINO'][0:],\n",
    "          \"NE%\":GINE['MASCULINO'][0:],\n",
    "          \"CO\":GICO['MASCULINO'][0:],\n",
    "          \"S\":GIS['MASCULINO'][0:],\n",
    "          \"N\":GIN['MASCULINO'][0:],\n",
    "         }\n",
    "\n",
    "df_FEM_GIR = pd.DataFrame(data=FEM_GIR)\n",
    "df_MASC_GIR = pd.DataFrame(data=MASC_GIR)\n",
    "df_FEM_GIR.head(10)"
   ]
  },
  {
   "cell_type": "code",
   "execution_count": 113,
   "metadata": {},
   "outputs": [
    {
     "data": {
      "text/html": [
       "<div>\n",
       "<style scoped>\n",
       "    .dataframe tbody tr th:only-of-type {\n",
       "        vertical-align: middle;\n",
       "    }\n",
       "\n",
       "    .dataframe tbody tr th {\n",
       "        vertical-align: top;\n",
       "    }\n",
       "\n",
       "    .dataframe thead th {\n",
       "        text-align: right;\n",
       "    }\n",
       "</style>\n",
       "<table border=\"1\" class=\"dataframe\">\n",
       "  <thead>\n",
       "    <tr style=\"text-align: right;\">\n",
       "      <th></th>\n",
       "      <th>BR%</th>\n",
       "      <th>SE%</th>\n",
       "      <th>NE%</th>\n",
       "      <th>CO</th>\n",
       "      <th>S</th>\n",
       "      <th>N</th>\n",
       "    </tr>\n",
       "  </thead>\n",
       "  <tbody>\n",
       "    <tr>\n",
       "      <th>ENSINO FUNDAMENTAL COMPLETO</th>\n",
       "      <td>5.517637</td>\n",
       "      <td>5.412708</td>\n",
       "      <td>4.953324</td>\n",
       "      <td>5.375603</td>\n",
       "      <td>6.455487</td>\n",
       "      <td>5.655172</td>\n",
       "    </tr>\n",
       "    <tr>\n",
       "      <th>ENSINO FUNDAMENTAL INCOMPLETO</th>\n",
       "      <td>5.219386</td>\n",
       "      <td>5.508585</td>\n",
       "      <td>4.219851</td>\n",
       "      <td>5.237767</td>\n",
       "      <td>5.824951</td>\n",
       "      <td>5.609195</td>\n",
       "    </tr>\n",
       "    <tr>\n",
       "      <th>ENSINO MÉDIO COMPLETO</th>\n",
       "      <td>22.790364</td>\n",
       "      <td>21.197594</td>\n",
       "      <td>23.766432</td>\n",
       "      <td>24.948312</td>\n",
       "      <td>21.813542</td>\n",
       "      <td>25.885057</td>\n",
       "    </tr>\n",
       "    <tr>\n",
       "      <th>ENSINO MÉDIO INCOMPLETO</th>\n",
       "      <td>2.417551</td>\n",
       "      <td>2.423080</td>\n",
       "      <td>2.238522</td>\n",
       "      <td>3.170227</td>\n",
       "      <td>2.266927</td>\n",
       "      <td>2.528736</td>\n",
       "    </tr>\n",
       "    <tr>\n",
       "      <th>LÊ E ESCREVE</th>\n",
       "      <td>0.934901</td>\n",
       "      <td>0.627560</td>\n",
       "      <td>1.095447</td>\n",
       "      <td>0.930393</td>\n",
       "      <td>0.840715</td>\n",
       "      <td>1.379310</td>\n",
       "    </tr>\n",
       "    <tr>\n",
       "      <th>SUPERIOR COMPLETO</th>\n",
       "      <td>44.577000</td>\n",
       "      <td>48.130393</td>\n",
       "      <td>40.779196</td>\n",
       "      <td>43.831840</td>\n",
       "      <td>47.770605</td>\n",
       "      <td>39.724138</td>\n",
       "    </tr>\n",
       "    <tr>\n",
       "      <th>SUPERIOR INCOMPLETO</th>\n",
       "      <td>5.199312</td>\n",
       "      <td>5.395276</td>\n",
       "      <td>5.439131</td>\n",
       "      <td>4.583046</td>\n",
       "      <td>5.194415</td>\n",
       "      <td>4.505747</td>\n",
       "    </tr>\n",
       "  </tbody>\n",
       "</table>\n",
       "</div>"
      ],
      "text/plain": [
       "                                     BR%        SE%        NE%         CO  \\\n",
       "ENSINO FUNDAMENTAL COMPLETO     5.517637   5.412708   4.953324   5.375603   \n",
       "ENSINO FUNDAMENTAL INCOMPLETO   5.219386   5.508585   4.219851   5.237767   \n",
       "ENSINO MÉDIO COMPLETO          22.790364  21.197594  23.766432  24.948312   \n",
       "ENSINO MÉDIO INCOMPLETO         2.417551   2.423080   2.238522   3.170227   \n",
       "LÊ E ESCREVE                    0.934901   0.627560   1.095447   0.930393   \n",
       "SUPERIOR COMPLETO              44.577000  48.130393  40.779196  43.831840   \n",
       "SUPERIOR INCOMPLETO             5.199312   5.395276   5.439131   4.583046   \n",
       "\n",
       "                                       S          N  \n",
       "ENSINO FUNDAMENTAL COMPLETO     6.455487   5.655172  \n",
       "ENSINO FUNDAMENTAL INCOMPLETO   5.824951   5.609195  \n",
       "ENSINO MÉDIO COMPLETO          21.813542  25.885057  \n",
       "ENSINO MÉDIO INCOMPLETO         2.266927   2.528736  \n",
       "LÊ E ESCREVE                    0.840715   1.379310  \n",
       "SUPERIOR COMPLETO              47.770605  39.724138  \n",
       "SUPERIOR INCOMPLETO             5.194415   4.505747  "
      ]
     },
     "execution_count": 113,
     "metadata": {},
     "output_type": "execute_result"
    }
   ],
   "source": [
    "df_MASC_GIR.head(10)"
   ]
  },
  {
   "cell_type": "code",
   "execution_count": 114,
   "metadata": {},
   "outputs": [
    {
     "data": {
      "image/png": "[encoded data removed]",
      "text/plain": [
       "<Figure size 720x360 with 3 Axes>"
      ]
     },
     "metadata": {
      "needs_background": "light"
     },
     "output_type": "display_data"
    }
   ],
   "source": [
    "#fig, (ax1, ax2) = plt.subplot(1, 2, figsize=(10,5))\n",
    "fig, (ax1, ax2, ax3) = plt.subplots(1,3, figsize=(10, 5), sharey=True)\n",
    "\n",
    "xx=df_INSTR['BR%'].index[0:]\n",
    "yy=df_INSTR['BR%']\n",
    "yy2=df_MASC_GIR['BR%']\n",
    "yy3=df_FEM_GIR['BR%']\n",
    "\n",
    "ax1.barh(xx,yy,color='#009999')\n",
    "plt.xlim(0,60)\n",
    "ax2.barh(xx,yy2,color='#009999')\n",
    "ax3.barh(xx,yy3,color='#009999')\n",
    "ax1.set_xlim([0, 60])\n",
    "ax2.set_xlim([0, 60])\n",
    "ax3.set_xlim([0, 60])\n",
    "ax1.set(title=\"Brasil - Escolaridade\", xlabel=\"Porcentagem [%]\", ylabel=\"Escolaridade\")\n",
    "ax2.set(title=\"Masculino/Escolaridade\", xlabel=\"Porcentagem [%]\", ylabel=\"Escolaridade\")\n",
    "ax3.set(title=\"Feminino/Escolaridade\", xlabel=\"Porcentagem [%]\", ylabel=\"Escolaridade\")\n",
    "#plt.xlim(0,60)\n",
    "plt.show()"
   ]
  },
  {
   "cell_type": "markdown",
   "metadata": {},
   "source": [
    "##### Qual a faixa etária dos candidatos a prefeito no Brasil?\n",
    "\n",
    "### A faixa etária com maior concentração de candidatos a prefeito no Brasil é 40-49anos (38%), seguido em segundo lugar por 50-59 anos (33%).  \n",
    "\n",
    "# Existe alguma diferença quando regionalizamos a análise?\n",
    "### O comportamento é similar em quase todas as regiões, apresentando pequenas variações entre essas três classes. Na Região Sul as classes mais significativas estão entre 50 e 59 anos, indicando candidatos ligeiramente mais velhos que as demais Regiões.\n",
    "\n",
    "\n",
    "# E com relação ao gênero existe alguma diferença na faixa etária?\n",
    "### Não foi observada diferença quando analisada a faixa etária por gênero."
   ]
  },
  {
   "cell_type": "code",
   "execution_count": 115,
   "metadata": {},
   "outputs": [
    {
     "data": {
      "image/png": "[encoded data removed]",
      "text/plain": [
       "<Figure size 720x432 with 1 Axes>"
      ]
     },
     "metadata": {
      "needs_background": "light"
     },
     "output_type": "display_data"
    }
   ],
   "source": [
    "plt.figure(figsize=(10,6))\n",
    "plt.hist(base['IDADE'], bins=10,color='#009999')\n",
    "plt.title('Histograma Idade dos candidatos a prefeito no Brasil');\n",
    "plt.xlabel('Idade');"
   ]
  },
  {
   "cell_type": "code",
   "execution_count": 116,
   "metadata": {},
   "outputs": [
    {
     "data": {
      "text/html": [
       "<div>\n",
       "<style scoped>\n",
       "    .dataframe tbody tr th:only-of-type {\n",
       "        vertical-align: middle;\n",
       "    }\n",
       "\n",
       "    .dataframe tbody tr th {\n",
       "        vertical-align: top;\n",
       "    }\n",
       "\n",
       "    .dataframe thead th {\n",
       "        text-align: right;\n",
       "    }\n",
       "</style>\n",
       "<table border=\"1\" class=\"dataframe\">\n",
       "  <thead>\n",
       "    <tr style=\"text-align: right;\">\n",
       "      <th></th>\n",
       "      <th>BR%</th>\n",
       "      <th>SE%</th>\n",
       "      <th>NE%</th>\n",
       "      <th>CO%</th>\n",
       "      <th>S%</th>\n",
       "      <th>N%</th>\n",
       "    </tr>\n",
       "  </thead>\n",
       "  <tbody>\n",
       "    <tr>\n",
       "      <th>30 – 39 ANOS</th>\n",
       "      <td>16.937195</td>\n",
       "      <td>15.113745</td>\n",
       "      <td>20.508668</td>\n",
       "      <td>16.195727</td>\n",
       "      <td>14.051944</td>\n",
       "      <td>18.850575</td>\n",
       "    </tr>\n",
       "    <tr>\n",
       "      <th>40 – 49 ANOS</th>\n",
       "      <td>30.989389</td>\n",
       "      <td>29.774253</td>\n",
       "      <td>31.625071</td>\n",
       "      <td>33.184011</td>\n",
       "      <td>28.899565</td>\n",
       "      <td>35.080460</td>\n",
       "    </tr>\n",
       "    <tr>\n",
       "      <th>50 – 59 ANOS</th>\n",
       "      <td>31.106969</td>\n",
       "      <td>31.517476</td>\n",
       "      <td>27.767194</td>\n",
       "      <td>31.805651</td>\n",
       "      <td>35.730371</td>\n",
       "      <td>30.712644</td>\n",
       "    </tr>\n",
       "    <tr>\n",
       "      <th>60 OU SUPERIOR</th>\n",
       "      <td>18.333811</td>\n",
       "      <td>21.467794</td>\n",
       "      <td>16.241189</td>\n",
       "      <td>16.678153</td>\n",
       "      <td>19.321423</td>\n",
       "      <td>13.011494</td>\n",
       "    </tr>\n",
       "    <tr>\n",
       "      <th>ATÉ 29 ANOS</th>\n",
       "      <td>2.632636</td>\n",
       "      <td>2.126732</td>\n",
       "      <td>3.857878</td>\n",
       "      <td>2.136458</td>\n",
       "      <td>1.996697</td>\n",
       "      <td>2.344828</td>\n",
       "    </tr>\n",
       "  </tbody>\n",
       "</table>\n",
       "</div>"
      ],
      "text/plain": [
       "                      BR%        SE%        NE%        CO%         S%  \\\n",
       "30 – 39 ANOS    16.937195  15.113745  20.508668  16.195727  14.051944   \n",
       "40 – 49 ANOS    30.989389  29.774253  31.625071  33.184011  28.899565   \n",
       "50 – 59 ANOS    31.106969  31.517476  27.767194  31.805651  35.730371   \n",
       "60 OU SUPERIOR  18.333811  21.467794  16.241189  16.678153  19.321423   \n",
       "ATÉ 29 ANOS      2.632636   2.126732   3.857878   2.136458   1.996697   \n",
       "\n",
       "                       N%  \n",
       "30 – 39 ANOS    18.850575  \n",
       "40 – 49 ANOS    35.080460  \n",
       "50 – 59 ANOS    30.712644  \n",
       "60 OU SUPERIOR  13.011494  \n",
       "ATÉ 29 ANOS      2.344828  "
      ]
     },
     "execution_count": 116,
     "metadata": {},
     "output_type": "execute_result"
    }
   ],
   "source": [
    "FEBR = base[u'FAIXA_ETARIA'].value_counts()/len(base['FAIXA_ETARIA'])*100\n",
    "FESE = b_SE[u'FAIXA_ETARIA'].value_counts()/len(b_SE['FAIXA_ETARIA'])*100\n",
    "FENE = b_NE[u'FAIXA_ETARIA'].value_counts()/len(b_NE['FAIXA_ETARIA'])*100\n",
    "FECO = b_CO[u'FAIXA_ETARIA'].value_counts()/len(b_CO['FAIXA_ETARIA'])*100\n",
    "FES = b_S[u'FAIXA_ETARIA'].value_counts()/len(b_S['FAIXA_ETARIA'])*100\n",
    "FEN = b_N[u'FAIXA_ETARIA'].value_counts()/len(b_N['FAIXA_ETARIA'])*100\n",
    "\n",
    "FE = {\"BR%\": FEBR[0:],\n",
    "         \"SE%\": FESE[0:],\n",
    "         \"NE%\": FENE[0:],\n",
    "         \"CO%\": FECO[0:],\n",
    "         \"S%\": FES[0:],\n",
    "         \"N%\": FEN[0:]}                \n",
    "\n",
    "#Verifica qual a porcentagem dos perfils \n",
    "df_FE = pd.DataFrame(data=FE)\n",
    "df_FE.head(20)"
   ]
  },
  {
   "cell_type": "code",
   "execution_count": 117,
   "metadata": {},
   "outputs": [
    {
     "data": {
      "image/png": "[encoded data removed]",
      "text/plain": [
       "<Figure size 720x432 with 1 Axes>"
      ]
     },
     "metadata": {
      "needs_background": "light"
     },
     "output_type": "display_data"
    }
   ],
   "source": [
    "plt.figure(figsize=(10,6))\n",
    "\n",
    "xx=df_FE['BR%'].index[:]\n",
    "yy=df_FE['BR%']\n",
    "plt.bar(xx,yy, color='#009999')\n",
    "plt.xticks(rotation=90)\n",
    "plt.title('Distribuição dos candidatos a prefeito no Brasil - Faixa Etária')\n",
    "plt.ylabel('Porcentagem[%]')\n",
    "\n",
    "\n",
    "plt.show();"
   ]
  },
  {
   "cell_type": "code",
   "execution_count": 142,
   "metadata": {},
   "outputs": [
    {
     "data": {
      "text/plain": [
       "count    34870.000000\n",
       "mean        49.452022\n",
       "std         10.911060\n",
       "min         19.000000\n",
       "25%         42.000000\n",
       "50%         49.000000\n",
       "75%         57.000000\n",
       "max         95.000000\n",
       "Name: IDADE, dtype: float64"
      ]
     },
     "execution_count": 142,
     "metadata": {},
     "output_type": "execute_result"
    }
   ],
   "source": [
    "base['IDADE'].describe()"
   ]
  },
  {
   "cell_type": "code",
   "execution_count": 143,
   "metadata": {},
   "outputs": [
    {
     "data": {
      "image/png": "[encoded data removed]",
      "text/plain": [
       "<Figure size 720x360 with 6 Axes>"
      ]
     },
     "metadata": {
      "needs_background": "light"
     },
     "output_type": "display_data"
    }
   ],
   "source": [
    "fig, (ax1, ax2, ax3, ax4, ax5, ax6) = plt.subplots(1,6, figsize=(10, 5), sharex=True, sharey=True)\n",
    "\n",
    "xx=df_FE['BR%'].index[0:]\n",
    "yy=df_FE['BR%']\n",
    "yy2=df_FE['SE%']\n",
    "yy3=df_FE['NE%']\n",
    "yy4=df_FE['CO%']\n",
    "yy5=df_FE['S%']\n",
    "yy6=df_FE['N%']\n",
    "\n",
    "ax1.barh(xx,yy,color='#009999')\n",
    "ax2.barh(xx,yy2,color='#009999')\n",
    "ax3.barh(xx,yy3,color='#009999')\n",
    "ax4.barh(xx,yy4,color='#009999')\n",
    "ax5.barh(xx,yy5,color='#009999')\n",
    "ax6.barh(xx,yy6,color='#009999')\n",
    "ax1.set_xlim([0, 40])\n",
    "\n",
    "\n",
    "ax1.set(title=\"Brasil\", xlabel=\"\", ylabel=\" \")\n",
    "ax2.set(title=\"SE\", xlabel=\" \", ylabel=\" \")\n",
    "ax3.set(title=\"NE\", xlabel=\"Porcentagem [%]\", ylabel=\" \")\n",
    "ax4.set(title=\"CO\", xlabel=\" \", ylabel=\" \")\n",
    "ax5.set(title=\"S\", xlabel=\" \", ylabel=\" \")\n",
    "ax6.set(title=\"N\", xlabel=\" \", ylabel=\" \")\n",
    "plt.xticks(rotation=90)\n",
    "#plt.xlim(0,60)\n",
    "plt.show()"
   ]
  },
  {
   "cell_type": "code",
   "execution_count": 144,
   "metadata": {},
   "outputs": [
    {
     "data": {
      "text/html": [
       "<div>\n",
       "<style scoped>\n",
       "    .dataframe tbody tr th:only-of-type {\n",
       "        vertical-align: middle;\n",
       "    }\n",
       "\n",
       "    .dataframe tbody tr th {\n",
       "        vertical-align: top;\n",
       "    }\n",
       "\n",
       "    .dataframe thead th {\n",
       "        text-align: right;\n",
       "    }\n",
       "</style>\n",
       "<table border=\"1\" class=\"dataframe\">\n",
       "  <thead>\n",
       "    <tr style=\"text-align: right;\">\n",
       "      <th></th>\n",
       "      <th>BR%</th>\n",
       "      <th>SE%</th>\n",
       "      <th>NE%</th>\n",
       "      <th>CO</th>\n",
       "      <th>S</th>\n",
       "      <th>N</th>\n",
       "    </tr>\n",
       "  </thead>\n",
       "  <tbody>\n",
       "    <tr>\n",
       "      <th>30 – 39 ANOS</th>\n",
       "      <td>2.360195</td>\n",
       "      <td>1.664778</td>\n",
       "      <td>3.562583</td>\n",
       "      <td>2.136458</td>\n",
       "      <td>1.456238</td>\n",
       "      <td>2.482759</td>\n",
       "    </tr>\n",
       "    <tr>\n",
       "      <th>40 – 49 ANOS</th>\n",
       "      <td>4.470892</td>\n",
       "      <td>3.625904</td>\n",
       "      <td>5.734426</td>\n",
       "      <td>4.962095</td>\n",
       "      <td>3.167693</td>\n",
       "      <td>5.379310</td>\n",
       "    </tr>\n",
       "    <tr>\n",
       "      <th>50 – 59 ANOS</th>\n",
       "      <td>4.204187</td>\n",
       "      <td>3.765362</td>\n",
       "      <td>5.058106</td>\n",
       "      <td>3.583735</td>\n",
       "      <td>3.497973</td>\n",
       "      <td>5.057471</td>\n",
       "    </tr>\n",
       "    <tr>\n",
       "      <th>60 OU SUPERIOR</th>\n",
       "      <td>1.921422</td>\n",
       "      <td>1.961126</td>\n",
       "      <td>2.524290</td>\n",
       "      <td>1.137147</td>\n",
       "      <td>1.426212</td>\n",
       "      <td>1.379310</td>\n",
       "    </tr>\n",
       "    <tr>\n",
       "      <th>ATÉ 29 ANOS</th>\n",
       "      <td>0.387152</td>\n",
       "      <td>0.287632</td>\n",
       "      <td>0.628691</td>\n",
       "      <td>0.103377</td>\n",
       "      <td>0.285242</td>\n",
       "      <td>0.413793</td>\n",
       "    </tr>\n",
       "  </tbody>\n",
       "</table>\n",
       "</div>"
      ],
      "text/plain": [
       "                     BR%       SE%       NE%        CO         S         N\n",
       "30 – 39 ANOS    2.360195  1.664778  3.562583  2.136458  1.456238  2.482759\n",
       "40 – 49 ANOS    4.470892  3.625904  5.734426  4.962095  3.167693  5.379310\n",
       "50 – 59 ANOS    4.204187  3.765362  5.058106  3.583735  3.497973  5.057471\n",
       "60 OU SUPERIOR  1.921422  1.961126  2.524290  1.137147  1.426212  1.379310\n",
       "ATÉ 29 ANOS     0.387152  0.287632  0.628691  0.103377  0.285242  0.413793"
      ]
     },
     "execution_count": 144,
     "metadata": {},
     "output_type": "execute_result"
    }
   ],
   "source": [
    "GFEBR = base.groupby('GENERO')[u'FAIXA_ETARIA'].value_counts()/len(base['FAIXA_ETARIA'])*100\n",
    "GFESE = b_SE.groupby('GENERO')[u'FAIXA_ETARIA'].value_counts()/len(b_SE['FAIXA_ETARIA'])*100\n",
    "GFENE = b_NE.groupby('GENERO')[u'FAIXA_ETARIA'].value_counts()/len(b_NE['FAIXA_ETARIA'])*100\n",
    "GFECO = b_CO.groupby('GENERO')[u'FAIXA_ETARIA'].value_counts()/len(b_CO['FAIXA_ETARIA'])*100\n",
    "GFES = b_S.groupby('GENERO')[u'FAIXA_ETARIA'].value_counts()/len(b_S['FAIXA_ETARIA'])*100\n",
    "GFEN = b_N.groupby('GENERO')[u'FAIXA_ETARIA'].value_counts()/len(b_N['FAIXA_ETARIA'])*100\n",
    "            \n",
    "\n",
    "#Verifica qual a porcentagem dos perfils FEMINININO\n",
    "FEM_GFER = {\"BR%\":GFEBR['FEMININO'][0:],\n",
    "          \"SE%\":GFESE['FEMININO'][0:],\n",
    "          \"NE%\":GFENE['FEMININO'][0:],\n",
    "          \"CO\":GFECO['FEMININO'][0:],\n",
    "          \"S\":GFES['FEMININO'][0:],\n",
    "          \"N\":GFEN['FEMININO'][0:],\n",
    "         }\n",
    "\n",
    "#Verifica qual a porcentagem dos perfils MASCULINO\n",
    "MASC_GFER = {\"BR%\":GFEBR['MASCULINO'][0:],\n",
    "          \"SE%\":GFESE['MASCULINO'][0:],\n",
    "          \"NE%\":GFENE['MASCULINO'][0:],\n",
    "          \"CO\":GFECO['MASCULINO'][0:],\n",
    "          \"S\":GFES['MASCULINO'][0:],\n",
    "          \"N\":GFEN['MASCULINO'][0:],\n",
    "         }\n",
    "\n",
    "df_FEM_GFER = pd.DataFrame(data=FEM_GFER)\n",
    "df_MASC_GFER = pd.DataFrame(data=MASC_GFER)\n",
    "df_FEM_GFER.head(15)"
   ]
  },
  {
   "cell_type": "code",
   "execution_count": 145,
   "metadata": {},
   "outputs": [
    {
     "data": {
      "text/html": [
       "<div>\n",
       "<style scoped>\n",
       "    .dataframe tbody tr th:only-of-type {\n",
       "        vertical-align: middle;\n",
       "    }\n",
       "\n",
       "    .dataframe tbody tr th {\n",
       "        vertical-align: top;\n",
       "    }\n",
       "\n",
       "    .dataframe thead th {\n",
       "        text-align: right;\n",
       "    }\n",
       "</style>\n",
       "<table border=\"1\" class=\"dataframe\">\n",
       "  <thead>\n",
       "    <tr style=\"text-align: right;\">\n",
       "      <th></th>\n",
       "      <th>BR%</th>\n",
       "      <th>SE%</th>\n",
       "      <th>NE%</th>\n",
       "      <th>CO</th>\n",
       "      <th>S</th>\n",
       "      <th>N</th>\n",
       "    </tr>\n",
       "  </thead>\n",
       "  <tbody>\n",
       "    <tr>\n",
       "      <th>30 – 39 ANOS</th>\n",
       "      <td>14.577000</td>\n",
       "      <td>13.448967</td>\n",
       "      <td>16.946085</td>\n",
       "      <td>14.059269</td>\n",
       "      <td>12.595706</td>\n",
       "      <td>16.367816</td>\n",
       "    </tr>\n",
       "    <tr>\n",
       "      <th>40 – 49 ANOS</th>\n",
       "      <td>26.518497</td>\n",
       "      <td>26.148348</td>\n",
       "      <td>25.890646</td>\n",
       "      <td>28.221916</td>\n",
       "      <td>25.731872</td>\n",
       "      <td>29.701149</td>\n",
       "    </tr>\n",
       "    <tr>\n",
       "      <th>50 – 59 ANOS</th>\n",
       "      <td>26.902782</td>\n",
       "      <td>27.752114</td>\n",
       "      <td>22.709087</td>\n",
       "      <td>28.221916</td>\n",
       "      <td>32.232398</td>\n",
       "      <td>25.655172</td>\n",
       "    </tr>\n",
       "    <tr>\n",
       "      <th>60 OU SUPERIOR</th>\n",
       "      <td>16.412389</td>\n",
       "      <td>19.506668</td>\n",
       "      <td>13.716898</td>\n",
       "      <td>15.541006</td>\n",
       "      <td>17.895211</td>\n",
       "      <td>11.632184</td>\n",
       "    </tr>\n",
       "    <tr>\n",
       "      <th>ATÉ 29 ANOS</th>\n",
       "      <td>2.245483</td>\n",
       "      <td>1.839100</td>\n",
       "      <td>3.229187</td>\n",
       "      <td>2.033081</td>\n",
       "      <td>1.711455</td>\n",
       "      <td>1.931034</td>\n",
       "    </tr>\n",
       "  </tbody>\n",
       "</table>\n",
       "</div>"
      ],
      "text/plain": [
       "                      BR%        SE%        NE%         CO          S  \\\n",
       "30 – 39 ANOS    14.577000  13.448967  16.946085  14.059269  12.595706   \n",
       "40 – 49 ANOS    26.518497  26.148348  25.890646  28.221916  25.731872   \n",
       "50 – 59 ANOS    26.902782  27.752114  22.709087  28.221916  32.232398   \n",
       "60 OU SUPERIOR  16.412389  19.506668  13.716898  15.541006  17.895211   \n",
       "ATÉ 29 ANOS      2.245483   1.839100   3.229187   2.033081   1.711455   \n",
       "\n",
       "                        N  \n",
       "30 – 39 ANOS    16.367816  \n",
       "40 – 49 ANOS    29.701149  \n",
       "50 – 59 ANOS    25.655172  \n",
       "60 OU SUPERIOR  11.632184  \n",
       "ATÉ 29 ANOS      1.931034  "
      ]
     },
     "execution_count": 145,
     "metadata": {},
     "output_type": "execute_result"
    }
   ],
   "source": [
    "df_MASC_GFER.head(15)"
   ]
  },
  {
   "cell_type": "code",
   "execution_count": 146,
   "metadata": {},
   "outputs": [
    {
     "data": {
      "image/png": "[encoded data removed]",
      "text/plain": [
       "<Figure size 720x360 with 3 Axes>"
      ]
     },
     "metadata": {
      "needs_background": "light"
     },
     "output_type": "display_data"
    }
   ],
   "source": [
    "#fig, (ax1, ax2) = plt.subplot(1, 2, figsize=(10,5))\n",
    "fig, (ax1, ax2, ax3) = plt.subplots(1,3, figsize=(10, 5), sharey=True)\n",
    "xx=df_FE['BR%'].index[0:]\n",
    "yy=df_FE['BR%']\n",
    "yy2=df_MASC_GFER['BR%']\n",
    "yy3=df_FEM_GFER['BR%']\n",
    "\n",
    "ax1.barh(xx,yy,color='#009999')\n",
    "plt.xlim(0,60)\n",
    "ax2.barh(xx,yy2,color='#009999')\n",
    "ax3.barh(xx,yy3,color='#009999')\n",
    "ax1.set_xlim([0, 40])\n",
    "ax2.set_xlim([0, 40])\n",
    "ax3.set_xlim([0, 5])\n",
    "ax1.set(title=\"Brasil - Faixa etária\", xlabel=\"Porcentagem [%]\", ylabel=\"Faixa etária\")\n",
    "ax2.set(title=\"Masculino/Faixa etária\", xlabel=\"Porcentagem [%]\", ylabel=\"Faixa etária\")\n",
    "ax3.set(title=\"Feminino/Faixa etária\", xlabel=\"Porcentagem [%]\", ylabel=\"Faixa etária\")\n",
    "#plt.xlim(0,60)\n",
    "plt.show()"
   ]
  },
  {
   "cell_type": "markdown",
   "metadata": {},
   "source": [
    "# Como está distribuído os candidatos a prefeito com relação ao estado civil?\n",
    "### A classe casado apresentou mais de 70% dos candidatos, depois a classe solteiro com 18% e divorciado com 9%."
   ]
  },
  {
   "cell_type": "code",
   "execution_count": 150,
   "metadata": {},
   "outputs": [
    {
     "data": {
      "text/plain": [
       "array(['DIVORCIADO(A)', 'CASADO(A)', 'SOLTEIRO(A)', 'VIÚVO(A)',\n",
       "       'SEPARADO(A) JUDICIALMENTE'], dtype=object)"
      ]
     },
     "execution_count": 150,
     "metadata": {},
     "output_type": "execute_result"
    }
   ],
   "source": [
    "base['ESTADO_CIVIL'].unique()"
   ]
  },
  {
   "cell_type": "code",
   "execution_count": 151,
   "metadata": {},
   "outputs": [
    {
     "data": {
      "text/plain": [
       "CASADO(A)                    69.807858\n",
       "SOLTEIRO(A)                  18.442787\n",
       "DIVORCIADO(A)                 8.741038\n",
       "VIÚVO(A)                      1.657585\n",
       "SEPARADO(A) JUDICIALMENTE     1.350731\n",
       "Name: ESTADO_CIVIL, dtype: float64"
      ]
     },
     "execution_count": 151,
     "metadata": {},
     "output_type": "execute_result"
    }
   ],
   "source": [
    "base[u'ESTADO_CIVIL'].value_counts()/len(base['ESTADO_CIVIL'])*100"
   ]
  },
  {
   "cell_type": "code",
   "execution_count": 152,
   "metadata": {},
   "outputs": [
    {
     "data": {
      "image/png": "[encoded data removed]",
      "text/plain": [
       "<Figure size 720x432 with 1 Axes>"
      ]
     },
     "metadata": {
      "needs_background": "light"
     },
     "output_type": "display_data"
    }
   ],
   "source": [
    "plt.figure(figsize=(10,6))\n",
    "\n",
    "xx=['CASADO(A)','SOLTEIRO(A)','DIVORCIADO(A)','VIÚVO(A)','SEPARADO(A) JUDICIALMENTE']\n",
    "yy=base[u'ESTADO_CIVIL'].value_counts()/len(base['ESTADO_CIVIL'])*100\n",
    "plt.bar(xx,yy, color='#009999')\n",
    "plt.xticks(rotation=90)\n",
    "plt.title('Distribuição dos candidatos a prefeito no Brasil - Estado civil')\n",
    "plt.ylabel('Porcentagem[%]')\n",
    "\n",
    "\n",
    "plt.show();"
   ]
  },
  {
   "cell_type": "markdown",
   "metadata": {},
   "source": [
    "# Algoritmos de classificação\n",
    "\n",
    "## Para dar andamento a essa etapa foi necessário transformar as reduzir as dimenções  dos atributos abaixo:\n",
    "\n",
    "#### - Grau de instrução passou de 7 para 4,  foram agregados ===> Fundamental incomp. = Fundamental Inc. + Lê e Escreve; Fundamental = Fundamental completo + Médio incompleto; Médio = Médio completo + Superior Incompleto; Superior completo.\n",
    "\n",
    "#### - Estado civil passou de 5 para 3 ===> Divórciado = Divórciado + Separado Judicialmente; Solteiro = Solteiro + Viúvo; Casado.\n",
    "\n",
    "#### - Raça passou de 6 para 4 ===> Branca; Parda; Preta; Outros = Amarelo + Indígena + sem informação.\n",
    "\n",
    "#### - Idade/Faixa etária passou de 12 para 5 com base nos dados e na aálise da faixa etária do IBGE, foi realizada uma nova classificação: abaixo de 30 anos; 30 - 39 anos; 40 - 49 anos; 50 - 59 anos; superior a 60 anos.\n",
    "\n",
    "### Finalmente foi gerado o dataset tratado para ser aplicado aos algoritmos de classificação - machine learning"
   ]
  },
  {
   "cell_type": "code",
   "execution_count": 153,
   "metadata": {},
   "outputs": [],
   "source": [
    "#\"Criando uma nova coluna, com a nova categorização de Grau de instrução\"\n",
    "base['GRAU_INSTRUCAO2'] = 'NaN'\n",
    "base.loc[base.GRAU_INSTRUCAO=='SUPERIOR COMPLETO','GRAU_INSTRUCAO2']='SUPERIOR'\n",
    "base.loc[base.GRAU_INSTRUCAO=='SUPERIOR INCOMPLETO','GRAU_INSTRUCAO2']='MÉDIO'\n",
    "base.loc[base.GRAU_INSTRUCAO=='ENSINO MÉDIO COMPLETO','GRAU_INSTRUCAO2']='MÉDIO'\n",
    "base.loc[base.GRAU_INSTRUCAO=='ENSINO FUNDAMENTAL COMPLETO','GRAU_INSTRUCAO2']='FUNDAMENTAL'\n",
    "base.loc[base.GRAU_INSTRUCAO=='ENSINO MÉDIO INCOMPLETO','GRAU_INSTRUCAO2']='FUNDAMENTAL'\n",
    "base.loc[base.GRAU_INSTRUCAO=='ENSINO FUNDAMENTAL INCOMPLETO','GRAU_INSTRUCAO2']='LÊ E ESCREVE'\n",
    "base.loc[base.GRAU_INSTRUCAO=='LÊ E ESCREVE','GRAU_INSTRUCAO2']='LÊ E ESCREVE'"
   ]
  },
  {
   "cell_type": "code",
   "execution_count": 154,
   "metadata": {},
   "outputs": [],
   "source": [
    "#\"Criando uma nova coluna, com a nova categorização de Grau de instrução\"\n",
    "base['ESTADO_CIVIL2'] = base['ESTADO_CIVIL']\n",
    "base.loc[base.ESTADO_CIVIL=='VIÚVO(A)','ESTADO_CIVIL2']='SOLTEIRO(A)'\n",
    "base.loc[base.ESTADO_CIVIL=='SEPARADO(A) JUDICIALMENTE','ESTADO_CIVIL2']='DIVORCIADO(A)'"
   ]
  },
  {
   "cell_type": "code",
   "execution_count": 155,
   "metadata": {},
   "outputs": [
    {
     "data": {
      "image/png": "[encoded data removed]",
      "text/plain": [
       "<Figure size 720x432 with 1 Axes>"
      ]
     },
     "metadata": {
      "needs_background": "light"
     },
     "output_type": "display_data"
    }
   ],
   "source": [
    "plt.figure(figsize=(10,6))\n",
    "\n",
    "xx=['CASADO(A)','SOLTEIRO(A)','DIVORCIADO(A)']\n",
    "yy=base[u'ESTADO_CIVIL2'].value_counts()/len(base['ESTADO_CIVIL2'])*100\n",
    "#yy=base[u'ESTADO_CIVIL2'].value_counts()\n",
    "plt.bar(xx,yy, color='#009999')\n",
    "plt.xticks(rotation=90)\n",
    "plt.title('Distribuição dos candidatos a prefeito no Brasil - Estado civil')\n",
    "plt.ylabel('Porcentagem[%]')\n",
    "plt.show();"
   ]
  },
  {
   "cell_type": "code",
   "execution_count": 156,
   "metadata": {},
   "outputs": [
    {
     "data": {
      "text/plain": [
       "count         34870\n",
       "unique            3\n",
       "top       CASADO(A)\n",
       "freq          24342\n",
       "Name: ESTADO_CIVIL2, dtype: object"
      ]
     },
     "execution_count": 156,
     "metadata": {},
     "output_type": "execute_result"
    }
   ],
   "source": [
    "base[u'ESTADO_CIVIL2'].describe()"
   ]
  },
  {
   "cell_type": "markdown",
   "metadata": {},
   "source": [
    "##       Geração arquivo com os principais features para a etapa de modelagem\n",
    "\n",
    "#### Criação de um arquivo com os features de input do modelo de machine learning (gênero, faixa etária, raça, estado civil, graus de instrução e faixa etária, situação final).\n"
   ]
  },
  {
   "cell_type": "code",
   "execution_count": 157,
   "metadata": {},
   "outputs": [],
   "source": [
    "#\"Criando uma nova coluna, com a nova categorização de Grau de instrução\"\n",
    "base['COR_RACA2'] = base['COR_RACA']\n",
    "base.loc[base.COR_RACA=='INDÍGENA','COR_RACA2']='OUTRO'\n",
    "base.loc[base.COR_RACA=='AMARELA','COR_RACA2']='OUTRO'\n",
    "base.loc[base.COR_RACA=='SEM INFORMAÇÃO','COR_RACA2']='OUTRO'"
   ]
  },
  {
   "cell_type": "code",
   "execution_count": 158,
   "metadata": {},
   "outputs": [
    {
     "data": {
      "text/plain": [
       "count      34870\n",
       "unique         4\n",
       "top       BRANCA\n",
       "freq       22637\n",
       "Name: COR_RACA2, dtype: object"
      ]
     },
     "execution_count": 158,
     "metadata": {},
     "output_type": "execute_result"
    }
   ],
   "source": [
    "base['COR_RACA2'].describe()"
   ]
  },
  {
   "cell_type": "code",
   "execution_count": 159,
   "metadata": {},
   "outputs": [],
   "source": [
    "#Criando um novo  Data_frame com os features principais\n",
    "basetree=pd.DataFrame(base,columns=['ANO_ELEICAO','GENERO','GRAU_INSTRUCAO2','ESTADO_CIVIL2','COR_RACA2','FAIXA_ETARIA','SITUACAO_FINAL'])\n",
    "\n",
    "# Exportando os databases\n",
    "basetree.to_csv (r'base_treeBR.csv', index = False, header=True)"
   ]
  }
 ],
 "metadata": {
  "colab": {
   "name": "analise_exploratoria.ipynb",
   "provenance": []
  },
  "kernelspec": {
   "display_name": "Python 3",
   "language": "python",
   "name": "python3"
  },
  "language_info": {
   "codemirror_mode": {
    "name": "ipython",
    "version": 3
   },
   "file_extension": ".py",
   "mimetype": "text/x-python",
   "name": "python",
   "nbconvert_exporter": "python",
   "pygments_lexer": "ipython3",
   "version": "3.7.6"
  }
 },
 "nbformat": 4,
 "nbformat_minor": 1
}
